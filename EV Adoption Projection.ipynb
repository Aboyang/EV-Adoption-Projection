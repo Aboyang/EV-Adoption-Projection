{
  "nbformat": 4,
  "nbformat_minor": 0,
  "metadata": {
    "colab": {
      "provenance": [],
      "collapsed_sections": [
        "QGCc2ocKqNty",
        "d70z5Zffe28i",
        "dZLnqEoQw5sr",
        "6Mp8Fb6uMQFo",
        "ewDF7P9xMWQ6",
        "NufopKpQMeJo",
        "6NlZvfB2Myny"
      ]
    },
    "kernelspec": {
      "name": "python3",
      "display_name": "Python 3"
    },
    "language_info": {
      "name": "python"
    }
  },
  "cells": [
    {
      "cell_type": "markdown",
      "source": [
        "# **Trend Forecasting of EV Adoption in Relation to Charging Infrastructure and Gasoline Prices**"
      ],
      "metadata": {
        "id": "QGCc2ocKqNty"
      }
    },
    {
      "cell_type": "markdown",
      "source": [
        "### **SC3021 Project – AY24/25 Semester 2**\n",
        "**Muhammad Nur Haziq Bin Abdullah (U2310792G)**\n",
        "<br>**Sinfuego Summer Daphne Tan (U2311061B)**\n",
        "<br>**Tee Kai Yang (U2410470A)**"
      ],
      "metadata": {
        "id": "UeThD1bWqgBA"
      }
    },
    {
      "cell_type": "markdown",
      "source": [
        "## **Hypothesis/analysis Goal**"
      ],
      "metadata": {
        "id": "kRJmwOqti8GF"
      }
    },
    {
      "cell_type": "markdown",
      "source": [
        "The shift towards Electric Vehicles (EV) has become a global phenomenon in response to climate change and the need for more sustainable transport. As a result, Electric Vehicle (EV) adoption has been growing globally, but adoption rates vary significantly across regions due to factors such as infrastructure, government incentives, fuel prices, and consumer preferences. Understanding these factors can help policymakers and businesses accelerate EV adoption.\n",
        "\n",
        "This project aims to analyse and investigate the correlation between three key variables:\n",
        "*   **EV Sales**\n",
        "*   **Charging Infrastructure Availability**\n",
        "*   **Fuel Prices**\n",
        "\n",
        "We hypothesise that:\n",
        "*   An ***increase*** in the number of EV charging stations is *positively correlated* with an ***increase*** in EV adoption.\n",
        "*   An ***increase*** in gasoline prices is *positively correlated* with an ***increase*** in EV adoption, as customers seek cost-efficient alternatives to vehicles fueled by gasoline.\n",
        "\n",
        "To validate this hypothesis, we will analyse historical data and apply **regression** and **time series forecasting** techniques to model interdependencies and trends for the past years, as well as projections for future years. The findings can help policymakers, manufacturers, and infrastructure planners make data-driven decisions surrounding EVs and their adoption.\n",
        "\n",
        "\n",
        "\n"
      ],
      "metadata": {
        "id": "Lhk5mWx7bBrI"
      }
    },
    {
      "cell_type": "markdown",
      "source": [
        "\n",
        "Moreover, we chose to narrow our investigation down to within the United States for several reasons:\n",
        "1.   **Leader in Global EV Growth**: The USA has one of the most influential and rapidly growing EV markets globally. The country's national goals complement this, such as aiming for 50% of new car sales to be EVs by 2030. This allows the USA's EV landscape to greatly complement our investigation.\n",
        "2.   **Accelerated EV Infrastructure**: The USA has committed billions of dollars to expanding EV infrastructure, including the Bipartisan Infrastructure Law which allocates over $7.5 billion to public charging networks.\n",
        "3. **Ideal Case Study for Policy**: The USA's policies, fluctuating fuel prices, and growing public awareness on EVs makes it an ideal real-world case study for investigating how economic and infrastructural factors influence EV adoption.\n",
        "\n",
        "Thus, focusing on the US not only gives us ample data to work with and analyse, but also produce insights that are highly applicable and relevant to current and future policymaking and infrastructure planning.\n"
      ],
      "metadata": {
        "id": "lu3RxWuyzazt"
      }
    },
    {
      "cell_type": "markdown",
      "source": [
        "## **Data Source Identification & Exploration**"
      ],
      "metadata": {
        "id": "d70z5Zffe28i"
      }
    },
    {
      "cell_type": "markdown",
      "source": [
        "### Requirements Analysis"
      ],
      "metadata": {
        "id": "l_Jv-VwOmdHt"
      }
    },
    {
      "cell_type": "markdown",
      "source": [
        "To most effectively analyse the relationship between our three variables (EV adoption, charging infrastructure, gasoline prices) and forecast trends through 2026, we will need appropriate data to work on. To do this, a clear and thorough requirements analysis is essential, ensuring our data is most appropriate and aligned with our hypothesis, while supporting both statistical modeling and time series forecasting.\n",
        "\n",
        "To ensure accurate and meaningful analysis, we require:\n",
        "\n",
        "1. **Sufficient historical data** (past 5-10 years) to analyze trends.\n",
        "2. **Multiple datasets** (at least 3) to cross-validate findings."
      ],
      "metadata": {
        "id": "5OBTg0T3lUK_"
      }
    },
    {
      "cell_type": "markdown",
      "source": [
        "To meet our investigation's goals, the datasets we use must satisfy the following criteria:\n",
        "\n",
        "1. **Sufficient historical data**: The data must span a consistent and considerably length time period (preferably from early 2010 to late 2024/early 2025) to allow for meaningful trend analysis allowing us to forecast for the future.\n",
        "\n",
        "2. **Date granularity by month**: Datasets should ideally be aggregated by month (or even more granular) allowing us to explore correlations and trends in deeper detail.\n",
        "\n",
        "3. **Geographic consistency**: All datasets must have complete data on the United States (as our investigation is focused on the USA).\n",
        "\n",
        "4. **Completeness and high data quality**: We are looking for well-defined, consistently formatted, high quality datsets with ideally no null values.\n",
        "\n",
        "5. **Well-structured**: We want well-structured datasets, enabling direct aggregation, leading to regression and time series forecasting without the need for extensive codes to prepare the data.\n",
        "\n",
        "Keeping these in mind, we will look for 6 datasets that provides data on our three variables (i.e. 2 for EV adoption, 2 for EV infrastructure, 2 for gasoline prices), and will be conducting final selection of what datasets to use via data profiling."
      ],
      "metadata": {
        "id": "hb9H9Ra7mg2-"
      }
    },
    {
      "cell_type": "markdown",
      "source": [
        "### Datasets Gathered"
      ],
      "metadata": {
        "id": "dZLnqEoQw5sr"
      }
    },
    {
      "cell_type": "markdown",
      "source": [
        "Hence, we gathered 6 sources that we will be choosing from for our analysis:\n",
        "\n",
        "**EV Adoption Rates**\n",
        "- DS1: https://www.kaggle.com/datasets/patricklford/global-ev-sales-2010-2024\n",
        "- DS2: https://www.anl.gov/sites/www/files/2025-03/Total%20Sales%20for%20Website_February%202025.pdf\n",
        "\n",
        "**Charging Infrastucture**\n",
        "- DS3: https://www.kaggle.com/datasets/vivekattri/global-ev-charging-stations-dataset\n",
        "- DS4: https://www.kaggle.com/datasets/salvatoresaia/ev-charging-stations-us\n",
        "\n",
        "**Gasoline Price**\n",
        "- DS5: https://www.eia.gov/dnav/pet/hist/LeafHandler.ashx?n=PET&s=EMM_EPM0_PTE_NUS_DPG&f=W\n",
        "- DS6: https://www.kaggle.com/datasets/zusmani/petrolgas-prices-worldwide\n",
        "\n",
        "In the data profiling process, we will outline the sources above and justify our final source selection."
      ],
      "metadata": {
        "id": "cuSnldNCfJLL"
      }
    },
    {
      "cell_type": "markdown",
      "source": [
        "## **Importing modules**"
      ],
      "metadata": {
        "id": "OSe5My0RiR2Z"
      }
    },
    {
      "cell_type": "markdown",
      "source": [
        "We are performing time series forecasting using the **ARIMA** model, which requires the `pmdarima` library.  \n",
        "To ensure compatibility during installation, we first install a specific version of `numpy` that is known to work well with `pmdarima`."
      ],
      "metadata": {
        "id": "5Z_8B40KdHJF"
      }
    },
    {
      "cell_type": "code",
      "source": [
        "!pip install pmdarima\n",
        "!pip install numpy==1.25.2 --force-reinstall"
      ],
      "metadata": {
        "id": "17Z4coohhQ_k",
        "colab": {
          "base_uri": "https://localhost:8080/",
          "height": 745
        },
        "outputId": "f77cd15c-e37f-4c3b-b1f4-c99c8259544d"
      },
      "execution_count": null,
      "outputs": [
        {
          "output_type": "stream",
          "name": "stdout",
          "text": [
            "Collecting pmdarima\n",
            "  Downloading pmdarima-2.0.4-cp311-cp311-manylinux_2_17_x86_64.manylinux2014_x86_64.manylinux_2_28_x86_64.whl.metadata (7.8 kB)\n",
            "Requirement already satisfied: joblib>=0.11 in /usr/local/lib/python3.11/dist-packages (from pmdarima) (1.4.2)\n",
            "Requirement already satisfied: Cython!=0.29.18,!=0.29.31,>=0.29 in /usr/local/lib/python3.11/dist-packages (from pmdarima) (3.0.12)\n",
            "Requirement already satisfied: numpy>=1.21.2 in /usr/local/lib/python3.11/dist-packages (from pmdarima) (2.0.2)\n",
            "Requirement already satisfied: pandas>=0.19 in /usr/local/lib/python3.11/dist-packages (from pmdarima) (2.2.2)\n",
            "Requirement already satisfied: scikit-learn>=0.22 in /usr/local/lib/python3.11/dist-packages (from pmdarima) (1.6.1)\n",
            "Requirement already satisfied: scipy>=1.3.2 in /usr/local/lib/python3.11/dist-packages (from pmdarima) (1.14.1)\n",
            "Requirement already satisfied: statsmodels>=0.13.2 in /usr/local/lib/python3.11/dist-packages (from pmdarima) (0.14.4)\n",
            "Requirement already satisfied: urllib3 in /usr/local/lib/python3.11/dist-packages (from pmdarima) (2.3.0)\n",
            "Requirement already satisfied: setuptools!=50.0.0,>=38.6.0 in /usr/local/lib/python3.11/dist-packages (from pmdarima) (75.2.0)\n",
            "Requirement already satisfied: packaging>=17.1 in /usr/local/lib/python3.11/dist-packages (from pmdarima) (24.2)\n",
            "Requirement already satisfied: python-dateutil>=2.8.2 in /usr/local/lib/python3.11/dist-packages (from pandas>=0.19->pmdarima) (2.8.2)\n",
            "Requirement already satisfied: pytz>=2020.1 in /usr/local/lib/python3.11/dist-packages (from pandas>=0.19->pmdarima) (2025.2)\n",
            "Requirement already satisfied: tzdata>=2022.7 in /usr/local/lib/python3.11/dist-packages (from pandas>=0.19->pmdarima) (2025.2)\n",
            "Requirement already satisfied: threadpoolctl>=3.1.0 in /usr/local/lib/python3.11/dist-packages (from scikit-learn>=0.22->pmdarima) (3.6.0)\n",
            "Requirement already satisfied: patsy>=0.5.6 in /usr/local/lib/python3.11/dist-packages (from statsmodels>=0.13.2->pmdarima) (1.0.1)\n",
            "Requirement already satisfied: six>=1.5 in /usr/local/lib/python3.11/dist-packages (from python-dateutil>=2.8.2->pandas>=0.19->pmdarima) (1.17.0)\n",
            "Downloading pmdarima-2.0.4-cp311-cp311-manylinux_2_17_x86_64.manylinux2014_x86_64.manylinux_2_28_x86_64.whl (2.2 MB)\n",
            "\u001b[2K   \u001b[90m━━━━━━━━━━━━━━━━━━━━━━━━━━━━━━━━━━━━━━━━\u001b[0m \u001b[32m2.2/2.2 MB\u001b[0m \u001b[31m45.8 MB/s\u001b[0m eta \u001b[36m0:00:00\u001b[0m\n",
            "\u001b[?25hInstalling collected packages: pmdarima\n",
            "Successfully installed pmdarima-2.0.4\n",
            "Collecting numpy==1.25.2\n",
            "  Downloading numpy-1.25.2-cp311-cp311-manylinux_2_17_x86_64.manylinux2014_x86_64.whl.metadata (5.6 kB)\n",
            "Downloading numpy-1.25.2-cp311-cp311-manylinux_2_17_x86_64.manylinux2014_x86_64.whl (18.2 MB)\n",
            "\u001b[2K   \u001b[90m━━━━━━━━━━━━━━━━━━━━━━━━━━━━━━━━━━━━━━━━\u001b[0m \u001b[32m18.2/18.2 MB\u001b[0m \u001b[31m57.8 MB/s\u001b[0m eta \u001b[36m0:00:00\u001b[0m\n",
            "\u001b[?25hInstalling collected packages: numpy\n",
            "  Attempting uninstall: numpy\n",
            "    Found existing installation: numpy 2.0.2\n",
            "    Uninstalling numpy-2.0.2:\n",
            "      Successfully uninstalled numpy-2.0.2\n",
            "\u001b[31mERROR: pip's dependency resolver does not currently take into account all the packages that are installed. This behaviour is the source of the following dependency conflicts.\n",
            "tensorflow 2.18.0 requires numpy<2.1.0,>=1.26.0, but you have numpy 1.25.2 which is incompatible.\n",
            "thinc 8.3.6 requires numpy<3.0.0,>=2.0.0, but you have numpy 1.25.2 which is incompatible.\n",
            "blosc2 3.3.1 requires numpy>=1.26, but you have numpy 1.25.2 which is incompatible.\u001b[0m\u001b[31m\n",
            "\u001b[0mSuccessfully installed numpy-1.25.2\n"
          ]
        },
        {
          "output_type": "display_data",
          "data": {
            "application/vnd.colab-display-data+json": {
              "pip_warning": {
                "packages": [
                  "numpy"
                ]
              },
              "id": "eea0f3ed919f4d299487fc36165bb73a"
            }
          },
          "metadata": {}
        }
      ]
    },
    {
      "cell_type": "markdown",
      "source": [
        "The rest of the modules are required too."
      ],
      "metadata": {
        "id": "3RvC7lwDwu0z"
      }
    },
    {
      "cell_type": "code",
      "source": [
        "import pandas as pd\n",
        "import matplotlib.pyplot as plt\n",
        "import plotly.graph_objects as go\n",
        "import seaborn as sns\n",
        "from statsmodels.tsa.stattools import adfuller\n",
        "import pmdarima as pm\n",
        "from statsmodels.tsa.statespace.sarimax import SARIMAX\n",
        "from scipy.stats import skew\n",
        "import numpy as np\n",
        "import statsmodels.api as sm"
      ],
      "metadata": {
        "id": "7ff_llkzjX_f"
      },
      "execution_count": null,
      "outputs": []
    },
    {
      "cell_type": "markdown",
      "source": [
        "For each dataset we gathered, we will be conducting data profiling. Based on the requirements analysis, data profiling will comprise of the following main steps and information we identify about the dataset:\n",
        "\n",
        "**1.   Basic Dataset Info**\n",
        "*   **Number of rows**\n",
        "*   **Number of columns**\n",
        "*   **Column names**\n",
        "*   **Date range (month/year)**\n",
        "\n",
        "**2.   Null values per column**\n",
        "\n",
        "**3. Sample of dataset (first few rows)**\n",
        "\n",
        "These steps and implementation during the data profiling process may vary based on the individual characteristics (e.g. global vs USA) and data available in each dataset.\n",
        "\n",
        "\n",
        "We decided not to use some conventional data profiling steps such as measures of central tendency and outliers (e.g. finding the mean/median/mode and standard deviation), as these profiling steps are not pertinent to our investigation and data which we are expecting to naturally have fluctuations that do not correspond to a certain pattern. Hence, we decided on the most suitable data profiling methodology to be the one enumerated above."
      ],
      "metadata": {
        "id": "dAi9RElPImQ9"
      }
    },
    {
      "cell_type": "markdown",
      "source": [
        "## **Data Profiling**"
      ],
      "metadata": {
        "id": "EN9R5T5x9lx-"
      }
    },
    {
      "cell_type": "markdown",
      "source": [
        "### Dataset 1 (DS1)\n"
      ],
      "metadata": {
        "id": "sxx3gY5JdWN5"
      }
    },
    {
      "cell_type": "markdown",
      "source": [
        "**DS1**, obtained from [Kaggle](https://www.kaggle.com/datasets/patricklford/global-ev-sales-2010-2024), provides a varied assortment of EV-related data **worldwide**. We intend to use this dataset to provide insight into EV adoption rates. Before determining whether we were to use this dataset, we conducted data profiling."
      ],
      "metadata": {
        "id": "ztflvqS_9x-Y"
      }
    },
    {
      "cell_type": "code",
      "source": [
        "ds1 = pd.read_csv(\"ds1.csv\")\n",
        "\n",
        "print(\"Basic Dataset Info\")\n",
        "print(f\"Rows: {ds1.shape[0]}\")\n",
        "print(f\"Columns: {ds1.shape[1]}\")\n",
        "print(f\"Column Names: {ds1.columns.tolist()}\")\n",
        "print(f\"Range of years for Historical data: {ds1[ds1['category'] == 'Historical']['year'].min()} to {ds1[ds1['category'] == 'Historical']['year'].max()}\")"
      ],
      "metadata": {
        "id": "HLrhO5PJzsGu",
        "colab": {
          "base_uri": "https://localhost:8080/"
        },
        "outputId": "ca3bb451-644f-4853-e5df-098223e1951c"
      },
      "execution_count": null,
      "outputs": [
        {
          "output_type": "stream",
          "name": "stdout",
          "text": [
            "Basic Dataset Info\n",
            "Rows: 12654\n",
            "Columns: 8\n",
            "Column Names: ['region', 'category', 'parameter', 'mode', 'powertrain', 'year', 'unit', 'value']\n",
            "Range of years for Historical data: 2010 to 2023\n"
          ]
        }
      ]
    },
    {
      "cell_type": "markdown",
      "source": [
        "DS1 contains a total of **12,654 rows**, and **8 columns** spanning a multi-dimensional view of EV metrics. Historical data for this dataset spans from **2010 to 2023**, sorted by `Year`, and goes into the further years with projection data.\n",
        "\n",
        "It is worth noting that some columns, such as `category` and `parameter`, contain attributes that are not relevant to our investigation, such as `Projection-APS` and `EV stock` respectively. Our goal for this dataset is to gain insight into EV sales and adoption rates."
      ],
      "metadata": {
        "id": "mFESce8e-65v"
      }
    },
    {
      "cell_type": "code",
      "source": [
        "usa_count = ds1[ds1['region'] == 'USA'].shape[0]\n",
        "print(f\"USA data: {usa_count}\")"
      ],
      "metadata": {
        "id": "-Vd6wuH4DbMD",
        "colab": {
          "base_uri": "https://localhost:8080/"
        },
        "outputId": "407c4fc7-f1a3-4b1b-fc49-9c95a449a7fb"
      },
      "execution_count": null,
      "outputs": [
        {
          "output_type": "stream",
          "name": "stdout",
          "text": [
            "USA data: 737\n"
          ]
        }
      ]
    },
    {
      "cell_type": "markdown",
      "source": [
        "We also are only interested in **USA EV data**. Data profiling helps us in finding out how much USA data is available. We find that **737 rows** of USA data is available, quite a substantial number still. However, this contains both needed and unnecessary data for our requirements, e.g. it still includes projections."
      ],
      "metadata": {
        "id": "Q23BgGrjbv37"
      }
    },
    {
      "cell_type": "code",
      "source": [
        "print(\"\\nNull Values Per Column\")\n",
        "print(ds1.isnull().sum())\n",
        "print(f\"Percentage of null values: {(ds1.isnull().sum())/(ds1.shape[0])*100}%\")"
      ],
      "metadata": {
        "id": "XKrJzddk0v1I",
        "colab": {
          "base_uri": "https://localhost:8080/"
        },
        "outputId": "73f18ec1-78ab-4c6b-9682-827f7ebc1db4"
      },
      "execution_count": null,
      "outputs": [
        {
          "output_type": "stream",
          "name": "stdout",
          "text": [
            "\n",
            "Null Values Per Column\n",
            "region        0\n",
            "category      0\n",
            "parameter     0\n",
            "mode          0\n",
            "powertrain    0\n",
            "year          0\n",
            "unit          0\n",
            "value         0\n",
            "dtype: int64\n",
            "Percentage of null values: region        0.0\n",
            "category      0.0\n",
            "parameter     0.0\n",
            "mode          0.0\n",
            "powertrain    0.0\n",
            "year          0.0\n",
            "unit          0.0\n",
            "value         0.0\n",
            "dtype: float64%\n"
          ]
        }
      ]
    },
    {
      "cell_type": "markdown",
      "source": [
        "It is also highly important to ascertain if there are any null values in the dataset. Based on the output, there is no missing values, which is promising."
      ],
      "metadata": {
        "id": "vOkvU1dR-J_2"
      }
    },
    {
      "cell_type": "code",
      "source": [
        "print(\"\\nSample Data\")\n",
        "ds1 = ds1[ds1['region'] == 'USA']\n",
        "print(ds1.head())"
      ],
      "metadata": {
        "id": "2J1gws0Hjeww",
        "colab": {
          "base_uri": "https://localhost:8080/"
        },
        "outputId": "3f96766f-e793-4611-dbd6-4a4a3df34989"
      },
      "execution_count": null,
      "outputs": [
        {
          "output_type": "stream",
          "name": "stdout",
          "text": [
            "\n",
            "Sample Data\n",
            "      region    category                      parameter  mode powertrain  \\\n",
            "10667    USA  Historical                       EV sales  Cars        BEV   \n",
            "10668    USA  Historical                       EV stock  Cars        BEV   \n",
            "10669    USA  Historical           Oil displacement Mbd  Cars         EV   \n",
            "10670    USA  Historical  Oil displacement, million lge  Cars         EV   \n",
            "10671    USA  Historical             Electricity demand  Cars         EV   \n",
            "\n",
            "       year                           unit       value  \n",
            "10667  2010                       Vehicles  1200.00000  \n",
            "10668  2010                       Vehicles  3800.00000  \n",
            "10669  2010         Milion barrels per day     0.00016  \n",
            "10670  2010  Oil displacement, million lge     9.40000  \n",
            "10671  2010                            GWh    96.00000  \n"
          ]
        }
      ]
    },
    {
      "cell_type": "markdown",
      "source": [
        "Sample data, limiting region to the USA, is visualised with the code above."
      ],
      "metadata": {
        "id": "hEmuFWCwjjlA"
      }
    },
    {
      "cell_type": "markdown",
      "source": [
        "With this, we are able to evaluate the pros and cons of DS1:\n",
        "\n",
        "**Pros**\n",
        "*   High data quality, with no nulls, and well-labeled fields.\n",
        "*   High granularity, allowing for highly segmented analysis.\n",
        "\n",
        "**Cons**\n",
        "*   High granularity, requiring significant filtering and aggregation to conduct our analyses.\n",
        "*   A large number of attributes and data are inapplicable for our project, leaving few left.\n",
        "*   Data is not very updated, with historical data ending at 2023.\n",
        "* Data is in `Year` format, not allowing for more detail (i.e. cannot ascertain Month from data).\n",
        "\n"
      ],
      "metadata": {
        "id": "eVYv8YVpj925"
      }
    },
    {
      "cell_type": "markdown",
      "source": [
        "Hence, we decided to **not use DS1 in our project**, as we felt that the limited range of dates and largely unusable data may lead us to discover better options for gaining insight on EV Adoption in the USA."
      ],
      "metadata": {
        "id": "Lu9RjKFYj9ug"
      }
    },
    {
      "cell_type": "markdown",
      "source": [
        "### Dataset 2 (DS2)"
      ],
      "metadata": {
        "id": "YeRYGmTeb4w5"
      }
    },
    {
      "cell_type": "markdown",
      "source": [
        "**DS2**, obtained from [Argonne National Laboratory in the US](https://www.anl.gov/sites/www/files/2025-03/Total%20Sales%20for%20Website_February%202025.pdf), provides data **exclusively on EV sales in the USA**, making it simpler to derive insights into adoption rates. As with DS1, we first conducted data profiling. The data was initially only available in PDF form, so we first converted it to .xlsx then to .csv for our profiling."
      ],
      "metadata": {
        "id": "uP9E6gsOloVr"
      }
    },
    {
      "cell_type": "code",
      "source": [
        "ds2 = pd.read_csv(\"ds2.csv\")\n",
        "\n",
        "print(\"Basic Dataset Info\")\n",
        "print(f\"Rows: {ds2.shape[0]}\")\n",
        "print(f\"Columns: {ds2.shape[1]}\")\n",
        "print(f\"Column Names: {ds2.columns.tolist()}\")\n",
        "print(f\"Date range: {pd.to_datetime(ds2['Month'], format='%b-%y').min().strftime('%b-%y')} to {pd.to_datetime(ds2['Month'], format='%b-%y').max().strftime('%b-%y')}\")\n",
        "\n",
        "print(\"\\nNull Values Per Column\")\n",
        "print(ds2.isnull().sum())\n",
        "print(f\"Percentage of null values: {(ds2.isnull().sum())/(ds2.shape[0])*100}%\")"
      ],
      "metadata": {
        "id": "LZf38b53jqrt",
        "colab": {
          "base_uri": "https://localhost:8080/"
        },
        "outputId": "035314eb-9c6a-4ead-99a6-ea97648afeda"
      },
      "execution_count": null,
      "outputs": [
        {
          "output_type": "stream",
          "name": "stdout",
          "text": [
            "Basic Dataset Info\n",
            "Rows: 171\n",
            "Columns: 5\n",
            "Column Names: ['Month', 'BEV', 'PHEV', 'HEV', 'Total LDV']\n",
            "Date range: Dec-10 to Feb-25\n",
            "\n",
            "Null Values Per Column\n",
            "Month        0\n",
            "BEV          0\n",
            "PHEV         0\n",
            "HEV          0\n",
            "Total LDV    0\n",
            "dtype: int64\n",
            "Percentage of null values: Month        0.0\n",
            "BEV          0.0\n",
            "PHEV         0.0\n",
            "HEV          0.0\n",
            "Total LDV    0.0\n",
            "dtype: float64%\n"
          ]
        }
      ]
    },
    {
      "cell_type": "markdown",
      "source": [
        "DS2 contains 171 rows and 5 columns. All columns are applicable to our investigation; with this dataset, we aim to derive insights into EV adoption rates, hence we need adoption data for `BEV`, `PHEV`, and `HEV` and it would be beneficial to express it as a percentage of `Total LDV` to ascertain the adoption of EVs out of all LDVs.\n",
        "\n",
        "The dates on the dataset are formatted in `Month-YY`, so that we can do a more detailed analysis on EV adoption trends with regards to time. The date range is also very wide and covers up until very recently, from **Dec 2010 to Feb 2025**.\n",
        "\n",
        "DS2 doesn't contain any null values either, which is beneficial for our analysis."
      ],
      "metadata": {
        "id": "zQDVYlXPb4dg"
      }
    },
    {
      "cell_type": "code",
      "source": [
        "print(\"\\nSample Data\")\n",
        "print(ds2.head())"
      ],
      "metadata": {
        "id": "iBItf6wFGlIW",
        "colab": {
          "base_uri": "https://localhost:8080/"
        },
        "outputId": "7e2e73ca-80a8-4cde-da9c-91b43bcd478a"
      },
      "execution_count": null,
      "outputs": [
        {
          "output_type": "stream",
          "name": "stdout",
          "text": [
            "\n",
            "Sample Data\n",
            "    Month  BEV PHEV     HEV  Total LDV\n",
            "0  Dec-10   19  326  28,592  1,144,840\n",
            "1  Jan-11  103  321  19,540    819,938\n",
            "2  Feb-11   83  281  23,306    993,535\n",
            "3  Mar-11  298  608  34,533  1,246,668\n",
            "4  Apr-11  573  493  25,602  1,157,928\n"
          ]
        }
      ]
    },
    {
      "cell_type": "markdown",
      "source": [
        "The code above provides a sample outlook into what the data from DS2 looks like."
      ],
      "metadata": {
        "id": "8YGZ0OebFT_c"
      }
    },
    {
      "cell_type": "markdown",
      "source": [
        "We then evaluated the pros and cons of DS2:\n",
        "\n",
        "**Pros**\n",
        "*   High data quality, with no nulls, and well-labeled fields.\n",
        "*   Simplicity of aggregation for country, as all data is from the USA.\n",
        "*   Wide coverage of dates, from Dec 2010 extending all the way to quite recent at Feb 2025.\n",
        "* Data allows for more detailed date aggregation with Month available.\n",
        "\n",
        "**Cons**\n",
        "*   No significant cons as this dataset is very fitting with our analysis."
      ],
      "metadata": {
        "id": "L7WnojEDGvyg"
      }
    },
    {
      "cell_type": "markdown",
      "source": [
        "In line with this, we decided **to use DS2** for our investigation as we believe it is a great fit for what we want to find (EV adoption trends), the granularity of dates, and the ease of aggregation with all data being from the USA."
      ],
      "metadata": {
        "id": "Xb2LKow0HSal"
      }
    },
    {
      "cell_type": "markdown",
      "source": [
        "### Dataset 3 (DS3)"
      ],
      "metadata": {
        "id": "M1RxME2pc-mv"
      }
    },
    {
      "cell_type": "markdown",
      "source": [
        "**DS3**, obtained from [Kaggle](https://www.kaggle.com/datasets/vivekattri/global-ev-charging-stations-dataset), gives a look into EV stations **worldwide**. We conducted the following data profiling steps:"
      ],
      "metadata": {
        "id": "h6vgRKs0nW5b"
      }
    },
    {
      "cell_type": "code",
      "source": [
        "ds3 = pd.read_csv(\"ds3.csv\")\n",
        "\n",
        "print(\"Basic Dataset Info\")\n",
        "print(f\"Rows: {ds3.shape[0]}\")\n",
        "print(f\"Columns: {ds3.shape[1]}\")\n",
        "print(f\"Column Names: {ds3.columns.tolist()}\")\n",
        "print(f\"Range: {ds3['Installation Year'].min()} to {ds3['Installation Year'].max()}\")\n",
        "\n",
        "print(\"\\nNull Values Per Column\")\n",
        "print(ds3.isnull().sum())\n",
        "print(f\"Percentage of null values: {(ds3.isnull().sum())/(ds3.shape[0])*100}%\")"
      ],
      "metadata": {
        "id": "DOIdxW63meJt",
        "colab": {
          "base_uri": "https://localhost:8080/"
        },
        "outputId": "9a90c164-3ecf-4b60-9bac-906fe4d31a12"
      },
      "execution_count": null,
      "outputs": [
        {
          "output_type": "stream",
          "name": "stdout",
          "text": [
            "Basic Dataset Info\n",
            "Rows: 5000\n",
            "Columns: 17\n",
            "Column Names: ['Station ID', 'Latitude', 'Longitude', 'Address', 'Charger Type', 'Cost (USD/kWh)', 'Availability', 'Distance to City (km)', 'Usage Stats (avg users/day)', 'Station Operator', 'Charging Capacity (kW)', 'Connector Types', 'Installation Year', 'Renewable Energy Source', 'Reviews (Rating)', 'Parking Spots', 'Maintenance Frequency']\n",
            "Range: 2010 to 2023\n",
            "\n",
            "Null Values Per Column\n",
            "Station ID                     0\n",
            "Latitude                       0\n",
            "Longitude                      0\n",
            "Address                        0\n",
            "Charger Type                   0\n",
            "Cost (USD/kWh)                 0\n",
            "Availability                   0\n",
            "Distance to City (km)          0\n",
            "Usage Stats (avg users/day)    0\n",
            "Station Operator               0\n",
            "Charging Capacity (kW)         0\n",
            "Connector Types                0\n",
            "Installation Year              0\n",
            "Renewable Energy Source        0\n",
            "Reviews (Rating)               0\n",
            "Parking Spots                  0\n",
            "Maintenance Frequency          0\n",
            "dtype: int64\n",
            "Percentage of null values: Station ID                     0.0\n",
            "Latitude                       0.0\n",
            "Longitude                      0.0\n",
            "Address                        0.0\n",
            "Charger Type                   0.0\n",
            "Cost (USD/kWh)                 0.0\n",
            "Availability                   0.0\n",
            "Distance to City (km)          0.0\n",
            "Usage Stats (avg users/day)    0.0\n",
            "Station Operator               0.0\n",
            "Charging Capacity (kW)         0.0\n",
            "Connector Types                0.0\n",
            "Installation Year              0.0\n",
            "Renewable Energy Source        0.0\n",
            "Reviews (Rating)               0.0\n",
            "Parking Spots                  0.0\n",
            "Maintenance Frequency          0.0\n",
            "dtype: float64%\n"
          ]
        }
      ]
    },
    {
      "cell_type": "markdown",
      "source": [
        "This dataset has **5000 rows** and **17 columns**, most of which are unneeded for our analysis (unneeded columns include `Latitude`, `Charger Type`, and `Station Operator`, among others). The range of data is from **2010-2023**, and this is formatted by `Installation Year`, making the dataset not as specific (to month) and updated as it would ideally be.\n",
        "\n",
        "One upside, however, is that there are no null values in the dataset, indicating data completeness."
      ],
      "metadata": {
        "id": "yhP2MXasdAVf"
      }
    },
    {
      "cell_type": "code",
      "source": [
        "print(\"\\nLocation Data\")\n",
        "print(ds3['Address'].head())\n",
        "print(f\"Number of Unique Addresses: {ds3['Address'].nunique()}\")"
      ],
      "metadata": {
        "id": "OwPy24PfsMMH",
        "colab": {
          "base_uri": "https://localhost:8080/"
        },
        "outputId": "2e845cee-4d22-49d2-8a6c-8fdd4906eaf4"
      },
      "execution_count": null,
      "outputs": [
        {
          "output_type": "stream",
          "name": "stdout",
          "text": [
            "\n",
            "Location Data\n",
            "0         4826 Random Rd, City 98, Country\n",
            "1    8970 San Francisco Ave, San Francisco\n",
            "2                5974 Bangkok Ave, Bangkok\n",
            "3                6995 Toronto Ave, Toronto\n",
            "4                  5704 Mumbai Ave, Mumbai\n",
            "Name: Address, dtype: object\n",
            "Number of Unique Addresses: 4933\n"
          ]
        }
      ]
    },
    {
      "cell_type": "markdown",
      "source": [
        "As this is a dataset for global EV charging stations, we are only looking for USA stations and would like to filter the data based on this. However, there may be barriers to this, as EV charging stations' address attribute is not simply the Country but are in a City, Country format, e.g. `Beijing, China`. The code above shows more examples of this.\n",
        "\n",
        "This leads to 4933 unique station addresses, and this would make it considerably more difficult than ideal for us to sort our data by USA-only, creating extra steps in our data preparation."
      ],
      "metadata": {
        "id": "rz69taPcsN_g"
      }
    },
    {
      "cell_type": "code",
      "source": [
        "print(\"\\nSample Data\")\n",
        "print(ds3.head())"
      ],
      "metadata": {
        "id": "suDWk38ItMV9",
        "colab": {
          "base_uri": "https://localhost:8080/"
        },
        "outputId": "6f25eb95-0884-4736-ae66-54c0d2da78e3"
      },
      "execution_count": null,
      "outputs": [
        {
          "output_type": "stream",
          "name": "stdout",
          "text": [
            "\n",
            "Sample Data\n",
            "  Station ID   Latitude   Longitude                                Address  \\\n",
            "0   EVS00001 -33.400998   77.974972       4826 Random Rd, City 98, Country   \n",
            "1   EVS00002  37.861857 -122.490299  8970 San Francisco Ave, San Francisco   \n",
            "2   EVS00003  13.776092  100.412776              5974 Bangkok Ave, Bangkok   \n",
            "3   EVS00004  43.628250  -79.468935              6995 Toronto Ave, Toronto   \n",
            "4   EVS00005  19.119865   72.913368                5704 Mumbai Ave, Mumbai   \n",
            "\n",
            "      Charger Type  Cost (USD/kWh) Availability  Distance to City (km)  \\\n",
            "0       AC Level 2            0.27   9:00-18:00                   4.95   \n",
            "1  DC Fast Charger            0.19         24/7                   4.96   \n",
            "2       AC Level 2            0.48   6:00-22:00                   8.54   \n",
            "3       AC Level 1            0.41   9:00-18:00                  13.28   \n",
            "4       AC Level 2            0.11   9:00-18:00                   9.76   \n",
            "\n",
            "   Usage Stats (avg users/day) Station Operator  Charging Capacity (kW)  \\\n",
            "0                           35             EVgo                     350   \n",
            "1                           83             EVgo                     350   \n",
            "2                           24      ChargePoint                      50   \n",
            "3                           70        Greenlots                     350   \n",
            "4                           19             EVgo                     350   \n",
            "\n",
            "  Connector Types  Installation Year Renewable Energy Source  \\\n",
            "0    CCS, CHAdeMO               2013                     Yes   \n",
            "1   Tesla, Type 2               2010                     Yes   \n",
            "2     Type 2, CCS               2019                      No   \n",
            "3          Type 2               2010                     Yes   \n",
            "4             CCS               2015                     Yes   \n",
            "\n",
            "   Reviews (Rating)  Parking Spots Maintenance Frequency  \n",
            "0               4.0              7              Annually  \n",
            "1               3.9              2               Monthly  \n",
            "2               3.6              9              Annually  \n",
            "3               4.2              7               Monthly  \n",
            "4               3.7              6              Annually  \n"
          ]
        }
      ]
    },
    {
      "cell_type": "markdown",
      "source": [
        "The above code shows a sample of data from this dataset, including all columns."
      ],
      "metadata": {
        "id": "G6TCdDXAtN4T"
      }
    },
    {
      "cell_type": "markdown",
      "source": [
        "Hence, we evaluated the pros and cons of DS3:\n",
        "\n",
        "**Pros**\n",
        "*   High data quality; no empty fields, as well as well-labeled data.\n",
        "*   Very specific data, allowing for highly in-depth analysis.\n",
        "*   Large coverage of data, covering multiple regions and metrics.\n",
        "\n",
        "**Cons**\n",
        "*   Highly specific data, especially for station addresses, providing challenges in data filtering and aggregation.\n",
        "*   A large number of attributes and data are inapplicable for our project, leaving few left.\n",
        "*   Data is not very updated, with historical data ending at 2023.\n",
        "* Data is in `Year` format, not allowing for more detail (i.e. cannot ascertain Month from data)."
      ],
      "metadata": {
        "id": "AfaOX1xUtbHf"
      }
    },
    {
      "cell_type": "markdown",
      "source": [
        "As a result, we decided **not to use DS3** for our analysis. The date range is considerably limited and not recent enough. Another highly substantial factor is the added number of steps required to filter out non-USA data whereas other datasets may make this task easier."
      ],
      "metadata": {
        "id": "81mWEdZbuYOQ"
      }
    },
    {
      "cell_type": "markdown",
      "source": [
        "### Dataset 4 (DS4)"
      ],
      "metadata": {
        "id": "8nYbmTXTu4AA"
      }
    },
    {
      "cell_type": "markdown",
      "source": [
        "**DS4**, also from [Kaggle](https://www.kaggle.com/datasets/salvatoresaia/ev-charging-stations-us), provides a **US-specific** outlook into EV charging stations. This automatically makes it more suitable for our USA-focused analysis. Our data profiling included the following."
      ],
      "metadata": {
        "id": "W_WyvkZ6u_ej"
      }
    },
    {
      "cell_type": "code",
      "source": [
        "ds4 = pd.read_csv(\"ds4.csv\")\n",
        "\n",
        "print(\"Basic Dataset Info\")\n",
        "print(f\"Rows: {ds4.shape[0]}\")\n",
        "print(f\"Columns: {ds4.shape[1]}\")\n",
        "#print(f\"Column Names: {ds4.columns.tolist()}\")\n",
        "print(f\"Date range: {pd.to_datetime(ds4['Open Date'], format='%m/%d/%y').min().strftime('%m/%d/%Y')} to {pd.to_datetime(ds4['Open Date'], format='%m/%d/%y').max().strftime('%m/%d/%Y')}\")\n",
        "\n",
        "#print(\"\\nNull Values Per Column\")\n",
        "#print(ds4.isnull().sum())\n",
        "print(f\"Null values: {ds4['Open Date'].isnull().sum()}\")\n",
        "print(f\"Percentage of null values: {(ds4['Open Date'].isnull().sum())/(ds4['Open Date'].shape[0])*100}%\")"
      ],
      "metadata": {
        "id": "4N8NY1s_vPFz",
        "colab": {
          "base_uri": "https://localhost:8080/"
        },
        "outputId": "0b585df8-d432-48ae-92b5-08ce71eb7ada"
      },
      "execution_count": null,
      "outputs": [
        {
          "output_type": "stream",
          "name": "stdout",
          "text": [
            "Basic Dataset Info\n",
            "Rows: 65134\n",
            "Columns: 74\n",
            "Date range: 08/30/1995 to 09/01/2024\n",
            "Null values: 79\n",
            "Percentage of null values: 0.12128842079405533%\n"
          ]
        },
        {
          "output_type": "stream",
          "name": "stderr",
          "text": [
            "<ipython-input-11-63a9828587e1>:1: DtypeWarning: Columns (6,20,31,46,69,73) have mixed types. Specify dtype option on import or set low_memory=False.\n",
            "  ds4 = pd.read_csv(\"ds4.csv\")\n"
          ]
        }
      ]
    },
    {
      "cell_type": "markdown",
      "source": [
        "DS4 contains a whopping **65134 rows** and **74 columns**. As expected, most of the 74 columns are irrelevant to our analysis– in fact, only one column is important in our analysis, and that is the `Open Date` column, indicating the exact date when the charging station was opened.\n",
        "\n",
        "However, an issue may be that the date under `Open Date` is in the `MM/DD/YY` format, requiring us to parse the data into `MM/YY` for our aggregation and analysis. Nonetheless, it is beneficial that the data sorts by Month as compared to other datasets that only include Year. There is a very wide range of data for `Open Date`, from **08/1995 to 09/2024**, which is fairly recent and benefits our analysis.\n",
        "\n",
        "The data also has a large amount of null values, and a considerable amount of null values (79) for the column relevant to our analysis, `Open Date`. This is certainly a downside of this dataset, albeit it is just 0.12% of all data in the column."
      ],
      "metadata": {
        "id": "5kE6TkBeydke"
      }
    },
    {
      "cell_type": "code",
      "source": [
        "print(\"\\nSample Data\")\n",
        "print(ds4.head())"
      ],
      "metadata": {
        "id": "_DuLGxd03Nf4",
        "colab": {
          "base_uri": "https://localhost:8080/"
        },
        "outputId": "f3b9f546-2577-4860-e376-0b7a79f6c31c"
      },
      "execution_count": null,
      "outputs": [
        {
          "output_type": "stream",
          "name": "stdout",
          "text": [
            "\n",
            "Sample Data\n",
            "  Fuel Type Code                       Station Name      Street Address  \\\n",
            "0           ELEC           LADWP - Truesdale Center  11797 Truesdale St   \n",
            "1           ELEC      Los Angeles Convention Center  1201 S Figueroa St   \n",
            "2           ELEC      LADWP - John Ferraro Building       111 N Hope St   \n",
            "3           ELEC         LADWP - Haynes Power Plant       6801 E 2nd St   \n",
            "4           ELEC  LADWP - Harbor Generating Station    161 N Island Ave   \n",
            "\n",
            "    Intersection Directions         City State    ZIP  Plus4 Station Phone  \\\n",
            "0                       NaN   Sun Valley    CA  91352    NaN           NaN   \n",
            "1  West hall and South hall  Los Angeles    CA  90015    NaN  213-741-1151   \n",
            "2               Across Hope  Los Angeles    CA  90012    NaN           NaN   \n",
            "3                       NaN   Long Beach    CA  90803    NaN           NaN   \n",
            "4                   At B St   Wilmington    CA  90744    NaN           NaN   \n",
            "\n",
            "  Status Code  ...  Restricted Access RD Blends RD Blends (French)  \\\n",
            "0           E  ...                NaN       NaN                NaN   \n",
            "1           E  ...              False       NaN                NaN   \n",
            "2           E  ...                NaN       NaN                NaN   \n",
            "3           E  ...                NaN       NaN                NaN   \n",
            "4           E  ...                NaN       NaN                NaN   \n",
            "\n",
            "  RD Blended with Biodiesel  RD Maximum Biodiesel Level  NPS Unit Name  \\\n",
            "0                       NaN                         NaN            NaN   \n",
            "1                       NaN                         NaN            NaN   \n",
            "2                       NaN                         NaN            NaN   \n",
            "3                       NaN                         NaN            NaN   \n",
            "4                       NaN                         NaN            NaN   \n",
            "\n",
            "   CNG Station Sells Renewable Natural Gas  \\\n",
            "0                                      NaN   \n",
            "1                                      NaN   \n",
            "2                                      NaN   \n",
            "3                                      NaN   \n",
            "4                                      NaN   \n",
            "\n",
            "   LNG Station Sells Renewable Natural Gas  Maximum Vehicle Class  \\\n",
            "0                                      NaN                    NaN   \n",
            "1                                      NaN                     LD   \n",
            "2                                      NaN                     LD   \n",
            "3                                      NaN                    NaN   \n",
            "4                                      NaN                    NaN   \n",
            "\n",
            "   EV Workplace Charging  \n",
            "0                   True  \n",
            "1                  False  \n",
            "2                   True  \n",
            "3                   True  \n",
            "4                   True  \n",
            "\n",
            "[5 rows x 74 columns]\n"
          ]
        }
      ]
    },
    {
      "cell_type": "markdown",
      "source": [
        "The visualisation above shows the first few rows of the dataset. It is noticeable that the locations for the charging stations have three formats: the exact `Street Address`, the `City`, the `State`, or the `ZIP`. Nonetheless, despite the specificity of the stations' locations, it does not affect our analysis whatsoever since we are already aware that all rows indicate charging stations in the USA, thus we only need to aggregate all rows."
      ],
      "metadata": {
        "id": "WPwbmfn23PNc"
      }
    },
    {
      "cell_type": "markdown",
      "source": [
        "This then allows us to evaluate the pros and cons of DS4:\n",
        "\n",
        "**Pros**\n",
        "*   Large array of detailed data, allowing for in-depth analysis.\n",
        "*   Simplicity of aggregation for country, as all data is from the USA.\n",
        "*   Wide coverage of dates, from 1995 extending all the way to quite recent at 2024.\n",
        "* Data allows for more detailed date aggregation with Month available.\n",
        "\n",
        "**Cons**\n",
        "*   `Open Date` still requires data parsing, leading to extra code needed for aggregation.\n",
        "*   A large number of attributes and data are inapplicable for our project, with only one column applicable.\n",
        "*   Data is not most updated (can be more updated if ended at 2025).\n",
        "* There are a considerable amount of empty fields for the column we want to use."
      ],
      "metadata": {
        "id": "LIouldX58Anu"
      }
    },
    {
      "cell_type": "markdown",
      "source": [
        "We decided to **use DS4** in our analysis. This is because we found the considerable recency of dates advantageous, and the ease of aggregating charging stations for USA. While there is still an extra layer of code needed to sort `Open Date` by year, this is much simpler to do, as compared to DS3 which would be more complex to sort by country. Nonetheless, due to the amount of null values for `Open Date`, it is necessary to keep this in mind during the analysis to see whether this greatly affects the data."
      ],
      "metadata": {
        "id": "QcFBU77y9VU4"
      }
    },
    {
      "cell_type": "markdown",
      "source": [
        "### Dataset 5 (DS5)"
      ],
      "metadata": {
        "id": "kMwwJ-N295mU"
      }
    },
    {
      "cell_type": "markdown",
      "source": [
        "**DS5** is provided by the [U.S. Energy Information Administration](https://www.eia.gov/dnav/pet/hist/LeafHandler.ashx?n=pet&s=emm_epm0_pte_nus_dpg&f=a), and gives us the **US**'s retail gasoline prices sorted by month, which may have correlations with EV adoption. This automatically makes it more suitable for our USA-focused analysis. Our data profiling included the following."
      ],
      "metadata": {
        "id": "s7wlfgal98P6"
      }
    },
    {
      "cell_type": "code",
      "source": [
        "ds5 = pd.read_csv(\"ds5.csv\")\n",
        "\n",
        "print(\"Basic Dataset Info\")\n",
        "print(f\"Rows: {ds5.shape[0]}\")\n",
        "print(f\"Columns: {ds5.shape[1]}\")\n",
        "print(f\"Column Names: {ds5.columns.tolist()}\")\n",
        "print(f\"Date range: {pd.to_datetime(ds5['Month'], format='%b-%y').min().strftime('%b-%y')} to {pd.to_datetime(ds5['Month'], format='%b-%y').max().strftime('%b-%y')}\")\n",
        "\n",
        "print(\"\\nNull Values Per Column\")\n",
        "print(ds5.isnull().sum())\n",
        "print(f\"Percentage of null values: {(ds5.isnull().sum())/(ds5.shape[0])*100}%\")"
      ],
      "metadata": {
        "id": "QXzNOb7FKmsf",
        "colab": {
          "base_uri": "https://localhost:8080/"
        },
        "outputId": "c1c23af4-4cef-4ac6-b803-5f41edb00be6"
      },
      "execution_count": null,
      "outputs": [
        {
          "output_type": "stream",
          "name": "stdout",
          "text": [
            "Basic Dataset Info\n",
            "Rows: 384\n",
            "Columns: 2\n",
            "Column Names: ['Month', 'U.S. All Grades All Formulations Retail Gasoline Prices Dollars per Gallon']\n",
            "Date range: Apr-93 to Mar-25\n",
            "\n",
            "Null Values Per Column\n",
            "Month                                                                         0\n",
            "U.S. All Grades All Formulations Retail Gasoline Prices Dollars per Gallon    0\n",
            "dtype: int64\n",
            "Percentage of null values: Month                                                                         0.0\n",
            "U.S. All Grades All Formulations Retail Gasoline Prices Dollars per Gallon    0.0\n",
            "dtype: float64%\n"
          ]
        }
      ]
    },
    {
      "cell_type": "markdown",
      "source": [
        "DS5 allows for simple reading and analysis, with **384 rows** and only **2 columns** which are both useful in our investigation, with the columns indicating the `Month` and `Dollars per Gallon`, respectively. The date is in the `Month-YY` format, allowing for easy and detailed analysis compared to a more complex format or simply `Year`. The date range is highly covered as well and very updated, spanning from **April 1993 to March 2025**.\n",
        "\n",
        "Another beneficial aspect to this dataset is the lack of null values, allowing for a complete analysis with no gaps."
      ],
      "metadata": {
        "id": "839slAFDLK4y"
      }
    },
    {
      "cell_type": "code",
      "source": [
        "print(\"\\nSample Data\")\n",
        "print(ds5.head())"
      ],
      "metadata": {
        "id": "rCIw2rZDMWZS",
        "colab": {
          "base_uri": "https://localhost:8080/"
        },
        "outputId": "361b8687-0b12-41d3-dea3-f63322280059"
      },
      "execution_count": null,
      "outputs": [
        {
          "output_type": "stream",
          "name": "stdout",
          "text": [
            "\n",
            "Sample Data\n",
            "    Month  \\\n",
            "0  Mar-25   \n",
            "1  Feb-25   \n",
            "2  Jan-25   \n",
            "3  Dec-24   \n",
            "4  Nov-24   \n",
            "\n",
            "   U.S. All Grades All Formulations Retail Gasoline Prices Dollars per Gallon  \n",
            "0                                              3.223                           \n",
            "1                                              3.247                           \n",
            "2                                              3.196                           \n",
            "3                                              3.139                           \n",
            "4                                              3.175                           \n"
          ]
        }
      ]
    },
    {
      "cell_type": "markdown",
      "source": [
        "The above code shows the first few (most recent) rows of the dataset."
      ],
      "metadata": {
        "id": "yzSNLT-sMX3p"
      }
    },
    {
      "cell_type": "markdown",
      "source": [
        "We can evaluate the pros and cons of DS5:\n",
        "\n",
        "**Pros**\n",
        "*   High data quality, with no nulls, and all fields/attributes useful for our analysis.\n",
        "*   Simplicity of aggregation for country, as all data is from the USA.\n",
        "*   Wide coverage of dates, from Apr 1993 extending all the way to quite recent at Mar 2025.\n",
        "* Data allows for more detailed date aggregation with Month available.\n",
        "\n",
        "**Cons**\n",
        "*   No significant cons as this dataset is very fitting with our analysis."
      ],
      "metadata": {
        "id": "WZ3FbWk-MgS-"
      }
    },
    {
      "cell_type": "markdown",
      "source": [
        "As a result, we pushed through with **using DS5** for our analysis due to the many pros it provides (such as usefulness of all data, coverage and detail of dates, simplicity of country) and virtually no cons due to being completely in line with what we want to explore."
      ],
      "metadata": {
        "id": "Czo0qChOMtSF"
      }
    },
    {
      "cell_type": "markdown",
      "source": [
        "### Dataset 6 (DS6):"
      ],
      "metadata": {
        "id": "an22sukjNv-N"
      }
    },
    {
      "cell_type": "markdown",
      "source": [
        "Lastly, we had DS6, obtained from [Kaggle](https://www.kaggle.com/datasets/zusmani/petrolgas-prices-worldwide). We looked to DS6 to fulfill a role similar to DS5, to gain insight into petrol/gasoline prices that may have a correlation to EV adoption. We carried out data profiling:"
      ],
      "metadata": {
        "id": "nBGuRE2JNzcT"
      }
    },
    {
      "cell_type": "code",
      "source": [
        "ds6 = pd.read_csv(\"ds6.csv\")\n",
        "\n",
        "print(\"Basic Dataset Info\")\n",
        "print(f\"Rows: {ds6.shape[0]}\")\n",
        "print(f\"Columns: {ds6.shape[1]}\")\n",
        "print(f\"Column Names: {ds6.columns.tolist()}\")\n",
        "\n",
        "print(\"\\nNull Values Per Column\")\n",
        "print(ds6.isnull().sum())\n",
        "print(f\"Percentage of null values: {(ds6.isnull().sum())/(ds6.shape[0])*100}%\")"
      ],
      "metadata": {
        "id": "etpDPPqyOO9m",
        "colab": {
          "base_uri": "https://localhost:8080/"
        },
        "outputId": "31a6c997-59b4-4e01-9777-869980671f23"
      },
      "execution_count": null,
      "outputs": [
        {
          "output_type": "stream",
          "name": "stdout",
          "text": [
            "Basic Dataset Info\n",
            "Rows: 181\n",
            "Columns: 11\n",
            "Column Names: ['s', 'Country', 'Daily Oil Consumption (Barrels)', 'World Share', 'Yearly Gallons Per Capita', 'Price Per Gallon (USD)', 'Price Per Liter (USD)', 'Price Per Liter (PKR)', 'GDP Per Capita ( USD )', 'Gallons GDP Per Capita Can Buy', 'xTimes Yearly Gallons Per Capita Buy']\n",
            "\n",
            "Null Values Per Column\n",
            "s                                       0\n",
            "Country                                 0\n",
            "Daily Oil Consumption (Barrels)         0\n",
            "World Share                             0\n",
            "Yearly Gallons Per Capita               0\n",
            "Price Per Gallon (USD)                  0\n",
            "Price Per Liter (USD)                   0\n",
            "Price Per Liter (PKR)                   0\n",
            "GDP Per Capita ( USD )                  0\n",
            "Gallons GDP Per Capita Can Buy          0\n",
            "xTimes Yearly Gallons Per Capita Buy    0\n",
            "dtype: int64\n",
            "Percentage of null values: s                                       0.0\n",
            "Country                                 0.0\n",
            "Daily Oil Consumption (Barrels)         0.0\n",
            "World Share                             0.0\n",
            "Yearly Gallons Per Capita               0.0\n",
            "Price Per Gallon (USD)                  0.0\n",
            "Price Per Liter (USD)                   0.0\n",
            "Price Per Liter (PKR)                   0.0\n",
            "GDP Per Capita ( USD )                  0.0\n",
            "Gallons GDP Per Capita Can Buy          0.0\n",
            "xTimes Yearly Gallons Per Capita Buy    0.0\n",
            "dtype: float64%\n"
          ]
        }
      ]
    },
    {
      "cell_type": "markdown",
      "source": [
        "DS6 contains **181 rows** and **11 columns**, indicating petrol price data spanning 181 countries. But more importantly, whilst conducting data profiling, we discovered that this dataset lacks one giant functionality that we need for our analysis: Dates over time. DS6 essentially provides a snapshot into global petrol prices at 23 June, 2022, with no insight on any other dates. This is a big part missing of the dataset due to the nature of our investigation. That doesn't make this dataset bad, per se, especially as it has positive aspects such as the lack of null values– this dataset is just not suitable for our use in this investigation."
      ],
      "metadata": {
        "id": "ECgm6wemQRxs"
      }
    },
    {
      "cell_type": "code",
      "source": [
        "print(\"\\nSample Data\")\n",
        "print(ds6.head())"
      ],
      "metadata": {
        "id": "pO_I4MvFRcvh",
        "colab": {
          "base_uri": "https://localhost:8080/"
        },
        "outputId": "4ec7745a-88f5-4512-ac42-f86f40d4aa5c"
      },
      "execution_count": null,
      "outputs": [
        {
          "output_type": "stream",
          "name": "stdout",
          "text": [
            "\n",
            "Sample Data\n",
            "   s        Country Daily Oil Consumption (Barrels) World Share  \\\n",
            "0  1  United States                      19,687,287         20%   \n",
            "1  2          China                      12,791,553         13%   \n",
            "2  3          India                       4,443,000          5%   \n",
            "3  4          Japan                       4,012,877          4%   \n",
            "4  5         Russia                       3,631,287          4%   \n",
            "\n",
            "   Yearly Gallons Per Capita  Price Per Gallon (USD)  Price Per Liter (USD)  \\\n",
            "0                      934.3                    5.19                   1.37   \n",
            "1                      138.7                    5.42                   1.43   \n",
            "2                       51.4                    5.05                   1.33   \n",
            "3                      481.5                    4.69                   1.24   \n",
            "4                      383.2                    3.41                   0.90   \n",
            "\n",
            "   Price Per Liter (PKR) GDP Per Capita ( USD )  \\\n",
            "0                 289.97                 63,414   \n",
            "1                 302.87                 10,435   \n",
            "2                 281.93                  1,901   \n",
            "3                 262.05                 40,193   \n",
            "4                 190.56                 10,127   \n",
            "\n",
            "  Gallons GDP Per Capita Can Buy  xTimes Yearly Gallons Per Capita Buy  \n",
            "0                         12,218                                    13  \n",
            "1                          1,925                                    14  \n",
            "2                            376                                     7  \n",
            "3                          8,570                                    18  \n",
            "4                          2,970                                     8  \n"
          ]
        }
      ]
    },
    {
      "cell_type": "markdown",
      "source": [
        "For further insight, the above code shows the first few rows of the dataset, which indicates a lack of data for petrol prices over a longer period of time."
      ],
      "metadata": {
        "id": "myArG1wLRrkN"
      }
    },
    {
      "cell_type": "markdown",
      "source": [
        "Thus comes the pros and cons of DS6:\n",
        "\n",
        "**Pros**\n",
        "*   High data quality, with no nulls, and well-labeled fields.\n",
        "\n",
        "**Cons**\n",
        "*   Dataset lacks data for petrol prices over time, only providing a snapshot of prices at a specific date, making the dataset unsuitable for our planned investigation.\n",
        "\n"
      ],
      "metadata": {
        "id": "3NnsUlfHR3Y-"
      }
    },
    {
      "cell_type": "markdown",
      "source": [
        "Unfortunately, that one con is a huge drawback and was enough for us to immediately **turn DS6 away** as an option, even from the start of our data profiling process. Thankfully we were able to find DS5, which provides the more suitable insight we need into this domain (gasoline prices)."
      ],
      "metadata": {
        "id": "PlE6wnsKSaHT"
      }
    },
    {
      "cell_type": "markdown",
      "source": [
        "### Final Selection on Data"
      ],
      "metadata": {
        "id": "H-u4WSUXktVg"
      }
    },
    {
      "cell_type": "markdown",
      "source": [
        "Based on the exploration and data profiling, we have settled down on the following as our final selection on data that we will be using for our analysis:\n",
        "- **DS2 (EV Sales/Adoption)**\n",
        "- **DS4 (EV Charging Stations)**\n",
        "- **DS5 (Gasoline Price)**"
      ],
      "metadata": {
        "id": "yuIqj6JBm9gw"
      }
    },
    {
      "cell_type": "markdown",
      "source": [
        "## **Data Preparation**"
      ],
      "metadata": {
        "id": "qk_iglhlHCbp"
      }
    },
    {
      "cell_type": "markdown",
      "source": [
        "While we have ascertained our datasets are suitable for our investigation, it is still essential to prepare our data for meaningful analysis and modeling. Careful processing is necessary to parse the data of any unnecessary information, as well as standardise data formats into one suitable for our analysis across all our sources."
      ],
      "metadata": {
        "id": "l9rLD6xarpIL"
      }
    },
    {
      "cell_type": "markdown",
      "source": [
        "### DS2: EV Sales/Adoption"
      ],
      "metadata": {
        "id": "vpBXUn9inmeG"
      }
    },
    {
      "cell_type": "markdown",
      "source": [
        "With the data from DS2, our objective is to construct a DataFrame that captures the year, month, and the corresponding adoption rate for each time period."
      ],
      "metadata": {
        "id": "mfNgxHfOnprW"
      }
    },
    {
      "cell_type": "markdown",
      "source": [
        "The `Month` attribute is parsed to extract the year and month, which are then stored as new attributes, `Year` and `Month` respectively.\n"
      ],
      "metadata": {
        "id": "BVnJwW2YHTiJ"
      }
    },
    {
      "cell_type": "code",
      "source": [
        "df = pd.read_csv(\"ds2.csv\")\n",
        "\n",
        "df[\"Month\"] = pd.to_datetime(df[\"Month\"], format=\"%b-%y\")\n",
        "df[\"Year\"] = df[\"Month\"].dt.year.astype(int)\n",
        "df[\"Month\"] = df[\"Month\"].dt.month.astype(int)"
      ],
      "metadata": {
        "id": "ry8Pevp1HR_O"
      },
      "execution_count": null,
      "outputs": []
    },
    {
      "cell_type": "markdown",
      "source": [
        "The EV adoption rate is determined by calculating the combined value of `BEV`, `PHEV`, and `HEV` as a proportion of the total `LDV`."
      ],
      "metadata": {
        "id": "KGzkPHKMIEaE"
      }
    },
    {
      "cell_type": "code",
      "source": [
        "# Converting the data type from string to integer\n",
        "for col in [\"BEV\", \"PHEV\", \"HEV\", \"Total LDV\"]:\n",
        "  df[col] = pd.to_numeric(df[col].str.replace(\",\", \"\"), errors=\"coerce\")\n",
        "\n",
        "# The total EV sales is obtained by the sum of BEV sale, PHEV sale and HEV sale\n",
        "df[\"Sales\"] = df[\"BEV\"] + df[\"PHEV\"] + df[\"HEV\"]\n",
        "\n",
        "# The adoption rate is the total EV sales as the proportion of total LDV sales.\n",
        "df[\"Adoption Rate\"] = df[\"Sales\"] / df[\"Total LDV\"] * 100\n"
      ],
      "metadata": {
        "id": "6VexG1xboJ7c"
      },
      "execution_count": null,
      "outputs": []
    },
    {
      "cell_type": "markdown",
      "source": [
        "Columns irrelevant to our analysis are then dropped.\n"
      ],
      "metadata": {
        "id": "KTdwGZv4H0os"
      }
    },
    {
      "cell_type": "code",
      "source": [
        "df = df.drop(columns=[\"Sales\", \"BEV\", \"PHEV\", \"HEV\", \"Total LDV\"])"
      ],
      "metadata": {
        "id": "0x79TcQVH2L4"
      },
      "execution_count": null,
      "outputs": []
    },
    {
      "cell_type": "markdown",
      "source": [
        "The resulting DataFrame is presented below."
      ],
      "metadata": {
        "id": "z5XwybRhI2DX"
      }
    },
    {
      "cell_type": "code",
      "source": [
        "print(df)"
      ],
      "metadata": {
        "id": "NfjepnFsI7zF",
        "colab": {
          "base_uri": "https://localhost:8080/"
        },
        "outputId": "37ecb4d4-cd02-4179-9539-f7dec002a4f8"
      },
      "execution_count": null,
      "outputs": [
        {
          "output_type": "stream",
          "name": "stdout",
          "text": [
            "     Month  Year  Adoption Rate\n",
            "0       12  2010       2.527602\n",
            "1        1  2011       2.434818\n",
            "2        2  2011       2.382402\n",
            "3        3  2011       2.842697\n",
            "4        4  2011       2.303079\n",
            "..     ...   ...            ...\n",
            "166     10  2024      20.663091\n",
            "167     11  2024      22.142960\n",
            "168     12  2024      22.358823\n",
            "169      1  2025      21.988937\n",
            "170      2  2025      21.267280\n",
            "\n",
            "[171 rows x 3 columns]\n"
          ]
        }
      ]
    },
    {
      "cell_type": "markdown",
      "source": [
        "### DS4: EV Charging Stations"
      ],
      "metadata": {
        "id": "Vzvf0fbWq1OB"
      }
    },
    {
      "cell_type": "markdown",
      "source": [
        "With the data from DS4, the goal is to construct a DataFrame that records the cumulative number of charging stations for each time period."
      ],
      "metadata": {
        "id": "yy_Ct00Wq5Xp"
      }
    },
    {
      "cell_type": "markdown",
      "source": [
        "Only columns relevant to our analysis, `Open Date`, will be retained.\n",
        "The rows with missing `Open Date` value are dropped."
      ],
      "metadata": {
        "id": "Eyzv3MEHLm7T"
      }
    },
    {
      "cell_type": "code",
      "source": [
        "df1 = pd.read_csv(\"ds4.csv\")\n",
        "\n",
        "df1 = df1[[\"Open Date\"]]\n",
        "df1 = df1.dropna(subset=[\"Open Date\"])"
      ],
      "metadata": {
        "id": "-OjtXk15Kq02",
        "collapsed": true,
        "colab": {
          "base_uri": "https://localhost:8080/"
        },
        "outputId": "4e990483-8b36-4ddf-eed5-af86ddefcef1"
      },
      "execution_count": null,
      "outputs": [
        {
          "output_type": "stream",
          "name": "stderr",
          "text": [
            "<ipython-input-21-20f5f54771bc>:1: DtypeWarning: Columns (6,20,31,46,69,73) have mixed types. Specify dtype option on import or set low_memory=False.\n",
            "  df1 = pd.read_csv(\"ds4.csv\")\n"
          ]
        }
      ]
    },
    {
      "cell_type": "markdown",
      "source": [
        "The `Open Date` attribute is parsed to extract the year and month, which are then stored as new attributes, `Year` and `Month` respectively.\n"
      ],
      "metadata": {
        "id": "fLzLBfNaL-tm"
      }
    },
    {
      "cell_type": "code",
      "source": [
        "df1[\"Open Date\"] = pd.to_datetime(df1[\"Open Date\"], format=\"%m/%d/%y\", errors=\"coerce\")\n",
        "df1[\"Year\"] = df1[\"Open Date\"].dt.year.astype(int)\n",
        "df1[\"Month\"] = df1[\"Open Date\"].dt.month.astype(int)\n"
      ],
      "metadata": {
        "id": "k3X0KICpq9rZ"
      },
      "execution_count": null,
      "outputs": []
    },
    {
      "cell_type": "markdown",
      "source": [
        "The number of charging stations for each time period is counted and an attribute `Charging Stations Added` is created to store the result."
      ],
      "metadata": {
        "id": "R3kt3e53OHsR"
      }
    },
    {
      "cell_type": "code",
      "source": [
        "df1 = df1[[\"Year\", \"Month\"]].value_counts().reset_index(name=\"Charging Stations Added\")"
      ],
      "metadata": {
        "id": "FQfc20qxOHdM"
      },
      "execution_count": null,
      "outputs": []
    },
    {
      "cell_type": "markdown",
      "source": [
        "The dataset is sorted by `Year` and `Month` and the cumulative number of charging stations for each time period is obtained, stored as `Cumulative Charging Stations`."
      ],
      "metadata": {
        "id": "6ByxY4kHOpZ0"
      }
    },
    {
      "cell_type": "code",
      "source": [
        "# The dataset is sorted by \"Year\" and \"Month\"\n",
        "df1 = df1.sort_values([\"Year\", \"Month\"]).reset_index().drop(columns=[\"index\"])\n",
        "\n",
        "# A cumulative summation is performed to obtain \"Cumulative Charging Stations\"\n",
        "df1[\"Cumulative Charging Stations\"] = df1[\"Charging Stations Added\"].cumsum()"
      ],
      "metadata": {
        "id": "MkTZ2nYjOp-R"
      },
      "execution_count": null,
      "outputs": []
    },
    {
      "cell_type": "markdown",
      "source": [
        "Only relevant columns for analysis are retained."
      ],
      "metadata": {
        "id": "XEyDY2kztCnP"
      }
    },
    {
      "cell_type": "code",
      "source": [
        "df1 = df1.drop(columns=[\"Charging Stations Added\"])"
      ],
      "metadata": {
        "id": "ZSUNXpELtG8A"
      },
      "execution_count": null,
      "outputs": []
    },
    {
      "cell_type": "markdown",
      "source": [
        "The dataset contains some months where no new charging stations were added, resulting in missing rows. However, it is important to retain these missing rows to ensure a continuous time series. For these months, the `Cumulative Charging Stations` value should be **forward-filled**, with the last known cumulative value carried forward."
      ],
      "metadata": {
        "id": "Mszdc_Px0ZTb"
      }
    },
    {
      "cell_type": "code",
      "source": [
        "# Create a full date range.\n",
        "full_date_range = pd.date_range(start=f'{df[\"Year\"].min()}-01', end=f'{2024}-12', freq='MS')\n",
        "\n",
        "# Create a new dataframe with all year/month combinations\n",
        "full_months_df = pd.DataFrame({\n",
        "    \"Year\": full_date_range.year,\n",
        "    \"Month\": full_date_range.month\n",
        "})\n",
        "\n",
        "# Merge df1 with the full range of months\n",
        "df1 = full_months_df.merge(df1, on=[\"Year\", \"Month\"], how=\"left\")\n",
        "\n",
        "# Forward fill the missing cumulative values\n",
        "df1[\"Cumulative Charging Stations\"] = df1[\"Cumulative Charging Stations\"].fillna(method='ffill')"
      ],
      "metadata": {
        "id": "Oi8DM3BhzFGM",
        "colab": {
          "base_uri": "https://localhost:8080/"
        },
        "outputId": "c32ff810-e154-40b8-f18f-7a61e0a994ea"
      },
      "execution_count": null,
      "outputs": [
        {
          "output_type": "stream",
          "name": "stderr",
          "text": [
            "<ipython-input-26-33b8ebf1edb5>:14: FutureWarning: Series.fillna with 'method' is deprecated and will raise in a future version. Use obj.ffill() or obj.bfill() instead.\n",
            "  df1[\"Cumulative Charging Stations\"] = df1[\"Cumulative Charging Stations\"].fillna(method='ffill')\n"
          ]
        }
      ]
    },
    {
      "cell_type": "markdown",
      "source": [
        "The resulting DataFrame is presented below."
      ],
      "metadata": {
        "id": "GK7KYEQ3PTWv"
      }
    },
    {
      "cell_type": "code",
      "source": [
        "print(df1)"
      ],
      "metadata": {
        "id": "nSJgTAq1PW-f",
        "colab": {
          "base_uri": "https://localhost:8080/"
        },
        "outputId": "3b07a0e3-2394-4737-c279-8c7b1a05d345"
      },
      "execution_count": null,
      "outputs": [
        {
          "output_type": "stream",
          "name": "stdout",
          "text": [
            "     Year  Month  Cumulative Charging Stations\n",
            "0    2010      1                         114.0\n",
            "1    2010      2                         114.0\n",
            "2    2010      3                         117.0\n",
            "3    2010      4                         121.0\n",
            "4    2010      5                         125.0\n",
            "..    ...    ...                           ...\n",
            "175  2024      8                       65054.0\n",
            "176  2024      9                       65055.0\n",
            "177  2024     10                       65055.0\n",
            "178  2024     11                       65055.0\n",
            "179  2024     12                       65055.0\n",
            "\n",
            "[180 rows x 3 columns]\n"
          ]
        }
      ]
    },
    {
      "cell_type": "markdown",
      "source": [
        "### DS5: Gasoline Prices"
      ],
      "metadata": {
        "id": "pfaxjOW-tvTp"
      }
    },
    {
      "cell_type": "markdown",
      "source": [
        "With the data from DS5, the objective is to construct a DataFrame that captures the gasoline prices corresponding to each time period."
      ],
      "metadata": {
        "id": "jXXBP2Xltx4i"
      }
    },
    {
      "cell_type": "markdown",
      "source": [
        "The rows with missing values are dropped and the attribute (column) name for the gasoline prices is shorted for simplicity."
      ],
      "metadata": {
        "id": "7wv5mBcXP5mH"
      }
    },
    {
      "cell_type": "code",
      "source": [
        "df2 = pd.read_csv(\"ds5.csv\")\n",
        "\n",
        "# Rows with missing values are dropped.\n",
        "df2 = df2.dropna()\n",
        "\n",
        "# The attribute name is shortened for simplicity.\n",
        "df2 = df2.rename(columns={\"U.S. All Grades All Formulations Retail Gasoline Prices Dollars per Gallon\": \"Gasoline Price\"})\n",
        "print(df2)"
      ],
      "metadata": {
        "id": "3WulGpZEP6lo",
        "colab": {
          "base_uri": "https://localhost:8080/"
        },
        "outputId": "1eb3bd46-f4a9-4a16-c766-250631414c18"
      },
      "execution_count": null,
      "outputs": [
        {
          "output_type": "stream",
          "name": "stdout",
          "text": [
            "      Month  Gasoline Price\n",
            "0    Mar-25           3.223\n",
            "1    Feb-25           3.247\n",
            "2    Jan-25           3.196\n",
            "3    Dec-24           3.139\n",
            "4    Nov-24           3.175\n",
            "..      ...             ...\n",
            "379  Aug-93           1.062\n",
            "380  Jul-93           1.078\n",
            "381  Jun-93           1.097\n",
            "382  May-93           1.100\n",
            "383  Apr-93           1.078\n",
            "\n",
            "[384 rows x 2 columns]\n"
          ]
        }
      ]
    },
    {
      "cell_type": "markdown",
      "source": [
        "The `Date` attribute is parsed to extract the year and month, which are then stored as new attributes, `Year` and `Month` respectively."
      ],
      "metadata": {
        "id": "UmiQ6REpQLMZ"
      }
    },
    {
      "cell_type": "code",
      "source": [
        "df2[\"Month\"] = pd.to_datetime(df2[\"Month\"], format=\"%b-%y\", errors=\"coerce\")\n",
        "df2[\"Year\"] = df2[\"Month\"].dt.year.astype(int)\n",
        "df2[\"Month\"] = df2[\"Month\"].dt.month.astype(int)"
      ],
      "metadata": {
        "id": "Z3ws0dbmQMSu"
      },
      "execution_count": null,
      "outputs": []
    },
    {
      "cell_type": "markdown",
      "source": [
        "The data is grouped by `Year` and `Month` and the mean for each time period is calculated."
      ],
      "metadata": {
        "id": "HAgt40gGQsyr"
      }
    },
    {
      "cell_type": "code",
      "source": [
        "df2 = df2.sort_values([\"Year\", \"Month\"]).reset_index(drop=True)"
      ],
      "metadata": {
        "id": "ejJXdvh10vU-"
      },
      "execution_count": null,
      "outputs": []
    },
    {
      "cell_type": "markdown",
      "source": [
        "The resulting DataFrame is presented as follows."
      ],
      "metadata": {
        "id": "nIV6rCLoQm9f"
      }
    },
    {
      "cell_type": "code",
      "source": [
        "print(df2)"
      ],
      "metadata": {
        "id": "vFwH5G_cQe0Z",
        "colab": {
          "base_uri": "https://localhost:8080/"
        },
        "outputId": "05159922-67fc-4469-e289-ffea3cdccc6f"
      },
      "execution_count": null,
      "outputs": [
        {
          "output_type": "stream",
          "name": "stdout",
          "text": [
            "     Month  Gasoline Price  Year\n",
            "0        4           1.078  1993\n",
            "1        5           1.100  1993\n",
            "2        6           1.097  1993\n",
            "3        7           1.078  1993\n",
            "4        8           1.062  1993\n",
            "..     ...             ...   ...\n",
            "379     11           3.175  2024\n",
            "380     12           3.139  2024\n",
            "381      1           3.196  2025\n",
            "382      2           3.247  2025\n",
            "383      3           3.223  2025\n",
            "\n",
            "[384 rows x 3 columns]\n"
          ]
        }
      ]
    },
    {
      "cell_type": "markdown",
      "source": [
        "### **Creation of a Consolidated DataFrame**"
      ],
      "metadata": {
        "id": "efRlvmqEyO_H"
      }
    },
    {
      "cell_type": "markdown",
      "source": [
        "### Merging EV Sales/Adoption (df), EV Charging Stations (df1) and Gasoline Price (df2)"
      ],
      "metadata": {
        "id": "zvfKkOkb7Auu"
      }
    },
    {
      "cell_type": "markdown",
      "source": [
        "The 3 different DataFrames are merged together on `Year` and `Month` to create the final integrated DataFrame."
      ],
      "metadata": {
        "id": "J2FT-kJBYg3B"
      }
    },
    {
      "cell_type": "code",
      "source": [
        "# Merging DataFrame 1, DataFrame 2 and DataFrame 3.\n",
        "df_merged = df.merge(df1, on=[\"Year\", \"Month\"]).merge(df2, on=[\"Year\", \"Month\"])"
      ],
      "metadata": {
        "id": "cCFqAvgMzXKQ"
      },
      "execution_count": null,
      "outputs": []
    },
    {
      "cell_type": "markdown",
      "source": [
        "The `Month` and `Year` is combined to create the attribute `Time`."
      ],
      "metadata": {
        "id": "c3_ti8nWYfLd"
      }
    },
    {
      "cell_type": "code",
      "source": [
        "df_merged[\"Time\"] = df_merged[\"Year\"].astype(str) + \"/\" + df_merged[\"Month\"].astype(str)\n",
        "df_merged = df_merged.drop(columns=[\"Month\", \"Year\"])"
      ],
      "metadata": {
        "id": "sSvwRQFqYZcj"
      },
      "execution_count": null,
      "outputs": []
    },
    {
      "cell_type": "markdown",
      "source": [
        "The resulting consolidated DataFrame is presented below."
      ],
      "metadata": {
        "id": "8FYX7i225Voa"
      }
    },
    {
      "cell_type": "code",
      "source": [
        "print(df_merged)"
      ],
      "metadata": {
        "id": "6T7tTK48Ycz7",
        "colab": {
          "base_uri": "https://localhost:8080/"
        },
        "outputId": "7ec63b34-31c4-4d94-d25a-6fc3f5146687"
      },
      "execution_count": null,
      "outputs": [
        {
          "output_type": "stream",
          "name": "stdout",
          "text": [
            "     Adoption Rate  Cumulative Charging Stations  Gasoline Price     Time\n",
            "0         2.527602                         154.0           3.048  2010/12\n",
            "1         2.434818                         162.0           3.148   2011/1\n",
            "2         2.382402                         172.0           3.264   2011/2\n",
            "3         2.842697                         642.0           3.615   2011/3\n",
            "4         2.303079                         655.0           3.852   2011/4\n",
            "..             ...                           ...             ...      ...\n",
            "164      21.131483                       65054.0           3.507   2024/8\n",
            "165      21.393932                       65055.0           3.338   2024/9\n",
            "166      20.663091                       65055.0           3.261  2024/10\n",
            "167      22.142960                       65055.0           3.175  2024/11\n",
            "168      22.358823                       65055.0           3.139  2024/12\n",
            "\n",
            "[169 rows x 4 columns]\n"
          ]
        }
      ]
    },
    {
      "cell_type": "markdown",
      "source": [
        "### Data Profiling on the Consolidated DataFrame"
      ],
      "metadata": {
        "id": "HOEeeOmD7RWg"
      }
    },
    {
      "cell_type": "markdown",
      "source": [
        "Data profiling is carried out to assess the new DataFrame."
      ],
      "metadata": {
        "id": "wbZHijfC5eMC"
      }
    },
    {
      "cell_type": "code",
      "source": [
        "# Check for data completeness.\n",
        "print(df_merged.isnull().sum())\n",
        "\n",
        "# Check if the rows are following an chronological order.\n",
        "is_sorted = df_merged[\"Time\"].is_monotonic_increasing\n",
        "print(f\"Records sorted in chronological order: {is_sorted}\")\n",
        "\n",
        "# Identify any missing months in the dataset to ensure temporal continuity\n",
        "full_range = pd.date_range(df_merged[\"Time\"].min(), df_merged[\"Time\"].max(), freq=\"MS\")\n",
        "missing_months = full_range.difference(pd.to_datetime(df_merged[\"Time\"], format='%Y/%m'))\n",
        "print(f\"List of missing months: {missing_months}\")"
      ],
      "metadata": {
        "id": "y0u52pcN5n08",
        "colab": {
          "base_uri": "https://localhost:8080/"
        },
        "outputId": "61c822f0-fa89-445e-d450-917436b2fefe"
      },
      "execution_count": null,
      "outputs": [
        {
          "output_type": "stream",
          "name": "stdout",
          "text": [
            "Adoption Rate                   0\n",
            "Cumulative Charging Stations    0\n",
            "Gasoline Price                  0\n",
            "Time                            0\n",
            "dtype: int64\n",
            "Records sorted in chronological order: False\n",
            "List of missing months: DatetimeIndex([], dtype='datetime64[ns]', freq='MS')\n"
          ]
        }
      ]
    },
    {
      "cell_type": "markdown",
      "source": [
        "\n",
        "\n",
        "* **No missing values** were found in any of the key columns — indicating a complete dataset.\n",
        "* The records are sorted in **chronological order** – essential for any time series analysis or forecasting.\n",
        "* The time series is **continuous** with **no missing months** – essential for any time series analysis or forecasting."
      ],
      "metadata": {
        "id": "Np20zdzH7rWV"
      }
    },
    {
      "cell_type": "markdown",
      "source": [
        "## **Data Analytics**"
      ],
      "metadata": {
        "id": "nfBVRwGXm5m9"
      }
    },
    {
      "cell_type": "markdown",
      "source": [
        "Given that our overarching goal is to determine if there is a correlative relationship between the three variables: Adoption Rate, Cumulative Charging Stations, and Gasoline Prices, we apply the following methods of descriptive, diagnostic, and predictive analysis:\n",
        "- Data Visualization (Descriptive)\n",
        "- Spearman Correlation (Diagnostic)\n",
        "- Time Series Forecasting (Predictive)\n",
        "- Linear Regression (Predictive)"
      ],
      "metadata": {
        "id": "_-XPVjLbiPNf"
      }
    },
    {
      "cell_type": "markdown",
      "source": [
        "### Data Visualization"
      ],
      "metadata": {
        "id": "wOYI8UWP4CxD"
      }
    },
    {
      "cell_type": "markdown",
      "source": [
        "To develop an intuitive understanding of the temporal patterns and possible interactions present among the variables, we visualised the three variables over time using multi-axis line plots.\n",
        "\n",
        "This enables us to capture individual trends, observe volatility, and in a visual way, suggest co-movement."
      ],
      "metadata": {
        "id": "XPD0SiJqefHm"
      }
    },
    {
      "cell_type": "code",
      "source": [
        "# Creatung Figure\n",
        "fig = go.Figure()\n",
        "\n",
        "# Plotting Adoption Rate\n",
        "fig.add_trace(go.Scatter(\n",
        "    x = df_merged[\"Time\"],\n",
        "    y = df_merged[\"Adoption Rate\"],\n",
        "    name = \"Adoption Rate\",\n",
        "    yaxis = \"y1\",\n",
        "    line = {\"color\" : \"#6050D4\"}\n",
        "))\n",
        "\n",
        "# Plotting Cumulative Charging Stations\n",
        "fig.add_trace(go.Scatter(\n",
        "    x = df_merged[\"Time\"],\n",
        "    y = df_merged[\"Cumulative Charging Stations\"],\n",
        "    name = \"Cumulative Charging Stations\",\n",
        "    yaxis = \"y2\",\n",
        "    line = {\"color\" : \"#00916E\"}\n",
        "))\n",
        "\n",
        "# Plotting Gasoline Price\n",
        "fig.add_trace(go.Scatter(\n",
        "    x = df_merged[\"Time\"],\n",
        "    y = df_merged[\"Gasoline Price\"],\n",
        "    name = \"Gasoline Price\",\n",
        "    yaxis = \"y3\",\n",
        "    line = {\"color\" : \"#DC493A\"}\n",
        "))\n",
        "\n",
        "# Layout configuration\n",
        "fig.update_layout(\n",
        "    title = \"Adoption Rate, Cumulative Charging Stations, and Gasoline Price Over Time\",\n",
        "    xaxis = {\"title\" : \"Time\"},\n",
        "\n",
        "    yaxis = {\n",
        "        \"title\" : \"Adoption Rate (%)\",\n",
        "        \"titlefont\" : {\"color\" : \"#6050D4\"},\n",
        "        \"tickfont\" : {\"color\" : \"#6050D4\"}\n",
        "    },\n",
        "\n",
        "    yaxis2 = {\n",
        "        \"title\" : \"Cumulative Charging Stations (Stations)\",\n",
        "        \"titlefont\" : {\"color\" : \"#00916E\"},\n",
        "        \"tickfont\" : {\"color\" : \"#00916E\"},\n",
        "        \"overlaying\" : \"y\",\n",
        "        \"side\" : \"right\"\n",
        "    },\n",
        "\n",
        "    yaxis3 = {\n",
        "        \"title\" : \"Gasoline Price ($)\",\n",
        "        \"titlefont\" : {\"color\" : \"#DC493A\"},\n",
        "        \"tickfont\" : {\"color\" : \"#DC493A\"},\n",
        "        \"overlaying\" : \"y\",\n",
        "        \"side\" : \"right\",\n",
        "        \"position\" : 0.85  # 0.15 from the right side of the canvas\n",
        "    },\n",
        "\n",
        "    legend = {\n",
        "        \"x\" : 0.5,\n",
        "        \"y\" : 1.1,\n",
        "        \"orientation\" : \"h\",\n",
        "        \"xanchor\" : \"center\"\n",
        "    },\n",
        "\n",
        "    height = 600,\n",
        "\n",
        "    width = 1000\n",
        ")\n",
        "\n",
        "fig.show()\n"
      ],
      "metadata": {
        "id": "Qdg0FlpwY6x7",
        "colab": {
          "base_uri": "https://localhost:8080/",
          "height": 617
        },
        "outputId": "c7891e29-4ce8-4c6e-b14e-8661fe9182f5"
      },
      "execution_count": null,
      "outputs": [
        {
          "output_type": "display_data",
          "data": {
            "text/html": [
              "<html>\n",
              "<head><meta charset=\"utf-8\" /></head>\n",
              "<body>\n",
              "    <div>            <script src=\"https://cdnjs.cloudflare.com/ajax/libs/mathjax/2.7.5/MathJax.js?config=TeX-AMS-MML_SVG\"></script><script type=\"text/javascript\">if (window.MathJax && window.MathJax.Hub && window.MathJax.Hub.Config) {window.MathJax.Hub.Config({SVG: {font: \"STIX-Web\"}});}</script>                <script type=\"text/javascript\">window.PlotlyConfig = {MathJaxConfig: 'local'};</script>\n",
              "        <script charset=\"utf-8\" src=\"https://cdn.plot.ly/plotly-2.35.2.min.js\"></script>                <div id=\"dbabdac6-6012-4a79-a0b6-dc05f84c3c80\" class=\"plotly-graph-div\" style=\"height:600px; width:1000px;\"></div>            <script type=\"text/javascript\">                                    window.PLOTLYENV=window.PLOTLYENV || {};                                    if (document.getElementById(\"dbabdac6-6012-4a79-a0b6-dc05f84c3c80\")) {                    Plotly.newPlot(                        \"dbabdac6-6012-4a79-a0b6-dc05f84c3c80\",                        [{\"line\":{\"color\":\"#6050D4\"},\"name\":\"Adoption Rate\",\"x\":[\"2010\\u002f12\",\"2011\\u002f1\",\"2011\\u002f2\",\"2011\\u002f3\",\"2011\\u002f4\",\"2011\\u002f5\",\"2011\\u002f6\",\"2011\\u002f7\",\"2011\\u002f8\",\"2011\\u002f9\",\"2011\\u002f10\",\"2011\\u002f11\",\"2011\\u002f12\",\"2012\\u002f1\",\"2012\\u002f2\",\"2012\\u002f3\",\"2012\\u002f4\",\"2012\\u002f5\",\"2012\\u002f6\",\"2012\\u002f7\",\"2012\\u002f8\",\"2012\\u002f9\",\"2012\\u002f10\",\"2012\\u002f11\",\"2012\\u002f12\",\"2013\\u002f1\",\"2013\\u002f2\",\"2013\\u002f3\",\"2013\\u002f4\",\"2013\\u002f5\",\"2013\\u002f6\",\"2013\\u002f7\",\"2013\\u002f8\",\"2013\\u002f9\",\"2013\\u002f10\",\"2013\\u002f11\",\"2013\\u002f12\",\"2014\\u002f1\",\"2014\\u002f2\",\"2014\\u002f3\",\"2014\\u002f4\",\"2014\\u002f5\",\"2014\\u002f6\",\"2014\\u002f7\",\"2014\\u002f8\",\"2014\\u002f9\",\"2014\\u002f10\",\"2014\\u002f11\",\"2014\\u002f12\",\"2015\\u002f1\",\"2015\\u002f2\",\"2015\\u002f3\",\"2015\\u002f4\",\"2015\\u002f5\",\"2015\\u002f6\",\"2015\\u002f7\",\"2015\\u002f8\",\"2015\\u002f9\",\"2015\\u002f10\",\"2015\\u002f11\",\"2015\\u002f12\",\"2016\\u002f1\",\"2016\\u002f2\",\"2016\\u002f3\",\"2016\\u002f4\",\"2016\\u002f5\",\"2016\\u002f6\",\"2016\\u002f7\",\"2016\\u002f8\",\"2016\\u002f9\",\"2016\\u002f10\",\"2016\\u002f11\",\"2016\\u002f12\",\"2017\\u002f1\",\"2017\\u002f2\",\"2017\\u002f3\",\"2017\\u002f4\",\"2017\\u002f5\",\"2017\\u002f6\",\"2017\\u002f7\",\"2017\\u002f8\",\"2017\\u002f9\",\"2017\\u002f10\",\"2017\\u002f11\",\"2017\\u002f12\",\"2018\\u002f1\",\"2018\\u002f2\",\"2018\\u002f3\",\"2018\\u002f4\",\"2018\\u002f5\",\"2018\\u002f6\",\"2018\\u002f7\",\"2018\\u002f8\",\"2018\\u002f9\",\"2018\\u002f10\",\"2018\\u002f11\",\"2018\\u002f12\",\"2019\\u002f1\",\"2019\\u002f2\",\"2019\\u002f3\",\"2019\\u002f4\",\"2019\\u002f5\",\"2019\\u002f6\",\"2019\\u002f7\",\"2019\\u002f8\",\"2019\\u002f9\",\"2019\\u002f10\",\"2019\\u002f11\",\"2019\\u002f12\",\"2020\\u002f1\",\"2020\\u002f2\",\"2020\\u002f3\",\"2020\\u002f4\",\"2020\\u002f5\",\"2020\\u002f6\",\"2020\\u002f7\",\"2020\\u002f8\",\"2020\\u002f9\",\"2020\\u002f10\",\"2020\\u002f11\",\"2020\\u002f12\",\"2021\\u002f1\",\"2021\\u002f2\",\"2021\\u002f3\",\"2021\\u002f4\",\"2021\\u002f5\",\"2021\\u002f6\",\"2021\\u002f7\",\"2021\\u002f8\",\"2021\\u002f9\",\"2021\\u002f10\",\"2021\\u002f11\",\"2021\\u002f12\",\"2022\\u002f1\",\"2022\\u002f2\",\"2022\\u002f3\",\"2022\\u002f4\",\"2022\\u002f5\",\"2022\\u002f6\",\"2022\\u002f7\",\"2022\\u002f8\",\"2022\\u002f9\",\"2022\\u002f10\",\"2022\\u002f11\",\"2022\\u002f12\",\"2023\\u002f1\",\"2023\\u002f2\",\"2023\\u002f3\",\"2023\\u002f4\",\"2023\\u002f5\",\"2023\\u002f6\",\"2023\\u002f7\",\"2023\\u002f8\",\"2023\\u002f9\",\"2023\\u002f10\",\"2023\\u002f11\",\"2023\\u002f12\",\"2024\\u002f1\",\"2024\\u002f2\",\"2024\\u002f3\",\"2024\\u002f4\",\"2024\\u002f5\",\"2024\\u002f6\",\"2024\\u002f7\",\"2024\\u002f8\",\"2024\\u002f9\",\"2024\\u002f10\",\"2024\\u002f11\",\"2024\\u002f12\"],\"y\":[2.5276021103385626,2.43481824235491,2.382402230419663,2.8426974944411825,2.303079293358482,1.794053912026377,1.4167269468603987,1.951251733932228,2.130403523381193,1.8390318108185821,2.1573955747489437,2.8168872501221367,2.7208100441877368,2.540940167571095,3.295888752009688,3.7281889873652934,3.67189023499726,3.039167057533031,2.9464044701707275,3.0012333598264456,3.3543350460440116,3.4187092427531693,3.709990167482381,3.6855853052147185,3.787341361434144,3.7706640287259474,3.826892415409222,3.7135298595081476,3.8851884871087545,3.9180744829077034,3.824759233166634,4.029093256124776,4.288500453608687,3.667145618296069,3.6205149803263525,3.611201332634429,3.3814565617700008,3.3089824137375183,3.153630247210195,3.4451983060880655,3.474081490516444,4.018194943336494,3.566759472644506,3.8947489387486462,3.820725755717126,3.269020521983711,3.1654817770534187,3.1392809301004485,2.9569051042224825,2.7247327502429544,2.7064048880872735,2.742364350363263,2.843375878376243,3.1640072613752577,2.892977313487828,2.954781159555535,2.9573688211674134,2.901853044803008,2.7698805555154684,2.6953975466731404,2.790890869370058,2.4109671131194763,2.4334745617677216,2.5823399046433844,2.728037327962582,2.781717426269967,2.7410515295479962,3.0843158071185117,3.121532613693881,3.301189348357562,2.760226187531963,3.0915361934086976,3.4231281332031878,2.949233656114997,3.0340672463559386,3.187592524234758,3.098361953993425,3.317030674572129,3.164403343796823,3.123996377606948,3.459529938188043,3.832065352056542,3.16246667683774,3.3521476951216025,3.577330060472356,3.224382738305716,3.0952345986088643,3.0858058758173508,3.5131425160282697,3.481704615148003,3.5317377030490067,3.8782388969921437,4.084157831353751,4.673089706564181,5.034842065720245,4.565611589573781,4.4425749392067395,4.5982154282239796,3.194852949989333,3.5201784325977243,4.4553750127209195,4.434013983113275,4.680944362822702,4.804792117210662,4.279371363782265,4.535848163200884,4.641471669683919,3.714206504921416,4.103903936073766,5.161276131484479,3.6703762115255043,4.576576285362755,3.4028032130984367,3.599088186909173,5.685321689949499,5.825529275627646,5.004286570515982,5.820897636938064,6.2788739898242865,6.4478037121696685,6.427106372668401,7.177981100728021,7.480967953786975,8.210802728857367,8.465933226423607,8.476908743670847,9.869429962686596,10.30447305323301,10.757407832804503,11.28773002209787,11.821144322393115,11.847564744467478,11.293836425959288,11.885761310564122,11.246585770793326,12.485321838321987,11.505768210463657,12.318974643138523,13.126103757584234,12.203124126182955,11.681749855633383,12.373776680005372,13.203361714372768,12.610745726051622,13.249302346841391,14.194603402937572,14.512942193059795,15.110124277086703,16.023416533858086,16.487170575546003,16.50068348879568,17.562540840209625,17.512141775899675,18.748825485838715,18.19077887631222,19.051896958763596,19.185483390033127,18.621762926110225,16.862626078522634,17.576983044240887,18.41212498042784,18.982852195361644,19.70114814648298,21.01874395115443,21.131482605375986,21.39393208636588,20.66309119700147,22.142959592804623,22.358822663329363],\"yaxis\":\"y\",\"type\":\"scatter\"},{\"line\":{\"color\":\"#00916E\"},\"name\":\"Cumulative Charging Stations\",\"x\":[\"2010\\u002f12\",\"2011\\u002f1\",\"2011\\u002f2\",\"2011\\u002f3\",\"2011\\u002f4\",\"2011\\u002f5\",\"2011\\u002f6\",\"2011\\u002f7\",\"2011\\u002f8\",\"2011\\u002f9\",\"2011\\u002f10\",\"2011\\u002f11\",\"2011\\u002f12\",\"2012\\u002f1\",\"2012\\u002f2\",\"2012\\u002f3\",\"2012\\u002f4\",\"2012\\u002f5\",\"2012\\u002f6\",\"2012\\u002f7\",\"2012\\u002f8\",\"2012\\u002f9\",\"2012\\u002f10\",\"2012\\u002f11\",\"2012\\u002f12\",\"2013\\u002f1\",\"2013\\u002f2\",\"2013\\u002f3\",\"2013\\u002f4\",\"2013\\u002f5\",\"2013\\u002f6\",\"2013\\u002f7\",\"2013\\u002f8\",\"2013\\u002f9\",\"2013\\u002f10\",\"2013\\u002f11\",\"2013\\u002f12\",\"2014\\u002f1\",\"2014\\u002f2\",\"2014\\u002f3\",\"2014\\u002f4\",\"2014\\u002f5\",\"2014\\u002f6\",\"2014\\u002f7\",\"2014\\u002f8\",\"2014\\u002f9\",\"2014\\u002f10\",\"2014\\u002f11\",\"2014\\u002f12\",\"2015\\u002f1\",\"2015\\u002f2\",\"2015\\u002f3\",\"2015\\u002f4\",\"2015\\u002f5\",\"2015\\u002f6\",\"2015\\u002f7\",\"2015\\u002f8\",\"2015\\u002f9\",\"2015\\u002f10\",\"2015\\u002f11\",\"2015\\u002f12\",\"2016\\u002f1\",\"2016\\u002f2\",\"2016\\u002f3\",\"2016\\u002f4\",\"2016\\u002f5\",\"2016\\u002f6\",\"2016\\u002f7\",\"2016\\u002f8\",\"2016\\u002f9\",\"2016\\u002f10\",\"2016\\u002f11\",\"2016\\u002f12\",\"2017\\u002f1\",\"2017\\u002f2\",\"2017\\u002f3\",\"2017\\u002f4\",\"2017\\u002f5\",\"2017\\u002f6\",\"2017\\u002f7\",\"2017\\u002f8\",\"2017\\u002f9\",\"2017\\u002f10\",\"2017\\u002f11\",\"2017\\u002f12\",\"2018\\u002f1\",\"2018\\u002f2\",\"2018\\u002f3\",\"2018\\u002f4\",\"2018\\u002f5\",\"2018\\u002f6\",\"2018\\u002f7\",\"2018\\u002f8\",\"2018\\u002f9\",\"2018\\u002f10\",\"2018\\u002f11\",\"2018\\u002f12\",\"2019\\u002f1\",\"2019\\u002f2\",\"2019\\u002f3\",\"2019\\u002f4\",\"2019\\u002f5\",\"2019\\u002f6\",\"2019\\u002f7\",\"2019\\u002f8\",\"2019\\u002f9\",\"2019\\u002f10\",\"2019\\u002f11\",\"2019\\u002f12\",\"2020\\u002f1\",\"2020\\u002f2\",\"2020\\u002f3\",\"2020\\u002f4\",\"2020\\u002f5\",\"2020\\u002f6\",\"2020\\u002f7\",\"2020\\u002f8\",\"2020\\u002f9\",\"2020\\u002f10\",\"2020\\u002f11\",\"2020\\u002f12\",\"2021\\u002f1\",\"2021\\u002f2\",\"2021\\u002f3\",\"2021\\u002f4\",\"2021\\u002f5\",\"2021\\u002f6\",\"2021\\u002f7\",\"2021\\u002f8\",\"2021\\u002f9\",\"2021\\u002f10\",\"2021\\u002f11\",\"2021\\u002f12\",\"2022\\u002f1\",\"2022\\u002f2\",\"2022\\u002f3\",\"2022\\u002f4\",\"2022\\u002f5\",\"2022\\u002f6\",\"2022\\u002f7\",\"2022\\u002f8\",\"2022\\u002f9\",\"2022\\u002f10\",\"2022\\u002f11\",\"2022\\u002f12\",\"2023\\u002f1\",\"2023\\u002f2\",\"2023\\u002f3\",\"2023\\u002f4\",\"2023\\u002f5\",\"2023\\u002f6\",\"2023\\u002f7\",\"2023\\u002f8\",\"2023\\u002f9\",\"2023\\u002f10\",\"2023\\u002f11\",\"2023\\u002f12\",\"2024\\u002f1\",\"2024\\u002f2\",\"2024\\u002f3\",\"2024\\u002f4\",\"2024\\u002f5\",\"2024\\u002f6\",\"2024\\u002f7\",\"2024\\u002f8\",\"2024\\u002f9\",\"2024\\u002f10\",\"2024\\u002f11\",\"2024\\u002f12\"],\"y\":[154.0,162.0,172.0,642.0,655.0,675.0,692.0,712.0,742.0,773.0,820.0,1072.0,1166.0,1917.0,2003.0,2052.0,2093.0,2149.0,2205.0,2246.0,2291.0,2306.0,2484.0,2513.0,2550.0,2595.0,2628.0,2684.0,2737.0,2755.0,2830.0,2868.0,2906.0,2938.0,2979.0,3032.0,3097.0,3198.0,3265.0,3319.0,3385.0,3457.0,3531.0,3600.0,3729.0,3849.0,3943.0,4032.0,4144.0,4296.0,4379.0,4487.0,4688.0,4834.0,5029.0,5151.0,5327.0,5431.0,5633.0,5804.0,5951.0,6125.0,6283.0,6456.0,6574.0,6696.0,6829.0,6955.0,7110.0,7249.0,7402.0,7550.0,7771.0,7987.0,8130.0,8273.0,8424.0,8590.0,8753.0,8929.0,9105.0,9337.0,9533.0,9730.0,9907.0,10070.0,10191.0,10674.0,10881.0,11138.0,11382.0,11691.0,11907.0,12101.0,12314.0,12483.0,12715.0,12959.0,13245.0,13529.0,13897.0,14206.0,14423.0,14575.0,15018.0,15392.0,15716.0,16011.0,16330.0,16811.0,17116.0,17480.0,17770.0,18092.0,20679.0,21108.0,21542.0,21917.0,22286.0,22653.0,23178.0,31951.0,32414.0,32886.0,33542.0,34212.0,34753.0,35347.0,36087.0,36970.0,37941.0,38639.0,39545.0,40229.0,40992.0,41961.0,42961.0,44048.0,45070.0,45902.0,46878.0,48329.0,49426.0,50205.0,51242.0,52216.0,53315.0,54363.0,55246.0,56282.0,57694.0,58640.0,59674.0,60703.0,62023.0,63024.0,63841.0,64772.0,65054.0,65054.0,65054.0,65054.0,65054.0,65054.0,65054.0,65055.0,65055.0,65055.0,65055.0],\"yaxis\":\"y2\",\"type\":\"scatter\"},{\"line\":{\"color\":\"#DC493A\"},\"name\":\"Gasoline Price\",\"x\":[\"2010\\u002f12\",\"2011\\u002f1\",\"2011\\u002f2\",\"2011\\u002f3\",\"2011\\u002f4\",\"2011\\u002f5\",\"2011\\u002f6\",\"2011\\u002f7\",\"2011\\u002f8\",\"2011\\u002f9\",\"2011\\u002f10\",\"2011\\u002f11\",\"2011\\u002f12\",\"2012\\u002f1\",\"2012\\u002f2\",\"2012\\u002f3\",\"2012\\u002f4\",\"2012\\u002f5\",\"2012\\u002f6\",\"2012\\u002f7\",\"2012\\u002f8\",\"2012\\u002f9\",\"2012\\u002f10\",\"2012\\u002f11\",\"2012\\u002f12\",\"2013\\u002f1\",\"2013\\u002f2\",\"2013\\u002f3\",\"2013\\u002f4\",\"2013\\u002f5\",\"2013\\u002f6\",\"2013\\u002f7\",\"2013\\u002f8\",\"2013\\u002f9\",\"2013\\u002f10\",\"2013\\u002f11\",\"2013\\u002f12\",\"2014\\u002f1\",\"2014\\u002f2\",\"2014\\u002f3\",\"2014\\u002f4\",\"2014\\u002f5\",\"2014\\u002f6\",\"2014\\u002f7\",\"2014\\u002f8\",\"2014\\u002f9\",\"2014\\u002f10\",\"2014\\u002f11\",\"2014\\u002f12\",\"2015\\u002f1\",\"2015\\u002f2\",\"2015\\u002f3\",\"2015\\u002f4\",\"2015\\u002f5\",\"2015\\u002f6\",\"2015\\u002f7\",\"2015\\u002f8\",\"2015\\u002f9\",\"2015\\u002f10\",\"2015\\u002f11\",\"2015\\u002f12\",\"2016\\u002f1\",\"2016\\u002f2\",\"2016\\u002f3\",\"2016\\u002f4\",\"2016\\u002f5\",\"2016\\u002f6\",\"2016\\u002f7\",\"2016\\u002f8\",\"2016\\u002f9\",\"2016\\u002f10\",\"2016\\u002f11\",\"2016\\u002f12\",\"2017\\u002f1\",\"2017\\u002f2\",\"2017\\u002f3\",\"2017\\u002f4\",\"2017\\u002f5\",\"2017\\u002f6\",\"2017\\u002f7\",\"2017\\u002f8\",\"2017\\u002f9\",\"2017\\u002f10\",\"2017\\u002f11\",\"2017\\u002f12\",\"2018\\u002f1\",\"2018\\u002f2\",\"2018\\u002f3\",\"2018\\u002f4\",\"2018\\u002f5\",\"2018\\u002f6\",\"2018\\u002f7\",\"2018\\u002f8\",\"2018\\u002f9\",\"2018\\u002f10\",\"2018\\u002f11\",\"2018\\u002f12\",\"2019\\u002f1\",\"2019\\u002f2\",\"2019\\u002f3\",\"2019\\u002f4\",\"2019\\u002f5\",\"2019\\u002f6\",\"2019\\u002f7\",\"2019\\u002f8\",\"2019\\u002f9\",\"2019\\u002f10\",\"2019\\u002f11\",\"2019\\u002f12\",\"2020\\u002f1\",\"2020\\u002f2\",\"2020\\u002f3\",\"2020\\u002f4\",\"2020\\u002f5\",\"2020\\u002f6\",\"2020\\u002f7\",\"2020\\u002f8\",\"2020\\u002f9\",\"2020\\u002f10\",\"2020\\u002f11\",\"2020\\u002f12\",\"2021\\u002f1\",\"2021\\u002f2\",\"2021\\u002f3\",\"2021\\u002f4\",\"2021\\u002f5\",\"2021\\u002f6\",\"2021\\u002f7\",\"2021\\u002f8\",\"2021\\u002f9\",\"2021\\u002f10\",\"2021\\u002f11\",\"2021\\u002f12\",\"2022\\u002f1\",\"2022\\u002f2\",\"2022\\u002f3\",\"2022\\u002f4\",\"2022\\u002f5\",\"2022\\u002f6\",\"2022\\u002f7\",\"2022\\u002f8\",\"2022\\u002f9\",\"2022\\u002f10\",\"2022\\u002f11\",\"2022\\u002f12\",\"2023\\u002f1\",\"2023\\u002f2\",\"2023\\u002f3\",\"2023\\u002f4\",\"2023\\u002f5\",\"2023\\u002f6\",\"2023\\u002f7\",\"2023\\u002f8\",\"2023\\u002f9\",\"2023\\u002f10\",\"2023\\u002f11\",\"2023\\u002f12\",\"2024\\u002f1\",\"2024\\u002f2\",\"2024\\u002f3\",\"2024\\u002f4\",\"2024\\u002f5\",\"2024\\u002f6\",\"2024\\u002f7\",\"2024\\u002f8\",\"2024\\u002f9\",\"2024\\u002f10\",\"2024\\u002f11\",\"2024\\u002f12\"],\"y\":[3.048,3.148,3.264,3.615,3.852,3.96,3.735,3.705,3.696,3.667,3.506,3.443,3.326,3.44,3.64,3.907,3.958,3.791,3.596,3.498,3.78,3.91,3.812,3.521,3.381,3.391,3.736,3.779,3.638,3.675,3.689,3.661,3.645,3.604,3.42,3.322,3.357,3.392,3.434,3.606,3.735,3.75,3.766,3.688,3.565,3.484,3.255,2.997,2.632,2.208,2.301,2.546,2.555,2.802,2.885,2.88,2.726,2.462,2.387,2.26,2.144,2.057,1.872,2.071,2.216,2.371,2.467,2.345,2.284,2.327,2.359,2.295,2.366,2.458,2.416,2.437,2.528,2.503,2.46,2.414,2.494,2.761,2.621,2.678,2.594,2.671,2.705,2.709,2.873,2.987,2.97,2.928,2.914,2.915,2.943,2.736,2.457,2.338,2.393,2.594,2.881,2.946,2.804,2.823,2.707,2.681,2.724,2.693,2.645,2.636,2.533,2.329,1.938,1.961,2.17,2.272,2.272,2.274,2.248,2.2,2.284,2.42,2.587,2.898,2.948,3.076,3.157,3.231,3.255,3.272,3.384,3.491,3.406,3.413,3.611,4.322,4.213,4.545,5.032,4.668,4.087,3.817,3.935,3.799,3.324,3.445,3.501,3.535,3.711,3.666,3.684,3.712,3.954,3.958,3.742,3.443,3.257,3.197,3.328,3.542,3.733,3.725,3.576,3.6,3.507,3.338,3.261,3.175,3.139],\"yaxis\":\"y3\",\"type\":\"scatter\"}],                        {\"template\":{\"data\":{\"histogram2dcontour\":[{\"type\":\"histogram2dcontour\",\"colorbar\":{\"outlinewidth\":0,\"ticks\":\"\"},\"colorscale\":[[0.0,\"#0d0887\"],[0.1111111111111111,\"#46039f\"],[0.2222222222222222,\"#7201a8\"],[0.3333333333333333,\"#9c179e\"],[0.4444444444444444,\"#bd3786\"],[0.5555555555555556,\"#d8576b\"],[0.6666666666666666,\"#ed7953\"],[0.7777777777777778,\"#fb9f3a\"],[0.8888888888888888,\"#fdca26\"],[1.0,\"#f0f921\"]]}],\"choropleth\":[{\"type\":\"choropleth\",\"colorbar\":{\"outlinewidth\":0,\"ticks\":\"\"}}],\"histogram2d\":[{\"type\":\"histogram2d\",\"colorbar\":{\"outlinewidth\":0,\"ticks\":\"\"},\"colorscale\":[[0.0,\"#0d0887\"],[0.1111111111111111,\"#46039f\"],[0.2222222222222222,\"#7201a8\"],[0.3333333333333333,\"#9c179e\"],[0.4444444444444444,\"#bd3786\"],[0.5555555555555556,\"#d8576b\"],[0.6666666666666666,\"#ed7953\"],[0.7777777777777778,\"#fb9f3a\"],[0.8888888888888888,\"#fdca26\"],[1.0,\"#f0f921\"]]}],\"heatmap\":[{\"type\":\"heatmap\",\"colorbar\":{\"outlinewidth\":0,\"ticks\":\"\"},\"colorscale\":[[0.0,\"#0d0887\"],[0.1111111111111111,\"#46039f\"],[0.2222222222222222,\"#7201a8\"],[0.3333333333333333,\"#9c179e\"],[0.4444444444444444,\"#bd3786\"],[0.5555555555555556,\"#d8576b\"],[0.6666666666666666,\"#ed7953\"],[0.7777777777777778,\"#fb9f3a\"],[0.8888888888888888,\"#fdca26\"],[1.0,\"#f0f921\"]]}],\"heatmapgl\":[{\"type\":\"heatmapgl\",\"colorbar\":{\"outlinewidth\":0,\"ticks\":\"\"},\"colorscale\":[[0.0,\"#0d0887\"],[0.1111111111111111,\"#46039f\"],[0.2222222222222222,\"#7201a8\"],[0.3333333333333333,\"#9c179e\"],[0.4444444444444444,\"#bd3786\"],[0.5555555555555556,\"#d8576b\"],[0.6666666666666666,\"#ed7953\"],[0.7777777777777778,\"#fb9f3a\"],[0.8888888888888888,\"#fdca26\"],[1.0,\"#f0f921\"]]}],\"contourcarpet\":[{\"type\":\"contourcarpet\",\"colorbar\":{\"outlinewidth\":0,\"ticks\":\"\"}}],\"contour\":[{\"type\":\"contour\",\"colorbar\":{\"outlinewidth\":0,\"ticks\":\"\"},\"colorscale\":[[0.0,\"#0d0887\"],[0.1111111111111111,\"#46039f\"],[0.2222222222222222,\"#7201a8\"],[0.3333333333333333,\"#9c179e\"],[0.4444444444444444,\"#bd3786\"],[0.5555555555555556,\"#d8576b\"],[0.6666666666666666,\"#ed7953\"],[0.7777777777777778,\"#fb9f3a\"],[0.8888888888888888,\"#fdca26\"],[1.0,\"#f0f921\"]]}],\"surface\":[{\"type\":\"surface\",\"colorbar\":{\"outlinewidth\":0,\"ticks\":\"\"},\"colorscale\":[[0.0,\"#0d0887\"],[0.1111111111111111,\"#46039f\"],[0.2222222222222222,\"#7201a8\"],[0.3333333333333333,\"#9c179e\"],[0.4444444444444444,\"#bd3786\"],[0.5555555555555556,\"#d8576b\"],[0.6666666666666666,\"#ed7953\"],[0.7777777777777778,\"#fb9f3a\"],[0.8888888888888888,\"#fdca26\"],[1.0,\"#f0f921\"]]}],\"mesh3d\":[{\"type\":\"mesh3d\",\"colorbar\":{\"outlinewidth\":0,\"ticks\":\"\"}}],\"scatter\":[{\"fillpattern\":{\"fillmode\":\"overlay\",\"size\":10,\"solidity\":0.2},\"type\":\"scatter\"}],\"parcoords\":[{\"type\":\"parcoords\",\"line\":{\"colorbar\":{\"outlinewidth\":0,\"ticks\":\"\"}}}],\"scatterpolargl\":[{\"type\":\"scatterpolargl\",\"marker\":{\"colorbar\":{\"outlinewidth\":0,\"ticks\":\"\"}}}],\"bar\":[{\"error_x\":{\"color\":\"#2a3f5f\"},\"error_y\":{\"color\":\"#2a3f5f\"},\"marker\":{\"line\":{\"color\":\"#E5ECF6\",\"width\":0.5},\"pattern\":{\"fillmode\":\"overlay\",\"size\":10,\"solidity\":0.2}},\"type\":\"bar\"}],\"scattergeo\":[{\"type\":\"scattergeo\",\"marker\":{\"colorbar\":{\"outlinewidth\":0,\"ticks\":\"\"}}}],\"scatterpolar\":[{\"type\":\"scatterpolar\",\"marker\":{\"colorbar\":{\"outlinewidth\":0,\"ticks\":\"\"}}}],\"histogram\":[{\"marker\":{\"pattern\":{\"fillmode\":\"overlay\",\"size\":10,\"solidity\":0.2}},\"type\":\"histogram\"}],\"scattergl\":[{\"type\":\"scattergl\",\"marker\":{\"colorbar\":{\"outlinewidth\":0,\"ticks\":\"\"}}}],\"scatter3d\":[{\"type\":\"scatter3d\",\"line\":{\"colorbar\":{\"outlinewidth\":0,\"ticks\":\"\"}},\"marker\":{\"colorbar\":{\"outlinewidth\":0,\"ticks\":\"\"}}}],\"scattermapbox\":[{\"type\":\"scattermapbox\",\"marker\":{\"colorbar\":{\"outlinewidth\":0,\"ticks\":\"\"}}}],\"scatterternary\":[{\"type\":\"scatterternary\",\"marker\":{\"colorbar\":{\"outlinewidth\":0,\"ticks\":\"\"}}}],\"scattercarpet\":[{\"type\":\"scattercarpet\",\"marker\":{\"colorbar\":{\"outlinewidth\":0,\"ticks\":\"\"}}}],\"carpet\":[{\"aaxis\":{\"endlinecolor\":\"#2a3f5f\",\"gridcolor\":\"white\",\"linecolor\":\"white\",\"minorgridcolor\":\"white\",\"startlinecolor\":\"#2a3f5f\"},\"baxis\":{\"endlinecolor\":\"#2a3f5f\",\"gridcolor\":\"white\",\"linecolor\":\"white\",\"minorgridcolor\":\"white\",\"startlinecolor\":\"#2a3f5f\"},\"type\":\"carpet\"}],\"table\":[{\"cells\":{\"fill\":{\"color\":\"#EBF0F8\"},\"line\":{\"color\":\"white\"}},\"header\":{\"fill\":{\"color\":\"#C8D4E3\"},\"line\":{\"color\":\"white\"}},\"type\":\"table\"}],\"barpolar\":[{\"marker\":{\"line\":{\"color\":\"#E5ECF6\",\"width\":0.5},\"pattern\":{\"fillmode\":\"overlay\",\"size\":10,\"solidity\":0.2}},\"type\":\"barpolar\"}],\"pie\":[{\"automargin\":true,\"type\":\"pie\"}]},\"layout\":{\"autotypenumbers\":\"strict\",\"colorway\":[\"#636efa\",\"#EF553B\",\"#00cc96\",\"#ab63fa\",\"#FFA15A\",\"#19d3f3\",\"#FF6692\",\"#B6E880\",\"#FF97FF\",\"#FECB52\"],\"font\":{\"color\":\"#2a3f5f\"},\"hovermode\":\"closest\",\"hoverlabel\":{\"align\":\"left\"},\"paper_bgcolor\":\"white\",\"plot_bgcolor\":\"#E5ECF6\",\"polar\":{\"bgcolor\":\"#E5ECF6\",\"angularaxis\":{\"gridcolor\":\"white\",\"linecolor\":\"white\",\"ticks\":\"\"},\"radialaxis\":{\"gridcolor\":\"white\",\"linecolor\":\"white\",\"ticks\":\"\"}},\"ternary\":{\"bgcolor\":\"#E5ECF6\",\"aaxis\":{\"gridcolor\":\"white\",\"linecolor\":\"white\",\"ticks\":\"\"},\"baxis\":{\"gridcolor\":\"white\",\"linecolor\":\"white\",\"ticks\":\"\"},\"caxis\":{\"gridcolor\":\"white\",\"linecolor\":\"white\",\"ticks\":\"\"}},\"coloraxis\":{\"colorbar\":{\"outlinewidth\":0,\"ticks\":\"\"}},\"colorscale\":{\"sequential\":[[0.0,\"#0d0887\"],[0.1111111111111111,\"#46039f\"],[0.2222222222222222,\"#7201a8\"],[0.3333333333333333,\"#9c179e\"],[0.4444444444444444,\"#bd3786\"],[0.5555555555555556,\"#d8576b\"],[0.6666666666666666,\"#ed7953\"],[0.7777777777777778,\"#fb9f3a\"],[0.8888888888888888,\"#fdca26\"],[1.0,\"#f0f921\"]],\"sequentialminus\":[[0.0,\"#0d0887\"],[0.1111111111111111,\"#46039f\"],[0.2222222222222222,\"#7201a8\"],[0.3333333333333333,\"#9c179e\"],[0.4444444444444444,\"#bd3786\"],[0.5555555555555556,\"#d8576b\"],[0.6666666666666666,\"#ed7953\"],[0.7777777777777778,\"#fb9f3a\"],[0.8888888888888888,\"#fdca26\"],[1.0,\"#f0f921\"]],\"diverging\":[[0,\"#8e0152\"],[0.1,\"#c51b7d\"],[0.2,\"#de77ae\"],[0.3,\"#f1b6da\"],[0.4,\"#fde0ef\"],[0.5,\"#f7f7f7\"],[0.6,\"#e6f5d0\"],[0.7,\"#b8e186\"],[0.8,\"#7fbc41\"],[0.9,\"#4d9221\"],[1,\"#276419\"]]},\"xaxis\":{\"gridcolor\":\"white\",\"linecolor\":\"white\",\"ticks\":\"\",\"title\":{\"standoff\":15},\"zerolinecolor\":\"white\",\"automargin\":true,\"zerolinewidth\":2},\"yaxis\":{\"gridcolor\":\"white\",\"linecolor\":\"white\",\"ticks\":\"\",\"title\":{\"standoff\":15},\"zerolinecolor\":\"white\",\"automargin\":true,\"zerolinewidth\":2},\"scene\":{\"xaxis\":{\"backgroundcolor\":\"#E5ECF6\",\"gridcolor\":\"white\",\"linecolor\":\"white\",\"showbackground\":true,\"ticks\":\"\",\"zerolinecolor\":\"white\",\"gridwidth\":2},\"yaxis\":{\"backgroundcolor\":\"#E5ECF6\",\"gridcolor\":\"white\",\"linecolor\":\"white\",\"showbackground\":true,\"ticks\":\"\",\"zerolinecolor\":\"white\",\"gridwidth\":2},\"zaxis\":{\"backgroundcolor\":\"#E5ECF6\",\"gridcolor\":\"white\",\"linecolor\":\"white\",\"showbackground\":true,\"ticks\":\"\",\"zerolinecolor\":\"white\",\"gridwidth\":2}},\"shapedefaults\":{\"line\":{\"color\":\"#2a3f5f\"}},\"annotationdefaults\":{\"arrowcolor\":\"#2a3f5f\",\"arrowhead\":0,\"arrowwidth\":1},\"geo\":{\"bgcolor\":\"white\",\"landcolor\":\"#E5ECF6\",\"subunitcolor\":\"white\",\"showland\":true,\"showlakes\":true,\"lakecolor\":\"white\"},\"title\":{\"x\":0.05},\"mapbox\":{\"style\":\"light\"}}},\"yaxis\":{\"title\":{\"text\":\"Adoption Rate (%)\",\"font\":{\"color\":\"#6050D4\"}},\"tickfont\":{\"color\":\"#6050D4\"}},\"yaxis2\":{\"title\":{\"text\":\"Cumulative Charging Stations (Stations)\",\"font\":{\"color\":\"#00916E\"}},\"tickfont\":{\"color\":\"#00916E\"},\"overlaying\":\"y\",\"side\":\"right\"},\"yaxis3\":{\"title\":{\"text\":\"Gasoline Price ($)\",\"font\":{\"color\":\"#DC493A\"}},\"tickfont\":{\"color\":\"#DC493A\"},\"overlaying\":\"y\",\"side\":\"right\",\"position\":0.85},\"legend\":{\"x\":0.5,\"y\":1.1,\"orientation\":\"h\",\"xanchor\":\"center\"},\"title\":{\"text\":\"Adoption Rate, Cumulative Charging Stations, and Gasoline Price Over Time\"},\"xaxis\":{\"title\":{\"text\":\"Time\"}},\"height\":600,\"width\":1000},                        {\"responsive\": true}                    ).then(function(){\n",
              "                            \n",
              "var gd = document.getElementById('dbabdac6-6012-4a79-a0b6-dc05f84c3c80');\n",
              "var x = new MutationObserver(function (mutations, observer) {{\n",
              "        var display = window.getComputedStyle(gd).display;\n",
              "        if (!display || display === 'none') {{\n",
              "            console.log([gd, 'removed!']);\n",
              "            Plotly.purge(gd);\n",
              "            observer.disconnect();\n",
              "        }}\n",
              "}});\n",
              "\n",
              "// Listen for the removal of the full notebook cells\n",
              "var notebookContainer = gd.closest('#notebook-container');\n",
              "if (notebookContainer) {{\n",
              "    x.observe(notebookContainer, {childList: true});\n",
              "}}\n",
              "\n",
              "// Listen for the clearing of the current output cell\n",
              "var outputEl = gd.closest('.output');\n",
              "if (outputEl) {{\n",
              "    x.observe(outputEl, {childList: true});\n",
              "}}\n",
              "\n",
              "                        })                };                            </script>        </div>\n",
              "</body>\n",
              "</html>"
            ]
          },
          "metadata": {}
        }
      ]
    },
    {
      "cell_type": "markdown",
      "source": [
        "As illustrated by the graph, both the adoption rate and cumulative charging stations exhibit a generally increasing trend over time, appearing to rise at a similar pace based on visual inspection. In contrast, gasoline prices show more fluctuation and do not display a clear relationship with the other two variables."
      ],
      "metadata": {
        "id": "T9xvh7-khu6z"
      }
    },
    {
      "cell_type": "markdown",
      "source": [
        "However, this observation is based on visual inspection alone, and no definitive conclusions about the relationships between variables can be drawn from it. Therefore, a formal correlation analysis will be conducted to quantitatively assess the strength and direction of their relationships."
      ],
      "metadata": {
        "id": "6T059Juah1aK"
      }
    },
    {
      "cell_type": "markdown",
      "source": [
        "### Correlation Analysis"
      ],
      "metadata": {
        "id": "42GxBGfN6qzJ"
      }
    },
    {
      "cell_type": "markdown",
      "source": [
        "A correlation analysis is conducted to evaluate the strength and direction of the relationships between the key variables: `Adoption Rate`, `Cumulative Charging Stations`, and `Gasoline Price`.\n",
        "\n",
        "To do this, we used **Spearman correlation**. It is particularly suited to our context, because our variables exhibit non-linear trends, making Spearman more suitable than Pearson in capturing their relationships without assuming linearity.\n",
        "\n",
        "The resulting correlation matrix was visualized using a heatmap, providing a clear and intuitive visual representation of the correlation magnitudes and directions."
      ],
      "metadata": {
        "id": "ZJ9xJnv-7c-H"
      }
    },
    {
      "cell_type": "code",
      "source": [
        "# Calculate correlation matrix\n",
        "correlation = df_merged.drop(columns=[\"Time\"]).corr(method=\"spearman\")\n",
        "\n",
        "# Generating heatmap\n",
        "plt.figure(figsize=(8, 6))\n",
        "\n",
        "sns.heatmap(correlation, annot=True, cmap=\"coolwarm\", fmt=\".2f\", linewidths=0.5)\n",
        "\n",
        "plt.title(\"Correlation Heatmap\")\n",
        "plt.tight_layout()\n",
        "plt.show()"
      ],
      "metadata": {
        "id": "gfTgA1Ot6uXT",
        "colab": {
          "base_uri": "https://localhost:8080/",
          "height": 607
        },
        "outputId": "3e92ac63-2d4b-47aa-da11-091d3474f45d"
      },
      "execution_count": null,
      "outputs": [
        {
          "output_type": "display_data",
          "data": {
            "text/plain": [
              "<Figure size 800x600 with 2 Axes>"
            ],
            "image/png": "[encoded data removed]"
          },
          "metadata": {}
        }
      ]
    },
    {
      "cell_type": "markdown",
      "source": [
        "From the correlation analysis, it can be concluded that there is a ***strong positive correlation (+0.84)*** between **EV sales** and the **number of charging stations**, indicating that as the number of charging stations increases, sales tend to rise as well, supporting our hypothesis that infrastructure for EVs is a critical enabler.\n",
        "\n",
        "On the other hand, the correlation between **EV sales** and **gasoline price** is ***weak but notable (+0.32)***, suggesting a moderate relationship. This indicates that gasoline prices may provide a cost inventive for consumers to switch to or adopt EVs, though this relationship is not dominant or explicitly clear.\n",
        "\n",
        "These findings provide initial evidence supporting our modeling and analysis that uses the cumulative EV charging stations and gasoline prices as predictors of EV adoption in our coming regression analysis."
      ],
      "metadata": {
        "id": "aNq8wU0l8Pz6"
      }
    },
    {
      "cell_type": "markdown",
      "source": [
        "### Time Series Forecasting"
      ],
      "metadata": {
        "id": "OUTXCkKBoKvz"
      }
    },
    {
      "cell_type": "markdown",
      "source": [
        "#### Cumulative Charging Station Forecasting"
      ],
      "metadata": {
        "id": "dLJcX63vqOkp"
      }
    },
    {
      "cell_type": "markdown",
      "source": [
        "To forecast future EV charging station infrastructure, we treated the `Cumulative EV Charging Stations` as a univariate time series."
      ],
      "metadata": {
        "id": "J05xvKhvXxps"
      }
    },
    {
      "cell_type": "code",
      "source": [
        "# Set \"Time\" as the index\n",
        "ts = df_merged.set_index(\"Time\")\n",
        "ts.index = pd.to_datetime(ts.index, format='%Y/%m')\n",
        "\n",
        "# Retain only \"Cumulative Charging Stations\"\n",
        "ts = ts[\"Cumulative Charging Stations\"]\n",
        "\n",
        "print(ts)"
      ],
      "metadata": {
        "id": "Rxo1Pls6oJQh",
        "colab": {
          "base_uri": "https://localhost:8080/"
        },
        "outputId": "fb34c64e-a749-4e07-910e-ea7f00882fa6"
      },
      "execution_count": null,
      "outputs": [
        {
          "output_type": "stream",
          "name": "stdout",
          "text": [
            "Time\n",
            "2010-12-01      154.0\n",
            "2011-01-01      162.0\n",
            "2011-02-01      172.0\n",
            "2011-03-01      642.0\n",
            "2011-04-01      655.0\n",
            "               ...   \n",
            "2024-08-01    65054.0\n",
            "2024-09-01    65055.0\n",
            "2024-10-01    65055.0\n",
            "2024-11-01    65055.0\n",
            "2024-12-01    65055.0\n",
            "Name: Cumulative Charging Stations, Length: 169, dtype: float64\n"
          ]
        }
      ]
    },
    {
      "cell_type": "markdown",
      "source": [
        "The initial time series is plotted."
      ],
      "metadata": {
        "id": "bQ0aZJvyX-Gm"
      }
    },
    {
      "cell_type": "code",
      "source": [
        "ts.plot(figsize=(10, 4), color=\"#6050D4\", title=\"Cumulative Charging Stations Over Time\")\n",
        "plt.ylabel(\"Stations\")\n",
        "plt.show()"
      ],
      "metadata": {
        "id": "0zVv3jNqYBuW",
        "colab": {
          "base_uri": "https://localhost:8080/",
          "height": 410
        },
        "outputId": "2f77c3c6-ed48-49a5-8230-bdb2179ab265"
      },
      "execution_count": null,
      "outputs": [
        {
          "output_type": "display_data",
          "data": {
            "text/plain": [
              "<Figure size 1000x400 with 1 Axes>"
            ],
            "image/png": "[encoded data removed]"
          },
          "metadata": {}
        }
      ]
    },
    {
      "cell_type": "markdown",
      "source": [
        "To determine the appropriate degree of differencing (\"d\") for our time series analysis, we conducted an **Augmented Dickey-Fuller Test**. This test helps assess the **stationarity** of our time series, i.e. whether the model's properties depend on the time at which the series is observed. Here, our null  and alternative hypotheses are the following:\n",
        "- **Null Hypothesis**: It is non-stationary (exhibits trends and/or seasonality that varies over time).\n",
        "- **Alternative Hypothesis**: It is stationary (its statistical properties are consistent over time)."
      ],
      "metadata": {
        "id": "VFtlGpeViZ1P"
      }
    },
    {
      "cell_type": "code",
      "source": [
        "# Initial Test for Stationary\n",
        "adf_result = adfuller(ts)[1]\n",
        "print(adf_result)"
      ],
      "metadata": {
        "id": "J53D2GVNg-Kf",
        "colab": {
          "base_uri": "https://localhost:8080/"
        },
        "outputId": "f602b7cf-6e7d-4b58-ff26-e65d5b0363e2"
      },
      "execution_count": null,
      "outputs": [
        {
          "output_type": "stream",
          "name": "stdout",
          "text": [
            "0.9675948822808471\n"
          ]
        }
      ]
    },
    {
      "cell_type": "markdown",
      "source": [
        "The Augmented Dickey-Fuller Test gives a **p-value of 0.9606**, a large value that indicates insufficient evidence to reject the null hypothesis. This means that the time series is **non-stationary**, and that **differencing** needs to be carried out until p < 0.05."
      ],
      "metadata": {
        "id": "LK6ign6hi-Bz"
      }
    },
    {
      "cell_type": "code",
      "source": [
        "ts_diff = ts.copy()\n",
        "\n",
        "d = 0 # number of times of differencing needed to the series stationary\n",
        "while adf_result > 0.05:\n",
        "  d += 1\n",
        "  ts_diff = ts_diff.diff().dropna()\n",
        "  adf_result = adfuller(ts_diff)[1]\n",
        "  print(f\"p-value: {adf_result}\")\n",
        "\n",
        "print(f\"d = {d}\")"
      ],
      "metadata": {
        "id": "EgOpDgjoj1Mh",
        "colab": {
          "base_uri": "https://localhost:8080/"
        },
        "outputId": "7f61a949-9465-46cc-b3ae-8829d585cd85"
      },
      "execution_count": null,
      "outputs": [
        {
          "output_type": "stream",
          "name": "stdout",
          "text": [
            "p-value: 0.19161958348245411\n",
            "p-value: 4.884372583427337e-19\n",
            "d = 2\n"
          ]
        }
      ]
    },
    {
      "cell_type": "code",
      "source": [
        "ts_diff.plot(figsize=(10, 4), color=\"#6050D4\", title=\"Cumulative Charging Stations Over Time\")\n",
        "plt.ylabel(\"Stations\")\n",
        "plt.show()"
      ],
      "metadata": {
        "id": "c1BZFWGMyZG-",
        "colab": {
          "base_uri": "https://localhost:8080/",
          "height": 410
        },
        "outputId": "8639530c-e453-43a1-c5d5-be692c40aaf6"
      },
      "execution_count": null,
      "outputs": [
        {
          "output_type": "display_data",
          "data": {
            "text/plain": [
              "<Figure size 1000x400 with 1 Axes>"
            ],
            "image/png": "[encoded data removed]"
          },
          "metadata": {}
        }
      ]
    },
    {
      "cell_type": "markdown",
      "source": [
        "After **two rounds of differencing (d = 2)**, the p-value falls under 0.05, indicating that the series is stationary. This can be visualised using the plot of the differenced series. Given this, we proceed to fit the ARIMA model to our data."
      ],
      "metadata": {
        "id": "05_ikZ5y2aPi"
      }
    },
    {
      "cell_type": "code",
      "source": [
        "# Using d = 2, the model is fit.\n",
        "pm.auto_arima(ts, d=2, seasonal=True, m=12, trace=True).summary()"
      ],
      "metadata": {
        "id": "c223lfvvwnOL",
        "colab": {
          "base_uri": "https://localhost:8080/",
          "height": 1000
        },
        "outputId": "df6eb674-dbcc-4c63-87de-2152787ccdca"
      },
      "execution_count": null,
      "outputs": [
        {
          "output_type": "stream",
          "name": "stderr",
          "text": [
            "/usr/local/lib/python3.11/dist-packages/sklearn/utils/deprecation.py:151: FutureWarning:\n",
            "\n",
            "'force_all_finite' was renamed to 'ensure_all_finite' in 1.6 and will be removed in 1.8.\n",
            "\n",
            "/usr/local/lib/python3.11/dist-packages/sklearn/utils/deprecation.py:151: FutureWarning:\n",
            "\n",
            "'force_all_finite' was renamed to 'ensure_all_finite' in 1.6 and will be removed in 1.8.\n",
            "\n",
            "/usr/local/lib/python3.11/dist-packages/sklearn/utils/deprecation.py:151: FutureWarning:\n",
            "\n",
            "'force_all_finite' was renamed to 'ensure_all_finite' in 1.6 and will be removed in 1.8.\n",
            "\n",
            "/usr/local/lib/python3.11/dist-packages/sklearn/utils/deprecation.py:151: FutureWarning:\n",
            "\n",
            "'force_all_finite' was renamed to 'ensure_all_finite' in 1.6 and will be removed in 1.8.\n",
            "\n"
          ]
        },
        {
          "output_type": "stream",
          "name": "stdout",
          "text": [
            "Performing stepwise search to minimize aic\n",
            " ARIMA(2,2,2)(1,0,1)[12]             : AIC=2677.836, Time=3.19 sec\n",
            " ARIMA(0,2,0)(0,0,0)[12]             : AIC=2766.179, Time=0.05 sec\n"
          ]
        },
        {
          "output_type": "stream",
          "name": "stderr",
          "text": [
            "/usr/local/lib/python3.11/dist-packages/sklearn/utils/deprecation.py:151: FutureWarning:\n",
            "\n",
            "'force_all_finite' was renamed to 'ensure_all_finite' in 1.6 and will be removed in 1.8.\n",
            "\n",
            "/usr/local/lib/python3.11/dist-packages/sklearn/utils/deprecation.py:151: FutureWarning:\n",
            "\n",
            "'force_all_finite' was renamed to 'ensure_all_finite' in 1.6 and will be removed in 1.8.\n",
            "\n"
          ]
        },
        {
          "output_type": "stream",
          "name": "stdout",
          "text": [
            " ARIMA(1,2,0)(1,0,0)[12]             : AIC=2725.086, Time=0.17 sec\n"
          ]
        },
        {
          "output_type": "stream",
          "name": "stderr",
          "text": [
            "/usr/local/lib/python3.11/dist-packages/sklearn/utils/deprecation.py:151: FutureWarning:\n",
            "\n",
            "'force_all_finite' was renamed to 'ensure_all_finite' in 1.6 and will be removed in 1.8.\n",
            "\n"
          ]
        },
        {
          "output_type": "stream",
          "name": "stdout",
          "text": [
            " ARIMA(0,2,1)(0,0,1)[12]             : AIC=2671.216, Time=0.38 sec\n",
            " ARIMA(0,2,1)(0,0,0)[12]             : AIC=2669.308, Time=0.08 sec\n"
          ]
        },
        {
          "output_type": "stream",
          "name": "stderr",
          "text": [
            "/usr/local/lib/python3.11/dist-packages/sklearn/utils/deprecation.py:151: FutureWarning:\n",
            "\n",
            "'force_all_finite' was renamed to 'ensure_all_finite' in 1.6 and will be removed in 1.8.\n",
            "\n",
            "/usr/local/lib/python3.11/dist-packages/sklearn/utils/deprecation.py:151: FutureWarning:\n",
            "\n",
            "'force_all_finite' was renamed to 'ensure_all_finite' in 1.6 and will be removed in 1.8.\n",
            "\n"
          ]
        },
        {
          "output_type": "stream",
          "name": "stdout",
          "text": [
            " ARIMA(0,2,1)(1,0,0)[12]             : AIC=2671.217, Time=0.25 sec\n"
          ]
        },
        {
          "output_type": "stream",
          "name": "stderr",
          "text": [
            "/usr/local/lib/python3.11/dist-packages/sklearn/utils/deprecation.py:151: FutureWarning:\n",
            "\n",
            "'force_all_finite' was renamed to 'ensure_all_finite' in 1.6 and will be removed in 1.8.\n",
            "\n"
          ]
        },
        {
          "output_type": "stream",
          "name": "stdout",
          "text": [
            " ARIMA(0,2,1)(1,0,1)[12]             : AIC=inf, Time=0.43 sec\n",
            " ARIMA(1,2,1)(0,0,0)[12]             : AIC=2671.277, Time=0.15 sec\n"
          ]
        },
        {
          "output_type": "stream",
          "name": "stderr",
          "text": [
            "/usr/local/lib/python3.11/dist-packages/sklearn/utils/deprecation.py:151: FutureWarning:\n",
            "\n",
            "'force_all_finite' was renamed to 'ensure_all_finite' in 1.6 and will be removed in 1.8.\n",
            "\n",
            "/usr/local/lib/python3.11/dist-packages/sklearn/utils/deprecation.py:151: FutureWarning:\n",
            "\n",
            "'force_all_finite' was renamed to 'ensure_all_finite' in 1.6 and will be removed in 1.8.\n",
            "\n"
          ]
        },
        {
          "output_type": "stream",
          "name": "stdout",
          "text": [
            " ARIMA(0,2,2)(0,0,0)[12]             : AIC=2671.273, Time=0.15 sec\n",
            " ARIMA(1,2,0)(0,0,0)[12]             : AIC=2723.093, Time=0.03 sec\n"
          ]
        },
        {
          "output_type": "stream",
          "name": "stderr",
          "text": [
            "/usr/local/lib/python3.11/dist-packages/sklearn/utils/deprecation.py:151: FutureWarning:\n",
            "\n",
            "'force_all_finite' was renamed to 'ensure_all_finite' in 1.6 and will be removed in 1.8.\n",
            "\n",
            "/usr/local/lib/python3.11/dist-packages/sklearn/utils/deprecation.py:151: FutureWarning:\n",
            "\n",
            "'force_all_finite' was renamed to 'ensure_all_finite' in 1.6 and will be removed in 1.8.\n",
            "\n"
          ]
        },
        {
          "output_type": "stream",
          "name": "stdout",
          "text": [
            " ARIMA(1,2,2)(0,0,0)[12]             : AIC=2672.208, Time=0.33 sec\n",
            " ARIMA(0,2,1)(0,0,0)[12] intercept   : AIC=2671.262, Time=0.14 sec\n",
            "\n",
            "Best model:  ARIMA(0,2,1)(0,0,0)[12]          \n",
            "Total fit time: 5.389 seconds\n"
          ]
        },
        {
          "output_type": "stream",
          "name": "stderr",
          "text": [
            "/usr/local/lib/python3.11/dist-packages/sklearn/utils/deprecation.py:151: FutureWarning:\n",
            "\n",
            "'force_all_finite' was renamed to 'ensure_all_finite' in 1.6 and will be removed in 1.8.\n",
            "\n"
          ]
        },
        {
          "output_type": "execute_result",
          "data": {
            "text/plain": [
              "<class 'statsmodels.iolib.summary.Summary'>\n",
              "\"\"\"\n",
              "                               SARIMAX Results                                \n",
              "==============================================================================\n",
              "Dep. Variable:                      y   No. Observations:                  169\n",
              "Model:               SARIMAX(0, 2, 1)   Log Likelihood               -1332.654\n",
              "Date:                Sun, 27 Apr 2025   AIC                           2669.308\n",
              "Time:                        14:17:51   BIC                           2675.544\n",
              "Sample:                    12-01-2010   HQIC                          2671.839\n",
              "                         - 12-01-2024                                         \n",
              "Covariance Type:                  opg                                         \n",
              "==============================================================================\n",
              "                 coef    std err          z      P>|z|      [0.025      0.975]\n",
              "------------------------------------------------------------------------------\n",
              "ma.L1         -0.8905      0.041    -21.783      0.000      -0.971      -0.810\n",
              "sigma2       4.97e+05   8321.852     59.725      0.000    4.81e+05    5.13e+05\n",
              "===================================================================================\n",
              "Ljung-Box (L1) (Q):                   0.04   Jarque-Bera (JB):             89274.27\n",
              "Prob(Q):                              0.83   Prob(JB):                         0.00\n",
              "Heteroskedasticity (H):             103.06   Skew:                             9.81\n",
              "Prob(H) (two-sided):                  0.00   Kurtosis:                       114.56\n",
              "===================================================================================\n",
              "\n",
              "Warnings:\n",
              "[1] Covariance matrix calculated using the outer product of gradients (complex-step).\n",
              "\"\"\""
            ],
            "text/html": [
              "<table class=\"simpletable\">\n",
              "<caption>SARIMAX Results</caption>\n",
              "<tr>\n",
              "  <th>Dep. Variable:</th>           <td>y</td>        <th>  No. Observations:  </th>    <td>169</td>   \n",
              "</tr>\n",
              "<tr>\n",
              "  <th>Model:</th>           <td>SARIMAX(0, 2, 1)</td> <th>  Log Likelihood     </th> <td>-1332.654</td>\n",
              "</tr>\n",
              "<tr>\n",
              "  <th>Date:</th>            <td>Sun, 27 Apr 2025</td> <th>  AIC                </th> <td>2669.308</td> \n",
              "</tr>\n",
              "<tr>\n",
              "  <th>Time:</th>                <td>14:17:51</td>     <th>  BIC                </th> <td>2675.544</td> \n",
              "</tr>\n",
              "<tr>\n",
              "  <th>Sample:</th>             <td>12-01-2010</td>    <th>  HQIC               </th> <td>2671.839</td> \n",
              "</tr>\n",
              "<tr>\n",
              "  <th></th>                   <td>- 12-01-2024</td>   <th>                     </th>     <td> </td>    \n",
              "</tr>\n",
              "<tr>\n",
              "  <th>Covariance Type:</th>        <td>opg</td>       <th>                     </th>     <td> </td>    \n",
              "</tr>\n",
              "</table>\n",
              "<table class=\"simpletable\">\n",
              "<tr>\n",
              "     <td></td>       <th>coef</th>     <th>std err</th>      <th>z</th>      <th>P>|z|</th>  <th>[0.025</th>    <th>0.975]</th>  \n",
              "</tr>\n",
              "<tr>\n",
              "  <th>ma.L1</th>  <td>   -0.8905</td> <td>    0.041</td> <td>  -21.783</td> <td> 0.000</td> <td>   -0.971</td> <td>   -0.810</td>\n",
              "</tr>\n",
              "<tr>\n",
              "  <th>sigma2</th> <td>  4.97e+05</td> <td> 8321.852</td> <td>   59.725</td> <td> 0.000</td> <td> 4.81e+05</td> <td> 5.13e+05</td>\n",
              "</tr>\n",
              "</table>\n",
              "<table class=\"simpletable\">\n",
              "<tr>\n",
              "  <th>Ljung-Box (L1) (Q):</th>      <td>0.04</td>  <th>  Jarque-Bera (JB):  </th> <td>89274.27</td>\n",
              "</tr>\n",
              "<tr>\n",
              "  <th>Prob(Q):</th>                 <td>0.83</td>  <th>  Prob(JB):          </th>   <td>0.00</td>  \n",
              "</tr>\n",
              "<tr>\n",
              "  <th>Heteroskedasticity (H):</th> <td>103.06</td> <th>  Skew:              </th>   <td>9.81</td>  \n",
              "</tr>\n",
              "<tr>\n",
              "  <th>Prob(H) (two-sided):</th>     <td>0.00</td>  <th>  Kurtosis:          </th>  <td>114.56</td> \n",
              "</tr>\n",
              "</table><br/><br/>Warnings:<br/>[1] Covariance matrix calculated using the outer product of gradients (complex-step)."
            ],
            "text/latex": "\\begin{center}\n\\begin{tabular}{lclc}\n\\toprule\n\\textbf{Dep. Variable:}          &        y         & \\textbf{  No. Observations:  } &    169      \\\\\n\\textbf{Model:}                  & SARIMAX(0, 2, 1) & \\textbf{  Log Likelihood     } & -1332.654   \\\\\n\\textbf{Date:}                   & Sun, 27 Apr 2025 & \\textbf{  AIC                } &  2669.308   \\\\\n\\textbf{Time:}                   &     14:17:51     & \\textbf{  BIC                } &  2675.544   \\\\\n\\textbf{Sample:}                 &    12-01-2010    & \\textbf{  HQIC               } &  2671.839   \\\\\n\\textbf{}                        &   - 12-01-2024   & \\textbf{                     } &             \\\\\n\\textbf{Covariance Type:}        &       opg        & \\textbf{                     } &             \\\\\n\\bottomrule\n\\end{tabular}\n\\begin{tabular}{lcccccc}\n                & \\textbf{coef} & \\textbf{std err} & \\textbf{z} & \\textbf{P$> |$z$|$} & \\textbf{[0.025} & \\textbf{0.975]}  \\\\\n\\midrule\n\\textbf{ma.L1}  &      -0.8905  &        0.041     &   -21.783  &         0.000        &       -0.971    &       -0.810     \\\\\n\\textbf{sigma2} &     4.97e+05  &     8321.852     &    59.725  &         0.000        &     4.81e+05    &     5.13e+05     \\\\\n\\bottomrule\n\\end{tabular}\n\\begin{tabular}{lclc}\n\\textbf{Ljung-Box (L1) (Q):}     &  0.04  & \\textbf{  Jarque-Bera (JB):  } & 89274.27  \\\\\n\\textbf{Prob(Q):}                &  0.83  & \\textbf{  Prob(JB):          } &   0.00    \\\\\n\\textbf{Heteroskedasticity (H):} & 103.06 & \\textbf{  Skew:              } &   9.81    \\\\\n\\textbf{Prob(H) (two-sided):}    &  0.00  & \\textbf{  Kurtosis:          } &  114.56   \\\\\n\\bottomrule\n\\end{tabular}\n%\\caption{SARIMAX Results}\n\\end{center}\n\nWarnings: \\newline\n [1] Covariance matrix calculated using the outer product of gradients (complex-step)."
          },
          "metadata": {},
          "execution_count": 43
        }
      ]
    },
    {
      "cell_type": "markdown",
      "source": [
        "We then identified a `SARIMAX(0,2,1)` model as the best fit. The seasonal component (m=12) captures yearly patterns in the growth of cumulative EV charging stations, which may be driven by the USA's annual policy cycles, or fiscal planning from relevant stakeholders."
      ],
      "metadata": {
        "id": "RakA6U5AAF9W"
      }
    },
    {
      "cell_type": "code",
      "source": [
        "# Fit the ARIMA(0, 2, 1) model\n",
        "model = SARIMAX(ts, order=(0, 2, 1), seasonal_order=(1, 1, 1, 12))\n",
        "model_fit = model.fit()\n",
        "\n",
        "# Forecast into 2030, that is, the next 5 years\n",
        "forecast = model_fit.forecast(steps=60)\n",
        "\n",
        "print(forecast)"
      ],
      "metadata": {
        "id": "k2LOXR6k9ta2",
        "colab": {
          "base_uri": "https://localhost:8080/"
        },
        "outputId": "151db4f9-76f3-4b9f-c019-5de8ab7dfde1"
      },
      "execution_count": null,
      "outputs": [
        {
          "output_type": "stream",
          "name": "stderr",
          "text": [
            "/usr/local/lib/python3.11/dist-packages/statsmodels/tsa/base/tsa_model.py:473: ValueWarning:\n",
            "\n",
            "No frequency information was provided, so inferred frequency MS will be used.\n",
            "\n",
            "/usr/local/lib/python3.11/dist-packages/statsmodels/tsa/base/tsa_model.py:473: ValueWarning:\n",
            "\n",
            "No frequency information was provided, so inferred frequency MS will be used.\n",
            "\n"
          ]
        },
        {
          "output_type": "stream",
          "name": "stdout",
          "text": [
            "2025-01-01    65991.245990\n",
            "2025-02-01    66248.803198\n",
            "2025-03-01    66577.683807\n",
            "2025-04-01    66860.367093\n",
            "2025-05-01    67161.469830\n",
            "2025-06-01    67644.304314\n",
            "2025-07-01    67913.999514\n",
            "2025-08-01    68237.446018\n",
            "2025-09-01    68589.960466\n",
            "2025-10-01    68958.973125\n",
            "2025-11-01    69259.418747\n",
            "2025-12-01    69599.801435\n",
            "2026-01-01    70558.753173\n",
            "2026-02-01    70841.030825\n",
            "2026-03-01    71170.655184\n",
            "2026-04-01    71457.217192\n",
            "2026-05-01    71760.948698\n",
            "2026-06-01    72234.079549\n",
            "2026-07-01    72508.534848\n",
            "2026-08-01    72833.093864\n",
            "2026-09-01    73184.816118\n",
            "2026-10-01    73551.849148\n",
            "2026-11-01    73854.968131\n",
            "2026-12-01    74195.314032\n",
            "2027-01-01    75175.786691\n",
            "2027-02-01    75479.448546\n",
            "2027-03-01    75832.084178\n",
            "2027-04-01    76141.444718\n",
            "2027-05-01    76468.059578\n",
            "2027-06-01    76964.910667\n",
            "2027-07-01    77262.104687\n",
            "2027-08-01    77609.649951\n",
            "2027-09-01    77984.487708\n",
            "2027-10-01    78374.716820\n",
            "2027-11-01    78700.716132\n",
            "2027-12-01    79064.126274\n",
            "2028-01-01    80066.200257\n",
            "2028-02-01    80391.472714\n",
            "2028-03-01    80765.608533\n",
            "2028-04-01    81096.483698\n",
            "2028-05-01    81444.607428\n",
            "2028-06-01    81962.910593\n",
            "2028-07-01    82281.623298\n",
            "2028-08-01    82650.670447\n",
            "2028-09-01    83047.001320\n",
            "2028-10-01    83458.718078\n",
            "2028-11-01    83806.226464\n",
            "2028-12-01    84191.133199\n",
            "2029-01-01    85214.803051\n",
            "2029-02-01    85561.670746\n",
            "2029-03-01    85957.409296\n",
            "2029-04-01    86309.886213\n",
            "2029-05-01    86679.612084\n",
            "2029-06-01    87219.521245\n",
            "2029-07-01    87559.835426\n",
            "2029-08-01    87950.485191\n",
            "2029-09-01    88368.419275\n",
            "2029-10-01    88801.739616\n",
            "2029-11-01    89170.850129\n",
            "2029-12-01    89577.359839\n",
            "Freq: MS, Name: predicted_mean, dtype: float64\n"
          ]
        }
      ]
    },
    {
      "cell_type": "code",
      "source": [
        "# Plotting historical data\n",
        "plt.figure(figsize=(10, 4))\n",
        "plt.plot(ts, label=\"Historical\", color=\"#6050D4\")\n",
        "\n",
        "# Plotting forecasted data\n",
        "plt.plot(forecast, label=\"Forecast\", color=\"#FFA500\")\n",
        "\n",
        "# Plotting confidence interval\n",
        "forecast_ci = model_fit.get_forecast(steps=len(forecast)).conf_int()\n",
        "plt.fill_between(forecast_ci.index, forecast_ci.iloc[:, 0], forecast_ci.iloc[:, 1], color=\"orange\", alpha=0.3, label=\"Confidence Interval\")\n",
        "\n",
        "# Title, Labels and Legend\n",
        "plt.title(\"Cumulative Charging Stations Over Time with Confidence Interval\")\n",
        "\n",
        "plt.xlabel(\"Date\")\n",
        "plt.ylabel(\"Stations\")\n",
        "\n",
        "plt.legend()\n",
        "\n",
        "plt.show()"
      ],
      "metadata": {
        "id": "cfEPvsENMZU3",
        "colab": {
          "base_uri": "https://localhost:8080/",
          "height": 410
        },
        "outputId": "d9996ecc-dc80-47a6-c3a4-8928a4982ef9"
      },
      "execution_count": null,
      "outputs": [
        {
          "output_type": "display_data",
          "data": {
            "text/plain": [
              "<Figure size 1000x400 with 1 Axes>"
            ],
            "image/png": "[encoded data removed]"
          },
          "metadata": {}
        }
      ]
    },
    {
      "cell_type": "markdown",
      "source": [
        "Here, we forecasted the number of charging stations **five years into the future (up to 2030)**. This included forecasts with **95% confidence intervals**, offering a probability-based interpretation of future trends. Moreover, this forecast shows a **continued upward trajectory**, consistent with historical trends, and supporting the assumption that investment in EV infrastructure is ongoing, and growth will continue.\n"
      ],
      "metadata": {
        "id": "aDsfWhDC4Q2w"
      }
    },
    {
      "cell_type": "markdown",
      "source": [
        "### Gasoline Price Forecasting"
      ],
      "metadata": {
        "id": "ek9yKDT3j5ao"
      }
    },
    {
      "cell_type": "code",
      "source": [
        "# Set \"Time\" as the index\n",
        "ts1 = df_merged.set_index(\"Time\")\n",
        "ts1.index = pd.to_datetime(ts.index, format='%Y/%m')\n",
        "\n",
        "# Retain only \"Gasoline Price\"\n",
        "ts1 = ts1[\"Gasoline Price\"]\n",
        "\n",
        "print(ts1)"
      ],
      "metadata": {
        "id": "swpRrcvVkF1L",
        "colab": {
          "base_uri": "https://localhost:8080/"
        },
        "outputId": "d4ee98c8-49cd-421d-a61a-5c704c8bff6f"
      },
      "execution_count": null,
      "outputs": [
        {
          "output_type": "stream",
          "name": "stdout",
          "text": [
            "Time\n",
            "2010-12-01    3.048\n",
            "2011-01-01    3.148\n",
            "2011-02-01    3.264\n",
            "2011-03-01    3.615\n",
            "2011-04-01    3.852\n",
            "              ...  \n",
            "2024-08-01    3.507\n",
            "2024-09-01    3.338\n",
            "2024-10-01    3.261\n",
            "2024-11-01    3.175\n",
            "2024-12-01    3.139\n",
            "Name: Gasoline Price, Length: 169, dtype: float64\n"
          ]
        }
      ]
    },
    {
      "cell_type": "code",
      "source": [
        "ts1.plot(figsize=(10, 4), color=\"#6050D4\", title=\"Gasoline Price Over Time\")\n",
        "plt.ylabel(\"Gasoline Price\")\n",
        "plt.show()"
      ],
      "metadata": {
        "id": "bEfMrb1wkP1P",
        "colab": {
          "base_uri": "https://localhost:8080/",
          "height": 410
        },
        "outputId": "8c0f1cdc-223a-46d3-9804-c1f64c2c09aa"
      },
      "execution_count": null,
      "outputs": [
        {
          "output_type": "display_data",
          "data": {
            "text/plain": [
              "<Figure size 1000x400 with 1 Axes>"
            ],
            "image/png": "[encoded data removed]"
          },
          "metadata": {}
        }
      ]
    },
    {
      "cell_type": "markdown",
      "source": [
        "Again, we conducted the **Augmented Dickey-Fuller Test** to determine the appropriate degree of differencing (\"d\") with the following hypotheses:\n",
        "- **Null Hypothesis**: It is non-stationary (exhibits trends and/or seasonality that varies over time).\n",
        "- **Alternative Hypothesis**: It is stationary (its statistical properties are consistent over time).\n"
      ],
      "metadata": {
        "id": "H-J6IqNMkkvU"
      }
    },
    {
      "cell_type": "code",
      "source": [
        "# Initial Test for Stationary\n",
        "adf_result = adfuller(ts1)[1]\n",
        "print(adf_result)"
      ],
      "metadata": {
        "id": "0McTWtCikp-d",
        "colab": {
          "base_uri": "https://localhost:8080/"
        },
        "outputId": "863873e5-1084-47d1-ecc5-e5e409e45249"
      },
      "execution_count": null,
      "outputs": [
        {
          "output_type": "stream",
          "name": "stdout",
          "text": [
            "0.20008742817126524\n"
          ]
        }
      ]
    },
    {
      "cell_type": "markdown",
      "source": [
        "The test gives a **p-value** of **0.19998**, a large number providing insufficient evidence to reject null hypothesis. This means that the gasoline price series is also **non-stationary**, and that differencing needs to be carried out until p < 0.05."
      ],
      "metadata": {
        "id": "jXXZR4W-kySO"
      }
    },
    {
      "cell_type": "code",
      "source": [
        "ts1_diff = ts1.copy()\n",
        "\n",
        "d = 0 # number of times of differencing needed to the series stationary\n",
        "while adf_result > 0.05:\n",
        "  d += 1\n",
        "  ts1_diff = ts1_diff.diff().dropna()\n",
        "  adf_result = adfuller(ts1_diff)[1]\n",
        "  print(f\"p-value: {adf_result}\")\n",
        "\n",
        "print(f\"d = {d}\")"
      ],
      "metadata": {
        "id": "DGUkFaVZk9KF",
        "colab": {
          "base_uri": "https://localhost:8080/"
        },
        "outputId": "fa114867-c929-4e94-a9de-7084c5970194"
      },
      "execution_count": null,
      "outputs": [
        {
          "output_type": "stream",
          "name": "stdout",
          "text": [
            "p-value: 1.7491332091270983e-14\n",
            "d = 1\n"
          ]
        }
      ]
    },
    {
      "cell_type": "code",
      "source": [
        "ts1_diff.plot(figsize=(10, 4), color=\"#6050D4\", title=\"Gasoline Over Time\")\n",
        "plt.ylabel(\"Gasoline Price\")\n",
        "plt.show()"
      ],
      "metadata": {
        "id": "cQn_w4krlFZs",
        "colab": {
          "base_uri": "https://localhost:8080/",
          "height": 410
        },
        "outputId": "74af5ee7-58ce-4032-ec4a-bf6674491ec8"
      },
      "execution_count": null,
      "outputs": [
        {
          "output_type": "display_data",
          "data": {
            "text/plain": [
              "<Figure size 1000x400 with 1 Axes>"
            ],
            "image/png": "[encoded data removed]"
          },
          "metadata": {}
        }
      ]
    },
    {
      "cell_type": "markdown",
      "source": [
        "After a single round of differencing (d = 1), the p-value fell under 0.05, indicating that the series has achieved stationarity. This can be visualised using the plot of the differenced series."
      ],
      "metadata": {
        "id": "ThoHEiuqlbBi"
      }
    },
    {
      "cell_type": "code",
      "source": [
        "# Using d = 1, the model is fit.\n",
        "pm.auto_arima(ts1, d=1, seasonal=True, m=12, trace=True).summary()"
      ],
      "metadata": {
        "id": "l9bJguRNlglU",
        "colab": {
          "base_uri": "https://localhost:8080/",
          "height": 1000
        },
        "outputId": "6cf3d47d-1ed3-4fa1-eaf3-fe547e9ea4f4"
      },
      "execution_count": null,
      "outputs": [
        {
          "output_type": "stream",
          "name": "stderr",
          "text": [
            "/usr/local/lib/python3.11/dist-packages/sklearn/utils/deprecation.py:151: FutureWarning:\n",
            "\n",
            "'force_all_finite' was renamed to 'ensure_all_finite' in 1.6 and will be removed in 1.8.\n",
            "\n",
            "/usr/local/lib/python3.11/dist-packages/sklearn/utils/deprecation.py:151: FutureWarning:\n",
            "\n",
            "'force_all_finite' was renamed to 'ensure_all_finite' in 1.6 and will be removed in 1.8.\n",
            "\n",
            "/usr/local/lib/python3.11/dist-packages/sklearn/utils/deprecation.py:151: FutureWarning:\n",
            "\n",
            "'force_all_finite' was renamed to 'ensure_all_finite' in 1.6 and will be removed in 1.8.\n",
            "\n",
            "/usr/local/lib/python3.11/dist-packages/sklearn/utils/deprecation.py:151: FutureWarning:\n",
            "\n",
            "'force_all_finite' was renamed to 'ensure_all_finite' in 1.6 and will be removed in 1.8.\n",
            "\n"
          ]
        },
        {
          "output_type": "stream",
          "name": "stdout",
          "text": [
            "Performing stepwise search to minimize aic\n",
            " ARIMA(2,1,2)(1,0,1)[12] intercept   : AIC=inf, Time=1.58 sec\n",
            " ARIMA(0,1,0)(0,0,0)[12] intercept   : AIC=-110.322, Time=0.06 sec\n"
          ]
        },
        {
          "output_type": "stream",
          "name": "stderr",
          "text": [
            "/usr/local/lib/python3.11/dist-packages/sklearn/utils/deprecation.py:151: FutureWarning:\n",
            "\n",
            "'force_all_finite' was renamed to 'ensure_all_finite' in 1.6 and will be removed in 1.8.\n",
            "\n",
            "/usr/local/lib/python3.11/dist-packages/sklearn/utils/deprecation.py:151: FutureWarning:\n",
            "\n",
            "'force_all_finite' was renamed to 'ensure_all_finite' in 1.6 and will be removed in 1.8.\n",
            "\n"
          ]
        },
        {
          "output_type": "stream",
          "name": "stdout",
          "text": [
            " ARIMA(1,1,0)(1,0,0)[12] intercept   : AIC=-133.317, Time=0.25 sec\n"
          ]
        },
        {
          "output_type": "stream",
          "name": "stderr",
          "text": [
            "/usr/local/lib/python3.11/dist-packages/sklearn/utils/deprecation.py:151: FutureWarning:\n",
            "\n",
            "'force_all_finite' was renamed to 'ensure_all_finite' in 1.6 and will be removed in 1.8.\n",
            "\n"
          ]
        },
        {
          "output_type": "stream",
          "name": "stdout",
          "text": [
            " ARIMA(0,1,1)(0,0,1)[12] intercept   : AIC=-140.759, Time=0.26 sec\n",
            " ARIMA(0,1,0)(0,0,0)[12]             : AIC=-112.320, Time=0.03 sec\n",
            " ARIMA(0,1,1)(0,0,0)[12] intercept   : AIC=-140.961, Time=0.08 sec\n"
          ]
        },
        {
          "output_type": "stream",
          "name": "stderr",
          "text": [
            "/usr/local/lib/python3.11/dist-packages/sklearn/utils/deprecation.py:151: FutureWarning:\n",
            "\n",
            "'force_all_finite' was renamed to 'ensure_all_finite' in 1.6 and will be removed in 1.8.\n",
            "\n",
            "/usr/local/lib/python3.11/dist-packages/sklearn/utils/deprecation.py:151: FutureWarning:\n",
            "\n",
            "'force_all_finite' was renamed to 'ensure_all_finite' in 1.6 and will be removed in 1.8.\n",
            "\n",
            "/usr/local/lib/python3.11/dist-packages/sklearn/utils/deprecation.py:151: FutureWarning:\n",
            "\n",
            "'force_all_finite' was renamed to 'ensure_all_finite' in 1.6 and will be removed in 1.8.\n",
            "\n"
          ]
        },
        {
          "output_type": "stream",
          "name": "stdout",
          "text": [
            " ARIMA(0,1,1)(1,0,0)[12] intercept   : AIC=-140.917, Time=0.27 sec\n"
          ]
        },
        {
          "output_type": "stream",
          "name": "stderr",
          "text": [
            "/usr/local/lib/python3.11/dist-packages/sklearn/utils/deprecation.py:151: FutureWarning:\n",
            "\n",
            "'force_all_finite' was renamed to 'ensure_all_finite' in 1.6 and will be removed in 1.8.\n",
            "\n"
          ]
        },
        {
          "output_type": "stream",
          "name": "stdout",
          "text": [
            " ARIMA(0,1,1)(1,0,1)[12] intercept   : AIC=inf, Time=0.96 sec\n",
            " ARIMA(1,1,1)(0,0,0)[12] intercept   : AIC=-138.987, Time=0.14 sec\n"
          ]
        },
        {
          "output_type": "stream",
          "name": "stderr",
          "text": [
            "/usr/local/lib/python3.11/dist-packages/sklearn/utils/deprecation.py:151: FutureWarning:\n",
            "\n",
            "'force_all_finite' was renamed to 'ensure_all_finite' in 1.6 and will be removed in 1.8.\n",
            "\n",
            "/usr/local/lib/python3.11/dist-packages/sklearn/utils/deprecation.py:151: FutureWarning:\n",
            "\n",
            "'force_all_finite' was renamed to 'ensure_all_finite' in 1.6 and will be removed in 1.8.\n",
            "\n"
          ]
        },
        {
          "output_type": "stream",
          "name": "stdout",
          "text": [
            " ARIMA(0,1,2)(0,0,0)[12] intercept   : AIC=-138.989, Time=0.14 sec\n",
            " ARIMA(1,1,0)(0,0,0)[12] intercept   : AIC=-133.553, Time=0.08 sec\n"
          ]
        },
        {
          "output_type": "stream",
          "name": "stderr",
          "text": [
            "/usr/local/lib/python3.11/dist-packages/sklearn/utils/deprecation.py:151: FutureWarning:\n",
            "\n",
            "'force_all_finite' was renamed to 'ensure_all_finite' in 1.6 and will be removed in 1.8.\n",
            "\n",
            "/usr/local/lib/python3.11/dist-packages/sklearn/utils/deprecation.py:151: FutureWarning:\n",
            "\n",
            "'force_all_finite' was renamed to 'ensure_all_finite' in 1.6 and will be removed in 1.8.\n",
            "\n"
          ]
        },
        {
          "output_type": "stream",
          "name": "stdout",
          "text": [
            " ARIMA(1,1,2)(0,0,0)[12] intercept   : AIC=inf, Time=0.50 sec\n",
            " ARIMA(0,1,1)(0,0,0)[12]             : AIC=-142.959, Time=0.08 sec\n",
            " ARIMA(0,1,1)(1,0,0)[12]             : AIC=-142.915, Time=0.12 sec\n"
          ]
        },
        {
          "output_type": "stream",
          "name": "stderr",
          "text": [
            "/usr/local/lib/python3.11/dist-packages/sklearn/utils/deprecation.py:151: FutureWarning:\n",
            "\n",
            "'force_all_finite' was renamed to 'ensure_all_finite' in 1.6 and will be removed in 1.8.\n",
            "\n",
            "/usr/local/lib/python3.11/dist-packages/sklearn/utils/deprecation.py:151: FutureWarning:\n",
            "\n",
            "'force_all_finite' was renamed to 'ensure_all_finite' in 1.6 and will be removed in 1.8.\n",
            "\n",
            "/usr/local/lib/python3.11/dist-packages/sklearn/utils/deprecation.py:151: FutureWarning:\n",
            "\n",
            "'force_all_finite' was renamed to 'ensure_all_finite' in 1.6 and will be removed in 1.8.\n",
            "\n"
          ]
        },
        {
          "output_type": "stream",
          "name": "stdout",
          "text": [
            " ARIMA(0,1,1)(0,0,1)[12]             : AIC=-142.756, Time=0.16 sec\n"
          ]
        },
        {
          "output_type": "stream",
          "name": "stderr",
          "text": [
            "/usr/local/lib/python3.11/dist-packages/sklearn/utils/deprecation.py:151: FutureWarning:\n",
            "\n",
            "'force_all_finite' was renamed to 'ensure_all_finite' in 1.6 and will be removed in 1.8.\n",
            "\n"
          ]
        },
        {
          "output_type": "stream",
          "name": "stdout",
          "text": [
            " ARIMA(0,1,1)(1,0,1)[12]             : AIC=inf, Time=0.92 sec\n",
            " ARIMA(1,1,1)(0,0,0)[12]             : AIC=-140.984, Time=0.08 sec\n",
            " ARIMA(0,1,2)(0,0,0)[12]             : AIC=-140.987, Time=0.09 sec\n"
          ]
        },
        {
          "output_type": "stream",
          "name": "stderr",
          "text": [
            "/usr/local/lib/python3.11/dist-packages/sklearn/utils/deprecation.py:151: FutureWarning:\n",
            "\n",
            "'force_all_finite' was renamed to 'ensure_all_finite' in 1.6 and will be removed in 1.8.\n",
            "\n",
            "/usr/local/lib/python3.11/dist-packages/sklearn/utils/deprecation.py:151: FutureWarning:\n",
            "\n",
            "'force_all_finite' was renamed to 'ensure_all_finite' in 1.6 and will be removed in 1.8.\n",
            "\n",
            "/usr/local/lib/python3.11/dist-packages/sklearn/utils/deprecation.py:151: FutureWarning:\n",
            "\n",
            "'force_all_finite' was renamed to 'ensure_all_finite' in 1.6 and will be removed in 1.8.\n",
            "\n"
          ]
        },
        {
          "output_type": "stream",
          "name": "stdout",
          "text": [
            " ARIMA(1,1,0)(0,0,0)[12]             : AIC=-135.551, Time=0.05 sec\n"
          ]
        },
        {
          "output_type": "stream",
          "name": "stderr",
          "text": [
            "/usr/local/lib/python3.11/dist-packages/sklearn/utils/deprecation.py:151: FutureWarning:\n",
            "\n",
            "'force_all_finite' was renamed to 'ensure_all_finite' in 1.6 and will be removed in 1.8.\n",
            "\n"
          ]
        },
        {
          "output_type": "stream",
          "name": "stdout",
          "text": [
            " ARIMA(1,1,2)(0,0,0)[12]             : AIC=inf, Time=1.01 sec\n",
            "\n",
            "Best model:  ARIMA(0,1,1)(0,0,0)[12]          \n",
            "Total fit time: 6.900 seconds\n"
          ]
        },
        {
          "output_type": "execute_result",
          "data": {
            "text/plain": [
              "<class 'statsmodels.iolib.summary.Summary'>\n",
              "\"\"\"\n",
              "                               SARIMAX Results                                \n",
              "==============================================================================\n",
              "Dep. Variable:                      y   No. Observations:                  169\n",
              "Model:               SARIMAX(0, 1, 1)   Log Likelihood                  73.479\n",
              "Date:                Sun, 27 Apr 2025   AIC                           -142.959\n",
              "Time:                        14:18:00   BIC                           -136.711\n",
              "Sample:                    12-01-2010   HQIC                          -140.423\n",
              "                         - 12-01-2024                                         \n",
              "Covariance Type:                  opg                                         \n",
              "==============================================================================\n",
              "                 coef    std err          z      P>|z|      [0.025      0.975]\n",
              "------------------------------------------------------------------------------\n",
              "ma.L1          0.4686      0.043     10.816      0.000       0.384       0.553\n",
              "sigma2         0.0244      0.002     12.639      0.000       0.021       0.028\n",
              "===================================================================================\n",
              "Ljung-Box (L1) (Q):                   0.00   Jarque-Bera (JB):                26.70\n",
              "Prob(Q):                              0.96   Prob(JB):                         0.00\n",
              "Heteroskedasticity (H):               1.83   Skew:                             0.30\n",
              "Prob(H) (two-sided):                  0.03   Kurtosis:                         4.86\n",
              "===================================================================================\n",
              "\n",
              "Warnings:\n",
              "[1] Covariance matrix calculated using the outer product of gradients (complex-step).\n",
              "\"\"\""
            ],
            "text/html": [
              "<table class=\"simpletable\">\n",
              "<caption>SARIMAX Results</caption>\n",
              "<tr>\n",
              "  <th>Dep. Variable:</th>           <td>y</td>        <th>  No. Observations:  </th>    <td>169</td>  \n",
              "</tr>\n",
              "<tr>\n",
              "  <th>Model:</th>           <td>SARIMAX(0, 1, 1)</td> <th>  Log Likelihood     </th>  <td>73.479</td> \n",
              "</tr>\n",
              "<tr>\n",
              "  <th>Date:</th>            <td>Sun, 27 Apr 2025</td> <th>  AIC                </th> <td>-142.959</td>\n",
              "</tr>\n",
              "<tr>\n",
              "  <th>Time:</th>                <td>14:18:00</td>     <th>  BIC                </th> <td>-136.711</td>\n",
              "</tr>\n",
              "<tr>\n",
              "  <th>Sample:</th>             <td>12-01-2010</td>    <th>  HQIC               </th> <td>-140.423</td>\n",
              "</tr>\n",
              "<tr>\n",
              "  <th></th>                   <td>- 12-01-2024</td>   <th>                     </th>     <td> </td>   \n",
              "</tr>\n",
              "<tr>\n",
              "  <th>Covariance Type:</th>        <td>opg</td>       <th>                     </th>     <td> </td>   \n",
              "</tr>\n",
              "</table>\n",
              "<table class=\"simpletable\">\n",
              "<tr>\n",
              "     <td></td>       <th>coef</th>     <th>std err</th>      <th>z</th>      <th>P>|z|</th>  <th>[0.025</th>    <th>0.975]</th>  \n",
              "</tr>\n",
              "<tr>\n",
              "  <th>ma.L1</th>  <td>    0.4686</td> <td>    0.043</td> <td>   10.816</td> <td> 0.000</td> <td>    0.384</td> <td>    0.553</td>\n",
              "</tr>\n",
              "<tr>\n",
              "  <th>sigma2</th> <td>    0.0244</td> <td>    0.002</td> <td>   12.639</td> <td> 0.000</td> <td>    0.021</td> <td>    0.028</td>\n",
              "</tr>\n",
              "</table>\n",
              "<table class=\"simpletable\">\n",
              "<tr>\n",
              "  <th>Ljung-Box (L1) (Q):</th>     <td>0.00</td> <th>  Jarque-Bera (JB):  </th> <td>26.70</td>\n",
              "</tr>\n",
              "<tr>\n",
              "  <th>Prob(Q):</th>                <td>0.96</td> <th>  Prob(JB):          </th> <td>0.00</td> \n",
              "</tr>\n",
              "<tr>\n",
              "  <th>Heteroskedasticity (H):</th> <td>1.83</td> <th>  Skew:              </th> <td>0.30</td> \n",
              "</tr>\n",
              "<tr>\n",
              "  <th>Prob(H) (two-sided):</th>    <td>0.03</td> <th>  Kurtosis:          </th> <td>4.86</td> \n",
              "</tr>\n",
              "</table><br/><br/>Warnings:<br/>[1] Covariance matrix calculated using the outer product of gradients (complex-step)."
            ],
            "text/latex": "\\begin{center}\n\\begin{tabular}{lclc}\n\\toprule\n\\textbf{Dep. Variable:}          &        y         & \\textbf{  No. Observations:  } &    169      \\\\\n\\textbf{Model:}                  & SARIMAX(0, 1, 1) & \\textbf{  Log Likelihood     } &   73.479    \\\\\n\\textbf{Date:}                   & Sun, 27 Apr 2025 & \\textbf{  AIC                } &  -142.959   \\\\\n\\textbf{Time:}                   &     14:18:00     & \\textbf{  BIC                } &  -136.711   \\\\\n\\textbf{Sample:}                 &    12-01-2010    & \\textbf{  HQIC               } &  -140.423   \\\\\n\\textbf{}                        &   - 12-01-2024   & \\textbf{                     } &             \\\\\n\\textbf{Covariance Type:}        &       opg        & \\textbf{                     } &             \\\\\n\\bottomrule\n\\end{tabular}\n\\begin{tabular}{lcccccc}\n                & \\textbf{coef} & \\textbf{std err} & \\textbf{z} & \\textbf{P$> |$z$|$} & \\textbf{[0.025} & \\textbf{0.975]}  \\\\\n\\midrule\n\\textbf{ma.L1}  &       0.4686  &        0.043     &    10.816  &         0.000        &        0.384    &        0.553     \\\\\n\\textbf{sigma2} &       0.0244  &        0.002     &    12.639  &         0.000        &        0.021    &        0.028     \\\\\n\\bottomrule\n\\end{tabular}\n\\begin{tabular}{lclc}\n\\textbf{Ljung-Box (L1) (Q):}     & 0.00 & \\textbf{  Jarque-Bera (JB):  } & 26.70  \\\\\n\\textbf{Prob(Q):}                & 0.96 & \\textbf{  Prob(JB):          } &  0.00  \\\\\n\\textbf{Heteroskedasticity (H):} & 1.83 & \\textbf{  Skew:              } &  0.30  \\\\\n\\textbf{Prob(H) (two-sided):}    & 0.03 & \\textbf{  Kurtosis:          } &  4.86  \\\\\n\\bottomrule\n\\end{tabular}\n%\\caption{SARIMAX Results}\n\\end{center}\n\nWarnings: \\newline\n [1] Covariance matrix calculated using the outer product of gradients (complex-step)."
          },
          "metadata": {},
          "execution_count": 51
        }
      ]
    },
    {
      "cell_type": "markdown",
      "source": [
        "The best-fit ARIMA model identified was `SARIMAX(0, 1, 1)`, again accounting for seasonal fluctuations with m = 12, and hence we proceed to fit the model."
      ],
      "metadata": {
        "id": "Ar3lwE9ql0TC"
      }
    },
    {
      "cell_type": "code",
      "source": [
        "# Fit the ARIMA(0, 1, 1) model\n",
        "model = SARIMAX(ts1, order=(0, 1, 1), seasonal_order=(1, 1, 1, 12))\n",
        "model_fit = model.fit()\n",
        "\n",
        "# Forecast into 2030, that is, the next 5 years\n",
        "forecast1 = model_fit.forecast(steps=60)\n",
        "\n",
        "\n",
        "print(forecast1)"
      ],
      "metadata": {
        "id": "nJSTt8pul_1k",
        "colab": {
          "base_uri": "https://localhost:8080/"
        },
        "outputId": "8553abbd-4057-40b8-96cb-08df7e0969d0"
      },
      "execution_count": null,
      "outputs": [
        {
          "output_type": "stream",
          "name": "stderr",
          "text": [
            "/usr/local/lib/python3.11/dist-packages/statsmodels/tsa/base/tsa_model.py:473: ValueWarning:\n",
            "\n",
            "No frequency information was provided, so inferred frequency MS will be used.\n",
            "\n",
            "/usr/local/lib/python3.11/dist-packages/statsmodels/tsa/base/tsa_model.py:473: ValueWarning:\n",
            "\n",
            "No frequency information was provided, so inferred frequency MS will be used.\n",
            "\n"
          ]
        },
        {
          "output_type": "stream",
          "name": "stdout",
          "text": [
            "2025-01-01    3.174635\n",
            "2025-02-01    3.253602\n",
            "2025-03-01    3.437038\n",
            "2025-04-01    3.500272\n",
            "2025-05-01    3.570352\n",
            "2025-06-01    3.587384\n",
            "2025-07-01    3.546838\n",
            "2025-08-01    3.508409\n",
            "2025-09-01    3.478930\n",
            "2025-10-01    3.416641\n",
            "2025-11-01    3.306310\n",
            "2025-12-01    3.184901\n",
            "2026-01-01    3.186751\n",
            "2026-02-01    3.265810\n",
            "2026-03-01    3.449301\n",
            "2026-04-01    3.512763\n",
            "2026-05-01    3.582703\n",
            "2026-06-01    3.599440\n",
            "2026-07-01    3.559009\n",
            "2026-08-01    3.520483\n",
            "2026-09-01    3.490754\n",
            "2026-10-01    3.428439\n",
            "2026-11-01    3.318152\n",
            "2026-12-01    3.196895\n",
            "2027-01-01    3.198805\n",
            "2027-02-01    3.277864\n",
            "2027-03-01    3.461355\n",
            "2027-04-01    3.524816\n",
            "2027-05-01    3.594757\n",
            "2027-06-01    3.611494\n",
            "2027-07-01    3.571063\n",
            "2027-08-01    3.532537\n",
            "2027-09-01    3.502809\n",
            "2027-10-01    3.440494\n",
            "2027-11-01    3.330207\n",
            "2027-12-01    3.208950\n",
            "2028-01-01    3.210859\n",
            "2028-02-01    3.289918\n",
            "2028-03-01    3.473409\n",
            "2028-04-01    3.536870\n",
            "2028-05-01    3.606811\n",
            "2028-06-01    3.623548\n",
            "2028-07-01    3.583117\n",
            "2028-08-01    3.544591\n",
            "2028-09-01    3.514863\n",
            "2028-10-01    3.452548\n",
            "2028-11-01    3.342261\n",
            "2028-12-01    3.221004\n",
            "2029-01-01    3.222913\n",
            "2029-02-01    3.301973\n",
            "2029-03-01    3.485463\n",
            "2029-04-01    3.548925\n",
            "2029-05-01    3.618865\n",
            "2029-06-01    3.635603\n",
            "2029-07-01    3.595171\n",
            "2029-08-01    3.556645\n",
            "2029-09-01    3.526918\n",
            "2029-10-01    3.464603\n",
            "2029-11-01    3.354315\n",
            "2029-12-01    3.233058\n",
            "Freq: MS, Name: predicted_mean, dtype: float64\n"
          ]
        }
      ]
    },
    {
      "cell_type": "code",
      "source": [
        "# Plotting historical data\n",
        "plt.figure(figsize=(10, 4))\n",
        "plt.plot(ts1, label=\"Historical\", color=\"#6050D4\")\n",
        "\n",
        "# Plotting forecasted data\n",
        "plt.plot(forecast1, label=\"Forecast\", color=\"#FFA500\")\n",
        "\n",
        "# Plotting confidence interval\n",
        "forecast_ci = model_fit.get_forecast(steps=len(forecast)).conf_int()\n",
        "plt.fill_between(forecast_ci.index, forecast_ci.iloc[:, 0], forecast_ci.iloc[:, 1], color=\"orange\", alpha=0.3, label=\"Confidence Interval\")\n",
        "\n",
        "# Title, Labels and Legend\n",
        "plt.title(\"Cumulative Charging Stations Over Time with Confidence Interval\")\n",
        "\n",
        "plt.xlabel(\"Date\")\n",
        "plt.ylabel(\"Stations\")\n",
        "\n",
        "plt.legend()\n",
        "\n",
        "plt.show()"
      ],
      "metadata": {
        "id": "Ls5VXCIpmMWH",
        "colab": {
          "base_uri": "https://localhost:8080/",
          "height": 410
        },
        "outputId": "6709e180-c2a4-4bed-8d05-7cc596a81190"
      },
      "execution_count": null,
      "outputs": [
        {
          "output_type": "display_data",
          "data": {
            "text/plain": [
              "<Figure size 1000x400 with 1 Axes>"
            ],
            "image/png": "[encoded data removed]"
          },
          "metadata": {}
        }
      ]
    },
    {
      "cell_type": "markdown",
      "source": [
        "Like with the series for the cumulative EV charging stations, we also extended the gasoline price series **5 years forward** into **2030**, where the confidence interval is also illustrated. The results suggest a **net-zero** trend, with **recurring seasonal fluctuations** in between, suggesting that gasoline prices are to change seasonally and return to previous prices repeatedly with the seasonality."
      ],
      "metadata": {
        "id": "Aphg2cGd4wAt"
      }
    },
    {
      "cell_type": "markdown",
      "source": [
        "These time series forecasts form inputs for our final regression model, where they act as **predictors**, for our EV adoption rate forecasts."
      ],
      "metadata": {
        "id": "YmHIVmsV4yIO"
      }
    },
    {
      "cell_type": "markdown",
      "source": [
        "### Regression Analysis"
      ],
      "metadata": {
        "id": "fr2h_mwsoM1g"
      }
    },
    {
      "cell_type": "markdown",
      "source": [
        "Given the relationship between `Adoption Rate`, `Cumulative Charging Stations`, and `Gasoline Price`, we aim to employ **Ordinary Least Square (OLS)** model to forecast adoption rates over the next five years.\n",
        "\n",
        "The process is carried out in the following steps:\n",
        "1. **Model Training**: Using historical data, a multiple linear regression model is fit with `Cumulative Charging Stations` and `Gasoline Price` as predictors of EV adoption rate.\n",
        "2. **Model Evaluation**: The regression summary is printed, and key metrics such as adjusted R-squared and p-values are assessed to evaluate model performance.\n",
        "3. **Forecast-Based Prediction**: Forecasted values of `Cumulative Charging Stations` and `Gasoline Price` from the ARIMA model are input into the trained regression model to predict EV adoption rates for the next five years."
      ],
      "metadata": {
        "id": "sgskN2qroVWi"
      }
    },
    {
      "cell_type": "markdown",
      "source": [
        "#### Assessing Skewness"
      ],
      "metadata": {
        "id": "MB6-X5ZCriJK"
      }
    },
    {
      "cell_type": "markdown",
      "source": [
        "We begin by testing the **skewness** of the features to assess the symmetry of their distributions.\n"
      ],
      "metadata": {
        "id": "SyfdReamglN-"
      }
    },
    {
      "cell_type": "code",
      "source": [
        "print(\"Adoption Rate:\", skew(df_merged[\"Adoption Rate\"]))\n",
        "print(\"Cumulative Charging Stations:\", skew(df_merged[\"Cumulative Charging Stations\"]))\n",
        "print(\"Gasoline Price:\", skew(df_merged[\"Gasoline Price\"]))"
      ],
      "metadata": {
        "id": "ASa-cf7hfB_W",
        "colab": {
          "base_uri": "https://localhost:8080/"
        },
        "outputId": "06f9129a-aeee-4bc3-85f7-783aef6308fd"
      },
      "execution_count": null,
      "outputs": [
        {
          "output_type": "stream",
          "name": "stdout",
          "text": [
            "Adoption Rate: 1.3881290850318488\n",
            "Cumulative Charging Stations: 1.0522957671482986\n",
            "Gasoline Price: 0.11556558024132894\n"
          ]
        }
      ]
    },
    {
      "cell_type": "markdown",
      "source": [
        "Both Adoption Rate and Cumulative Charging Stations exhibit **skewness greater than 1**, suggesting a high level of **asymmetry in their distributions**.  \n",
        "\n",
        "To stabilize variance and improve model performance, we apply a **log transformation** prior to fitting a linear regression model."
      ],
      "metadata": {
        "id": "gYw8yVvqf5eu"
      }
    },
    {
      "cell_type": "markdown",
      "source": [
        "#### Applying Log Transformation"
      ],
      "metadata": {
        "id": "LuCR9lxyrvXQ"
      }
    },
    {
      "cell_type": "code",
      "source": [
        "# Appling log transformation and preparing independent variables\n",
        "X = pd.DataFrame({\n",
        "    \"Log Charging Stations\": np.log1p(df_merged[\"Cumulative Charging Stations\"]),\n",
        "    \"Gasoline Price\": df_merged[\"Gasoline Price\"]\n",
        "})\n",
        "\n",
        "# Applying log transformation to dependent variable too\n",
        "y = np.log1p(df_merged[\"Adoption Rate\"])"
      ],
      "metadata": {
        "id": "44fD8mQh9sLG"
      },
      "execution_count": null,
      "outputs": []
    },
    {
      "cell_type": "markdown",
      "source": [
        "With the regression model established, we proceed to use the previously forecasted time series values of `Cumulative Charging Stations` and `Gasoline Price` as inputs.\n",
        "\n",
        "These forecasts are then fed into the model to predict the future `Adoption Rate`, leveraging the relationships identified in our earlier analysis."
      ],
      "metadata": {
        "id": "hcldFtyyiLfF"
      }
    },
    {
      "cell_type": "markdown",
      "source": [
        "#### Fitting the Model"
      ],
      "metadata": {
        "id": "viWEXs_aj91b"
      }
    },
    {
      "cell_type": "code",
      "source": [
        "# Fitting the OLS model\n",
        "X = sm.add_constant(X)\n",
        "model = sm.OLS(y, X).fit()"
      ],
      "metadata": {
        "id": "059oqC44j7FZ"
      },
      "execution_count": null,
      "outputs": []
    },
    {
      "cell_type": "markdown",
      "source": [
        "#### Evaluating the Model"
      ],
      "metadata": {
        "id": "WJOFPps1mHll"
      }
    },
    {
      "cell_type": "code",
      "source": [
        "print(model.summary())"
      ],
      "metadata": {
        "id": "-bDEAX2XmHCx",
        "colab": {
          "base_uri": "https://localhost:8080/"
        },
        "outputId": "606e39a8-aa57-4245-f407-d31fe9bd809c"
      },
      "execution_count": null,
      "outputs": [
        {
          "output_type": "stream",
          "name": "stdout",
          "text": [
            "                            OLS Regression Results                            \n",
            "==============================================================================\n",
            "Dep. Variable:          Adoption Rate   R-squared:                       0.868\n",
            "Model:                            OLS   Adj. R-squared:                  0.867\n",
            "Method:                 Least Squares   F-statistic:                     547.4\n",
            "Date:                Sun, 27 Apr 2025   Prob (F-statistic):           8.25e-74\n",
            "Time:                        14:18:03   Log-Likelihood:                 17.993\n",
            "No. Observations:                 169   AIC:                            -29.99\n",
            "Df Residuals:                     166   BIC:                            -20.60\n",
            "Df Model:                           2                                         \n",
            "Covariance Type:            nonrobust                                         \n",
            "=========================================================================================\n",
            "                            coef    std err          t      P>|t|      [0.025      0.975]\n",
            "-----------------------------------------------------------------------------------------\n",
            "const                    -2.7624      0.143    -19.353      0.000      -3.044      -2.481\n",
            "Log Charging Stations     0.3692      0.012     29.917      0.000       0.345       0.394\n",
            "Gasoline Price            0.3888      0.027     14.280      0.000       0.335       0.443\n",
            "==============================================================================\n",
            "Omnibus:                       61.259   Durbin-Watson:                   0.210\n",
            "Prob(Omnibus):                  0.000   Jarque-Bera (JB):              182.027\n",
            "Skew:                           1.464   Prob(JB):                     2.97e-40\n",
            "Kurtosis:                       7.157   Cond. No.                         83.8\n",
            "==============================================================================\n",
            "\n",
            "Notes:\n",
            "[1] Standard Errors assume that the covariance matrix of the errors is correctly specified.\n"
          ]
        }
      ]
    },
    {
      "cell_type": "markdown",
      "source": [
        "The OLS regression model yields a **strong fit**, with an **adjusted R-squared value of 0.867**, indicating that approximately 87% of the variance in Adoption Rate is explained by the predictors: `Log Charging Stations` and `Gasoline Price`. Both independent variables are **highly significant (p-values < 0.001)**, suggesting strong linear relationships with the dependent variable."
      ],
      "metadata": {
        "id": "XD-z4dXYhien"
      }
    },
    {
      "cell_type": "markdown",
      "source": [
        "#### Forecasting Adoption Rate"
      ],
      "metadata": {
        "id": "yEYX_QyRkFin"
      }
    },
    {
      "cell_type": "code",
      "source": [
        "# Applying log transformation to our forecast features\n",
        "forecast_features = pd.DataFrame({\n",
        "    \"Log Charging Stations\": np.log1p(forecast),  # match model input\n",
        "    \"Gasoline Price\": forecast1\n",
        "})\n",
        "\n",
        "# Making predictions in log1p scale\n",
        "forecast_features = sm.add_constant(forecast_features)\n",
        "adoption_rate_forecasted_log = model.predict(forecast_features)\n",
        "\n",
        "# Converting predictions back to original scale\n",
        "adoption_rate_forecasted = np.expm1(adoption_rate_forecasted_log)\n",
        "\n",
        "# Printing the result\n",
        "df_forecasted = pd.DataFrame({\n",
        "    \"Time\": pd.date_range(forecast.index.min(), forecast.index.max(), freq=\"MS\"),\n",
        "    \"Adoption Rate\": adoption_rate_forecasted\n",
        "})\n",
        "\n",
        "df_forecasted = df_forecasted.set_index(\"Time\")\n",
        "print(df_forecasted)"
      ],
      "metadata": {
        "id": "UfsMPQ5H_Cie",
        "colab": {
          "base_uri": "https://localhost:8080/"
        },
        "outputId": "8838fa64-7059-4378-d0d2-1f1de3cd47b4"
      },
      "execution_count": null,
      "outputs": [
        {
          "output_type": "stream",
          "name": "stdout",
          "text": [
            "            Adoption Rate\n",
            "Time                     \n",
            "2025-01-01      12.057151\n",
            "2025-02-01      12.483622\n",
            "2025-03-01      13.506871\n",
            "2025-04-01      13.891216\n",
            "2025-05-01      14.327934\n",
            "2025-06-01      14.470638\n",
            "2025-07-01      14.251061\n",
            "2025-08-01      14.051274\n",
            "2025-09-01      13.908086\n",
            "2025-10-01      13.580246\n",
            "2025-11-01      12.990482\n",
            "2025-12-01      12.369619\n",
            "2026-01-01      12.447005\n",
            "2026-02-01      12.887208\n",
            "2026-03-01      13.939692\n",
            "2026-04-01      14.335623\n",
            "2026-05-01      14.783053\n",
            "2026-06-01      14.924682\n",
            "2026-07-01      14.698280\n",
            "2026-08-01      14.490419\n",
            "2026-09-01      14.339672\n",
            "2026-10-01      14.000178\n",
            "2026-11-01      13.392423\n",
            "2026-12-01      12.752989\n",
            "2027-01-01      12.830078\n",
            "2027-02-01      13.283025\n",
            "2027-03-01      14.365613\n",
            "2027-04-01      14.773138\n",
            "2027-05-01      15.233567\n",
            "2027-06-01      15.378667\n",
            "2027-07-01      15.146178\n",
            "2027-08-01      14.932516\n",
            "2027-09-01      14.777473\n",
            "2027-10-01      14.428227\n",
            "2027-11-01      13.803337\n",
            "2027-12-01      13.145694\n",
            "2028-01-01      13.222181\n",
            "2028-02-01      13.688095\n",
            "2028-03-01      14.801280\n",
            "2028-04-01      15.220463\n",
            "2028-05-01      15.693969\n",
            "2028-06-01      15.842358\n",
            "2028-07-01      15.603452\n",
            "2028-08-01      15.383661\n",
            "2028-09-01      15.224022\n",
            "2028-10-01      14.864621\n",
            "2028-11-01      14.222080\n",
            "2028-12-01      13.545701\n",
            "2029-01-01      13.621604\n",
            "2029-02-01      14.100647\n",
            "2029-03-01      15.244927\n",
            "2029-04-01      15.675903\n",
            "2029-05-01      16.162647\n",
            "2029-06-01      16.314344\n",
            "2029-07-01      16.068827\n",
            "2029-08-01      15.842729\n",
            "2029-09-01      15.678351\n",
            "2029-10-01      15.308562\n",
            "2029-11-01      14.647999\n",
            "2029-12-01      13.952508\n"
          ]
        }
      ]
    },
    {
      "cell_type": "markdown",
      "source": [
        "When applying a log transformation during model training and prediction (log1p and expm1), **numerical discrepancies** can arise due to scaling differences or transformations that **aren't perfectly invertible**—especially when compounded with forward-looking inputs like forecasts. These predicted values, while directionally accurate, may not align perfectly with the most recent actual data point.\n",
        "\n",
        "By adjusting the forecasted series to match the last observed value (December 2024), we ensure continuity between historical data and future predictions. This scaling aligns the forecast with reality, which:\n",
        "\n",
        "- reduces visual or interpretive discontinuities in the trend line\n",
        "- Corrects any bias introduced from the log transformation and model scaling effects\n",
        "\n",
        "Essentially, we're anchoring our future predictions to the most recent known value to **preserve coherence in our overall time series**."
      ],
      "metadata": {
        "id": "vt2gMgPmmdA9"
      }
    },
    {
      "cell_type": "markdown",
      "source": [
        "#### Adjusting the Forecast"
      ],
      "metadata": {
        "id": "I4cKVK6DoBGO"
      }
    },
    {
      "cell_type": "code",
      "source": [
        "# Using December 2024 as the base value\n",
        "base_val = df_merged[\"Adoption Rate\"].iloc[-1]\n",
        "\n",
        "first_pred_val = adoption_rate_forecasted.iloc[0]\n",
        "\n",
        "# Calculating scaling ratio\n",
        "scaling_factor = base_val / first_pred_val\n",
        "\n",
        "# Adjusting entire forecast\n",
        "df_forecasted[\"Adoption Rate\"] = df_forecasted[\"Adoption Rate\"] * scaling_factor\n",
        "\n",
        "print(df_forecasted)"
      ],
      "metadata": {
        "id": "TpyxIy87nG7h",
        "colab": {
          "base_uri": "https://localhost:8080/"
        },
        "outputId": "4c5573bc-8e14-4523-a93a-7cedd8431b7b"
      },
      "execution_count": null,
      "outputs": [
        {
          "output_type": "stream",
          "name": "stdout",
          "text": [
            "            Adoption Rate\n",
            "Time                     \n",
            "2025-01-01      22.358823\n",
            "2025-02-01      23.149671\n",
            "2025-03-01      25.047188\n",
            "2025-04-01      25.759919\n",
            "2025-05-01      26.569769\n",
            "2025-06-01      26.834400\n",
            "2025-07-01      26.427216\n",
            "2025-08-01      26.056731\n",
            "2025-09-01      25.791201\n",
            "2025-10-01      25.183254\n",
            "2025-11-01      24.089593\n",
            "2025-12-01      22.938264\n",
            "2026-01-01      23.081768\n",
            "2026-02-01      23.898083\n",
            "2026-03-01      25.849812\n",
            "2026-04-01      26.584029\n",
            "2026-05-01      27.413744\n",
            "2026-06-01      27.676381\n",
            "2026-07-01      27.256541\n",
            "2026-08-01      26.871082\n",
            "2026-09-01      26.591536\n",
            "2026-10-01      25.961978\n",
            "2026-11-01      24.834955\n",
            "2026-12-01      23.649186\n",
            "2027-01-01      23.792141\n",
            "2027-02-01      24.632087\n",
            "2027-03-01      26.639642\n",
            "2027-04-01      27.395357\n",
            "2027-05-01      28.249179\n",
            "2027-06-01      28.518253\n",
            "2027-07-01      28.087123\n",
            "2027-08-01      27.690909\n",
            "2027-09-01      27.403396\n",
            "2027-10-01      26.755753\n",
            "2027-11-01      25.596955\n",
            "2027-12-01      24.377419\n",
            "2028-01-01      24.519258\n",
            "2028-02-01      25.383249\n",
            "2028-03-01      27.447545\n",
            "2028-04-01      28.224878\n",
            "2028-05-01      29.102950\n",
            "2028-06-01      29.378123\n",
            "2028-07-01      28.935095\n",
            "2028-08-01      28.527514\n",
            "2028-09-01      28.231478\n",
            "2028-10-01      27.565004\n",
            "2028-11-01      26.373474\n",
            "2028-12-01      25.119195\n",
            "2029-01-01      25.259949\n",
            "2029-02-01      26.148287\n",
            "2029-03-01      28.270245\n",
            "2029-04-01      29.069447\n",
            "2029-05-01      29.972068\n",
            "2029-06-01      30.253376\n",
            "2029-07-01      29.798087\n",
            "2029-08-01      29.378810\n",
            "2029-09-01      29.073987\n",
            "2029-10-01      28.388249\n",
            "2029-11-01      27.163299\n",
            "2029-12-01      25.873578\n"
          ]
        }
      ]
    },
    {
      "cell_type": "markdown",
      "source": [
        "#### Visualizing the Forecast"
      ],
      "metadata": {
        "id": "nN7mZxB4noUy"
      }
    },
    {
      "cell_type": "code",
      "source": [
        "df_merged = df_merged.set_index(\"Time\")\n",
        "df_merged.index = pd.to_datetime(df_merged.index, format='%Y/%m')\n",
        "\n",
        "# Plotting historical data\n",
        "plt.figure(figsize=(10, 4))\n",
        "plt.plot(df_merged[\"Adoption Rate\"], label=\"Historical\", color=\"#6050D4\")\n",
        "\n",
        "# Plotting forecasted data\n",
        "plt.plot(df_forecasted[\"Adoption Rate\"], label=\"Forecast\", color=\"#FFA500\")\n",
        "\n",
        "# Title, Labels and Legend\n",
        "plt.title(\"EV Adoption Rate Forecast\")\n",
        "\n",
        "plt.xlabel(\"Date\")\n",
        "plt.ylabel(\"Stations\")\n",
        "\n",
        "plt.legend()\n",
        "\n",
        "plt.show()"
      ],
      "metadata": {
        "id": "7na6WMlyDrEe",
        "colab": {
          "base_uri": "https://localhost:8080/",
          "height": 410
        },
        "outputId": "2f92ed14-8c09-4634-e132-e7bce0b76857"
      },
      "execution_count": null,
      "outputs": [
        {
          "output_type": "display_data",
          "data": {
            "text/plain": [
              "<Figure size 1000x400 with 1 Axes>"
            ],
            "image/png": "[encoded data removed]"
          },
          "metadata": {}
        }
      ]
    },
    {
      "cell_type": "markdown",
      "source": [
        "## **Possible Action Based on Results**"
      ],
      "metadata": {
        "id": "6Mp8Fb6uMQFo"
      }
    },
    {
      "cell_type": "markdown",
      "source": [
        "Based on our findings, there is clear evidence that **EV adoption is tied to both the expansion of charging infrastructure and the fluctuations in gasoline prices in the USA**.\n",
        "\n",
        "\n",
        "The forecasted trend for continued growth in EV adoption, as well as the identified correlation with the other 2 variables that causes an element of seasonality and trend to EV adoption rates, can provide valuable information for stakeholders involved:\n",
        "\n",
        "\n",
        "*   **Policy makers** can use the information towards accelerating the deployment of EV charging stations in order to bolster/encourage EV adoption in these regions.\n",
        "*   **Energy and automotive industries/businesses** can use this analysis to prepare for shifts in consumer demand influenced by trends in fuel prices and charging station infrastructure availability.\n",
        "* **Urban planners** may be able to use our model to anticipate growing EV densities and plan around this accordingly.\n",
        "* Interested **researchers and analysts** may extend our study by expanding the investigation to other regions, integrating more granularity, including data specifically from certain EV manufacturers, or involving socio or demographic data to improve precision and scope.\n"
      ],
      "metadata": {
        "id": "Oz1ByJWC2rC_"
      }
    },
    {
      "cell_type": "markdown",
      "source": [
        "## **Final Reflection**"
      ],
      "metadata": {
        "id": "ewDF7P9xMWQ6"
      }
    },
    {
      "cell_type": "markdown",
      "source": [
        "Our project illustrates the ability of **data science techniques** (e.g. statistical modeling), when combined with **real-world data**, to provide **practical and valuable insights** that are increasingly relevant today.\n",
        "\n",
        "\n",
        "Despite us focusing our investigation on the US, our analysis can be ***applicable to other developed economies and regions undergoing adoption/transitions to Electric Vehicles***, and our results may prove helpful to these economies for further planning of the EV landscape.\n",
        "\n",
        "\n",
        "Nonetheless, as with all projects and investigations, we acknowledge **limitations** such as:\n",
        "*   Our analysis results based on US data may not be applicable to all regions worldwide due to the presence of **regional disparities** (e.g. the US being a developed country, whereas our data may not be useful in LDCs with significantly less EV adoption and infrastructure)\n",
        "*   Our analysis **does not include socio-demographic data** that may potentially be impactful to the adoption of EVs (e.g. income levels, urbanisation, government EV incentives), which may lead to a generalisation where the impact of these variables are not studied or assessed.\n",
        "\n",
        "\n",
        "Nevertheless, these limitations could be improved upon with future iterations of the project that would increase in granularity by incorporating additions such as regional segmentation (e.g. LDCs), consumer buying power, and more.\n"
      ],
      "metadata": {
        "id": "FrvtCrju2IbY"
      }
    },
    {
      "cell_type": "markdown",
      "source": [
        "## **Consideration on Data Ethics**"
      ],
      "metadata": {
        "id": "NufopKpQMeJo"
      }
    },
    {
      "cell_type": "markdown",
      "source": [
        "All datasets used were publicly available (sourced from official bodies, either through Kaggle, industry/company, or government websites), non-personal, and searchable via Google. However, we do need to consider the following:\n",
        "\n",
        "\n",
        "*   **Attribution to authors**: While we referenced the source websites during the process, we did not explicitly retain all metadata giving credit, and did not mention the specific authors to the datasets. If we decided to publish the derived dataset or notebook, we would neet to make sure proper attribution is given and ensure data use is compliant with licences.\n",
        "*   **Possible data bias or lack of representation**: Our analysis reflects mainly the US EV market, which is considered already one of the most developed EV landscapes. Due to this, results may not translate or allow generalisation for developing regions or underserved communities where the EV infrastructure, and consumers' behaviours, differ.\n"
      ],
      "metadata": {
        "id": "iDeebp-8MpZJ"
      }
    },
    {
      "cell_type": "markdown",
      "source": [
        "## **Consideration on Data Privacy and Security**"
      ],
      "metadata": {
        "id": "6NlZvfB2Myny"
      }
    },
    {
      "cell_type": "markdown",
      "source": [
        "This study purely uses open data not containing any personal information. As such, there are no special risks or measures to be taken concerning data privacy or security.\n",
        "\n",
        "\n",
        "Nonetheless, if future iterations of this investigation were to incorporate more personal data, appropriate measures will need to be taken at that point to anonymize the data with regards to data privacy and security.\n"
      ],
      "metadata": {
        "id": "kgHFG2yQM2Ql"
      }
    },
    {
      "cell_type": "markdown",
      "source": [
        "THANK YOU PROF MELANIE :)"
      ],
      "metadata": {
        "id": "g797wxvQ3Lt5"
      }
    }
  ]
}
